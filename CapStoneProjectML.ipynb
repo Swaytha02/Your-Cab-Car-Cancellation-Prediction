{
  "cells": [
    {
      "cell_type": "code",
      "execution_count": 275,
      "metadata": {
        "id": "Szhc1CllJfwQ"
      },
      "outputs": [],
      "source": [
        "import pandas as pd\n",
        "import numpy as np\n",
        "import matplotlib.pyplot as plt"
      ]
    },
    {
      "cell_type": "code",
      "execution_count": 276,
      "metadata": {
        "id": "T7e1HvQ9K8mz"
      },
      "outputs": [],
      "source": [
        "data = pd.read_csv('YourCabs.csv');"
      ]
    },
    {
      "cell_type": "code",
      "execution_count": 277,
      "metadata": {
        "colab": {
          "base_uri": "https://localhost:8080/",
          "height": 399
        },
        "id": "oqGNpvwDK8pM",
        "outputId": "f58f44b0-b21c-4d3f-8cb1-74c206c48f96"
      },
      "outputs": [
        {
          "data": {
            "text/html": [
              "<div>\n",
              "<style scoped>\n",
              "    .dataframe tbody tr th:only-of-type {\n",
              "        vertical-align: middle;\n",
              "    }\n",
              "\n",
              "    .dataframe tbody tr th {\n",
              "        vertical-align: top;\n",
              "    }\n",
              "\n",
              "    .dataframe thead th {\n",
              "        text-align: right;\n",
              "    }\n",
              "</style>\n",
              "<table border=\"1\" class=\"dataframe\">\n",
              "  <thead>\n",
              "    <tr style=\"text-align: right;\">\n",
              "      <th></th>\n",
              "      <th>id</th>\n",
              "      <th>user_id</th>\n",
              "      <th>vehicle_model_id</th>\n",
              "      <th>package_id</th>\n",
              "      <th>travel_type_id</th>\n",
              "      <th>from_area_id</th>\n",
              "      <th>to_area_id</th>\n",
              "      <th>from_city_id</th>\n",
              "      <th>to_city_id</th>\n",
              "      <th>from_date</th>\n",
              "      <th>online_booking</th>\n",
              "      <th>mobile_site_booking</th>\n",
              "      <th>booking_created</th>\n",
              "      <th>from_lat</th>\n",
              "      <th>from_long</th>\n",
              "      <th>to_lat</th>\n",
              "      <th>to_long</th>\n",
              "      <th>Car_Cancellation</th>\n",
              "    </tr>\n",
              "  </thead>\n",
              "  <tbody>\n",
              "    <tr>\n",
              "      <th>0</th>\n",
              "      <td>132512</td>\n",
              "      <td>22177</td>\n",
              "      <td>28</td>\n",
              "      <td>NaN</td>\n",
              "      <td>2</td>\n",
              "      <td>83.0</td>\n",
              "      <td>448.0</td>\n",
              "      <td>NaN</td>\n",
              "      <td>NaN</td>\n",
              "      <td>01-01-2013 02:00</td>\n",
              "      <td>0</td>\n",
              "      <td>0</td>\n",
              "      <td>01-01-2013 01:39</td>\n",
              "      <td>12.924150</td>\n",
              "      <td>77.672290</td>\n",
              "      <td>12.927320</td>\n",
              "      <td>77.635750</td>\n",
              "      <td>0</td>\n",
              "    </tr>\n",
              "    <tr>\n",
              "      <th>1</th>\n",
              "      <td>132513</td>\n",
              "      <td>21413</td>\n",
              "      <td>12</td>\n",
              "      <td>NaN</td>\n",
              "      <td>2</td>\n",
              "      <td>1010.0</td>\n",
              "      <td>540.0</td>\n",
              "      <td>NaN</td>\n",
              "      <td>NaN</td>\n",
              "      <td>01-01-2013 09:00</td>\n",
              "      <td>0</td>\n",
              "      <td>0</td>\n",
              "      <td>01-01-2013 02:25</td>\n",
              "      <td>12.966910</td>\n",
              "      <td>77.749350</td>\n",
              "      <td>12.927680</td>\n",
              "      <td>77.626640</td>\n",
              "      <td>0</td>\n",
              "    </tr>\n",
              "    <tr>\n",
              "      <th>2</th>\n",
              "      <td>132514</td>\n",
              "      <td>22178</td>\n",
              "      <td>12</td>\n",
              "      <td>NaN</td>\n",
              "      <td>2</td>\n",
              "      <td>1301.0</td>\n",
              "      <td>1034.0</td>\n",
              "      <td>NaN</td>\n",
              "      <td>NaN</td>\n",
              "      <td>01-01-2013 03:30</td>\n",
              "      <td>0</td>\n",
              "      <td>0</td>\n",
              "      <td>01-01-2013 03:08</td>\n",
              "      <td>12.937222</td>\n",
              "      <td>77.626915</td>\n",
              "      <td>13.047926</td>\n",
              "      <td>77.597766</td>\n",
              "      <td>0</td>\n",
              "    </tr>\n",
              "    <tr>\n",
              "      <th>3</th>\n",
              "      <td>132515</td>\n",
              "      <td>13034</td>\n",
              "      <td>12</td>\n",
              "      <td>NaN</td>\n",
              "      <td>2</td>\n",
              "      <td>768.0</td>\n",
              "      <td>398.0</td>\n",
              "      <td>NaN</td>\n",
              "      <td>NaN</td>\n",
              "      <td>01-01-2013 05:45</td>\n",
              "      <td>0</td>\n",
              "      <td>0</td>\n",
              "      <td>01-01-2013 04:39</td>\n",
              "      <td>12.989990</td>\n",
              "      <td>77.553320</td>\n",
              "      <td>12.971430</td>\n",
              "      <td>77.639140</td>\n",
              "      <td>0</td>\n",
              "    </tr>\n",
              "    <tr>\n",
              "      <th>4</th>\n",
              "      <td>132517</td>\n",
              "      <td>22180</td>\n",
              "      <td>12</td>\n",
              "      <td>NaN</td>\n",
              "      <td>2</td>\n",
              "      <td>1365.0</td>\n",
              "      <td>849.0</td>\n",
              "      <td>NaN</td>\n",
              "      <td>NaN</td>\n",
              "      <td>01-01-2013 09:00</td>\n",
              "      <td>0</td>\n",
              "      <td>0</td>\n",
              "      <td>01-01-2013 07:53</td>\n",
              "      <td>12.845653</td>\n",
              "      <td>77.677925</td>\n",
              "      <td>12.954340</td>\n",
              "      <td>77.600720</td>\n",
              "      <td>0</td>\n",
              "    </tr>\n",
              "  </tbody>\n",
              "</table>\n",
              "</div>"
            ],
            "text/plain": [
              "       id  user_id  vehicle_model_id  package_id  travel_type_id  \\\n",
              "0  132512    22177                28         NaN               2   \n",
              "1  132513    21413                12         NaN               2   \n",
              "2  132514    22178                12         NaN               2   \n",
              "3  132515    13034                12         NaN               2   \n",
              "4  132517    22180                12         NaN               2   \n",
              "\n",
              "   from_area_id  to_area_id  from_city_id  to_city_id         from_date  \\\n",
              "0          83.0       448.0           NaN         NaN  01-01-2013 02:00   \n",
              "1        1010.0       540.0           NaN         NaN  01-01-2013 09:00   \n",
              "2        1301.0      1034.0           NaN         NaN  01-01-2013 03:30   \n",
              "3         768.0       398.0           NaN         NaN  01-01-2013 05:45   \n",
              "4        1365.0       849.0           NaN         NaN  01-01-2013 09:00   \n",
              "\n",
              "   online_booking  mobile_site_booking   booking_created   from_lat  \\\n",
              "0               0                    0  01-01-2013 01:39  12.924150   \n",
              "1               0                    0  01-01-2013 02:25  12.966910   \n",
              "2               0                    0  01-01-2013 03:08  12.937222   \n",
              "3               0                    0  01-01-2013 04:39  12.989990   \n",
              "4               0                    0  01-01-2013 07:53  12.845653   \n",
              "\n",
              "   from_long     to_lat    to_long  Car_Cancellation  \n",
              "0  77.672290  12.927320  77.635750                 0  \n",
              "1  77.749350  12.927680  77.626640                 0  \n",
              "2  77.626915  13.047926  77.597766                 0  \n",
              "3  77.553320  12.971430  77.639140                 0  \n",
              "4  77.677925  12.954340  77.600720                 0  "
            ]
          },
          "execution_count": 277,
          "metadata": {},
          "output_type": "execute_result"
        }
      ],
      "source": [
        "data.head()"
      ]
    },
    {
      "cell_type": "code",
      "execution_count": 278,
      "metadata": {
        "id": "JAmd1DH3K8rm"
      },
      "outputs": [],
      "source": [
        "data.drop(['id','vehicle_model_id','user_id'],axis=1,inplace=True)"
      ]
    },
    {
      "cell_type": "code",
      "execution_count": 279,
      "metadata": {
        "colab": {
          "base_uri": "https://localhost:8080/"
        },
        "id": "-OUQgQ_-K8t_",
        "outputId": "456edae6-abfc-4091-a3a9-9efd720fbf42"
      },
      "outputs": [
        {
          "data": {
            "text/plain": [
              "(43431, 15)"
            ]
          },
          "execution_count": 279,
          "metadata": {},
          "output_type": "execute_result"
        }
      ],
      "source": [
        "data.shape"
      ]
    },
    {
      "cell_type": "code",
      "execution_count": 280,
      "metadata": {
        "colab": {
          "base_uri": "https://localhost:8080/"
        },
        "id": "T8P2P3NzK8wi",
        "outputId": "d8e95953-73c9-44ee-e7e7-798766fe94f1"
      },
      "outputs": [
        {
          "data": {
            "text/plain": [
              "651465"
            ]
          },
          "execution_count": 280,
          "metadata": {},
          "output_type": "execute_result"
        }
      ],
      "source": [
        "data.size"
      ]
    },
    {
      "cell_type": "code",
      "execution_count": 281,
      "metadata": {
        "colab": {
          "base_uri": "https://localhost:8080/",
          "height": 554
        },
        "id": "o6bDDqanK8zI",
        "outputId": "c65af7d8-d0bb-4bd1-e3cc-714bb852cdd2"
      },
      "outputs": [
        {
          "data": {
            "text/plain": [
              "package_id             35881\n",
              "travel_type_id             0\n",
              "from_area_id              88\n",
              "to_area_id              9138\n",
              "from_city_id           27086\n",
              "to_city_id             41843\n",
              "from_date                  0\n",
              "online_booking             0\n",
              "mobile_site_booking        0\n",
              "booking_created            0\n",
              "from_lat                  93\n",
              "from_long                 93\n",
              "to_lat                  9138\n",
              "to_long                 9138\n",
              "Car_Cancellation           0\n",
              "dtype: int64"
            ]
          },
          "execution_count": 281,
          "metadata": {},
          "output_type": "execute_result"
        }
      ],
      "source": [
        "data.isnull().sum()"
      ]
    },
    {
      "cell_type": "code",
      "execution_count": 282,
      "metadata": {
        "id": "3IvcDUu4SAl4"
      },
      "outputs": [],
      "source": [
        "data1 = data[data['travel_type_id']==1]\n",
        "data2 = data[data['travel_type_id']==2]\n",
        "data3 = data[data['travel_type_id']==3]"
      ]
    },
    {
      "cell_type": "code",
      "execution_count": 283,
      "metadata": {
        "colab": {
          "base_uri": "https://localhost:8080/",
          "height": 399
        },
        "id": "2ApNDzKaTPnS",
        "outputId": "d002016c-db97-48c2-9a9e-7b2fe519c08e"
      },
      "outputs": [
        {
          "data": {
            "text/html": [
              "<div>\n",
              "<style scoped>\n",
              "    .dataframe tbody tr th:only-of-type {\n",
              "        vertical-align: middle;\n",
              "    }\n",
              "\n",
              "    .dataframe tbody tr th {\n",
              "        vertical-align: top;\n",
              "    }\n",
              "\n",
              "    .dataframe thead th {\n",
              "        text-align: right;\n",
              "    }\n",
              "</style>\n",
              "<table border=\"1\" class=\"dataframe\">\n",
              "  <thead>\n",
              "    <tr style=\"text-align: right;\">\n",
              "      <th></th>\n",
              "      <th>package_id</th>\n",
              "      <th>travel_type_id</th>\n",
              "      <th>from_area_id</th>\n",
              "      <th>to_area_id</th>\n",
              "      <th>from_city_id</th>\n",
              "      <th>to_city_id</th>\n",
              "      <th>from_date</th>\n",
              "      <th>online_booking</th>\n",
              "      <th>mobile_site_booking</th>\n",
              "      <th>booking_created</th>\n",
              "      <th>from_lat</th>\n",
              "      <th>from_long</th>\n",
              "      <th>to_lat</th>\n",
              "      <th>to_long</th>\n",
              "      <th>Car_Cancellation</th>\n",
              "    </tr>\n",
              "  </thead>\n",
              "  <tbody>\n",
              "    <tr>\n",
              "      <th>6</th>\n",
              "      <td>NaN</td>\n",
              "      <td>1</td>\n",
              "      <td>571.0</td>\n",
              "      <td>NaN</td>\n",
              "      <td>15.0</td>\n",
              "      <td>108.0</td>\n",
              "      <td>01-01-2013 09:45</td>\n",
              "      <td>0</td>\n",
              "      <td>0</td>\n",
              "      <td>01-01-2013 09:21</td>\n",
              "      <td>12.951850</td>\n",
              "      <td>77.696420</td>\n",
              "      <td>NaN</td>\n",
              "      <td>NaN</td>\n",
              "      <td>0</td>\n",
              "    </tr>\n",
              "    <tr>\n",
              "      <th>17</th>\n",
              "      <td>NaN</td>\n",
              "      <td>1</td>\n",
              "      <td>1383.0</td>\n",
              "      <td>NaN</td>\n",
              "      <td>NaN</td>\n",
              "      <td>32.0</td>\n",
              "      <td>01-12-2013 08:00</td>\n",
              "      <td>1</td>\n",
              "      <td>0</td>\n",
              "      <td>01-01-2013 12:17</td>\n",
              "      <td>12.930451</td>\n",
              "      <td>77.685822</td>\n",
              "      <td>NaN</td>\n",
              "      <td>NaN</td>\n",
              "      <td>0</td>\n",
              "    </tr>\n",
              "    <tr>\n",
              "      <th>24</th>\n",
              "      <td>NaN</td>\n",
              "      <td>1</td>\n",
              "      <td>515.0</td>\n",
              "      <td>NaN</td>\n",
              "      <td>15.0</td>\n",
              "      <td>32.0</td>\n",
              "      <td>01-05-2013 08:30</td>\n",
              "      <td>0</td>\n",
              "      <td>0</td>\n",
              "      <td>01-01-2013 14:40</td>\n",
              "      <td>12.978960</td>\n",
              "      <td>77.673450</td>\n",
              "      <td>NaN</td>\n",
              "      <td>NaN</td>\n",
              "      <td>0</td>\n",
              "    </tr>\n",
              "    <tr>\n",
              "      <th>158</th>\n",
              "      <td>NaN</td>\n",
              "      <td>1</td>\n",
              "      <td>136.0</td>\n",
              "      <td>NaN</td>\n",
              "      <td>1.0</td>\n",
              "      <td>152.0</td>\n",
              "      <td>01-04-2013 09:30</td>\n",
              "      <td>1</td>\n",
              "      <td>0</td>\n",
              "      <td>01-03-2013 12:19</td>\n",
              "      <td>12.907960</td>\n",
              "      <td>77.624180</td>\n",
              "      <td>NaN</td>\n",
              "      <td>NaN</td>\n",
              "      <td>0</td>\n",
              "    </tr>\n",
              "    <tr>\n",
              "      <th>216</th>\n",
              "      <td>NaN</td>\n",
              "      <td>1</td>\n",
              "      <td>1118.0</td>\n",
              "      <td>NaN</td>\n",
              "      <td>NaN</td>\n",
              "      <td>32.0</td>\n",
              "      <td>01-06-2013 07:30</td>\n",
              "      <td>1</td>\n",
              "      <td>0</td>\n",
              "      <td>01-04-2013 09:32</td>\n",
              "      <td>12.930220</td>\n",
              "      <td>77.560390</td>\n",
              "      <td>NaN</td>\n",
              "      <td>NaN</td>\n",
              "      <td>0</td>\n",
              "    </tr>\n",
              "  </tbody>\n",
              "</table>\n",
              "</div>"
            ],
            "text/plain": [
              "     package_id  travel_type_id  from_area_id  to_area_id  from_city_id  \\\n",
              "6           NaN               1         571.0         NaN          15.0   \n",
              "17          NaN               1        1383.0         NaN           NaN   \n",
              "24          NaN               1         515.0         NaN          15.0   \n",
              "158         NaN               1         136.0         NaN           1.0   \n",
              "216         NaN               1        1118.0         NaN           NaN   \n",
              "\n",
              "     to_city_id         from_date  online_booking  mobile_site_booking  \\\n",
              "6         108.0  01-01-2013 09:45               0                    0   \n",
              "17         32.0  01-12-2013 08:00               1                    0   \n",
              "24         32.0  01-05-2013 08:30               0                    0   \n",
              "158       152.0  01-04-2013 09:30               1                    0   \n",
              "216        32.0  01-06-2013 07:30               1                    0   \n",
              "\n",
              "      booking_created   from_lat  from_long  to_lat  to_long  Car_Cancellation  \n",
              "6    01-01-2013 09:21  12.951850  77.696420     NaN      NaN                 0  \n",
              "17   01-01-2013 12:17  12.930451  77.685822     NaN      NaN                 0  \n",
              "24   01-01-2013 14:40  12.978960  77.673450     NaN      NaN                 0  \n",
              "158  01-03-2013 12:19  12.907960  77.624180     NaN      NaN                 0  \n",
              "216  01-04-2013 09:32  12.930220  77.560390     NaN      NaN                 0  "
            ]
          },
          "execution_count": 283,
          "metadata": {},
          "output_type": "execute_result"
        }
      ],
      "source": [
        "data1.head()"
      ]
    },
    {
      "cell_type": "code",
      "execution_count": 284,
      "metadata": {
        "colab": {
          "base_uri": "https://localhost:8080/",
          "height": 399
        },
        "id": "cQ834nPSK81c",
        "outputId": "b0dc6907-038f-4e8b-95c4-938a3a03e892"
      },
      "outputs": [
        {
          "data": {
            "text/html": [
              "<div>\n",
              "<style scoped>\n",
              "    .dataframe tbody tr th:only-of-type {\n",
              "        vertical-align: middle;\n",
              "    }\n",
              "\n",
              "    .dataframe tbody tr th {\n",
              "        vertical-align: top;\n",
              "    }\n",
              "\n",
              "    .dataframe thead th {\n",
              "        text-align: right;\n",
              "    }\n",
              "</style>\n",
              "<table border=\"1\" class=\"dataframe\">\n",
              "  <thead>\n",
              "    <tr style=\"text-align: right;\">\n",
              "      <th></th>\n",
              "      <th>package_id</th>\n",
              "      <th>travel_type_id</th>\n",
              "      <th>from_area_id</th>\n",
              "      <th>to_area_id</th>\n",
              "      <th>from_city_id</th>\n",
              "      <th>to_city_id</th>\n",
              "      <th>from_date</th>\n",
              "      <th>online_booking</th>\n",
              "      <th>mobile_site_booking</th>\n",
              "      <th>booking_created</th>\n",
              "      <th>from_lat</th>\n",
              "      <th>from_long</th>\n",
              "      <th>to_lat</th>\n",
              "      <th>to_long</th>\n",
              "      <th>Car_Cancellation</th>\n",
              "    </tr>\n",
              "  </thead>\n",
              "  <tbody>\n",
              "    <tr>\n",
              "      <th>0</th>\n",
              "      <td>NaN</td>\n",
              "      <td>2</td>\n",
              "      <td>83.0</td>\n",
              "      <td>448.0</td>\n",
              "      <td>NaN</td>\n",
              "      <td>NaN</td>\n",
              "      <td>01-01-2013 02:00</td>\n",
              "      <td>0</td>\n",
              "      <td>0</td>\n",
              "      <td>01-01-2013 01:39</td>\n",
              "      <td>12.924150</td>\n",
              "      <td>77.672290</td>\n",
              "      <td>12.927320</td>\n",
              "      <td>77.635750</td>\n",
              "      <td>0</td>\n",
              "    </tr>\n",
              "    <tr>\n",
              "      <th>1</th>\n",
              "      <td>NaN</td>\n",
              "      <td>2</td>\n",
              "      <td>1010.0</td>\n",
              "      <td>540.0</td>\n",
              "      <td>NaN</td>\n",
              "      <td>NaN</td>\n",
              "      <td>01-01-2013 09:00</td>\n",
              "      <td>0</td>\n",
              "      <td>0</td>\n",
              "      <td>01-01-2013 02:25</td>\n",
              "      <td>12.966910</td>\n",
              "      <td>77.749350</td>\n",
              "      <td>12.927680</td>\n",
              "      <td>77.626640</td>\n",
              "      <td>0</td>\n",
              "    </tr>\n",
              "    <tr>\n",
              "      <th>2</th>\n",
              "      <td>NaN</td>\n",
              "      <td>2</td>\n",
              "      <td>1301.0</td>\n",
              "      <td>1034.0</td>\n",
              "      <td>NaN</td>\n",
              "      <td>NaN</td>\n",
              "      <td>01-01-2013 03:30</td>\n",
              "      <td>0</td>\n",
              "      <td>0</td>\n",
              "      <td>01-01-2013 03:08</td>\n",
              "      <td>12.937222</td>\n",
              "      <td>77.626915</td>\n",
              "      <td>13.047926</td>\n",
              "      <td>77.597766</td>\n",
              "      <td>0</td>\n",
              "    </tr>\n",
              "    <tr>\n",
              "      <th>3</th>\n",
              "      <td>NaN</td>\n",
              "      <td>2</td>\n",
              "      <td>768.0</td>\n",
              "      <td>398.0</td>\n",
              "      <td>NaN</td>\n",
              "      <td>NaN</td>\n",
              "      <td>01-01-2013 05:45</td>\n",
              "      <td>0</td>\n",
              "      <td>0</td>\n",
              "      <td>01-01-2013 04:39</td>\n",
              "      <td>12.989990</td>\n",
              "      <td>77.553320</td>\n",
              "      <td>12.971430</td>\n",
              "      <td>77.639140</td>\n",
              "      <td>0</td>\n",
              "    </tr>\n",
              "    <tr>\n",
              "      <th>4</th>\n",
              "      <td>NaN</td>\n",
              "      <td>2</td>\n",
              "      <td>1365.0</td>\n",
              "      <td>849.0</td>\n",
              "      <td>NaN</td>\n",
              "      <td>NaN</td>\n",
              "      <td>01-01-2013 09:00</td>\n",
              "      <td>0</td>\n",
              "      <td>0</td>\n",
              "      <td>01-01-2013 07:53</td>\n",
              "      <td>12.845653</td>\n",
              "      <td>77.677925</td>\n",
              "      <td>12.954340</td>\n",
              "      <td>77.600720</td>\n",
              "      <td>0</td>\n",
              "    </tr>\n",
              "  </tbody>\n",
              "</table>\n",
              "</div>"
            ],
            "text/plain": [
              "   package_id  travel_type_id  from_area_id  to_area_id  from_city_id  \\\n",
              "0         NaN               2          83.0       448.0           NaN   \n",
              "1         NaN               2        1010.0       540.0           NaN   \n",
              "2         NaN               2        1301.0      1034.0           NaN   \n",
              "3         NaN               2         768.0       398.0           NaN   \n",
              "4         NaN               2        1365.0       849.0           NaN   \n",
              "\n",
              "   to_city_id         from_date  online_booking  mobile_site_booking  \\\n",
              "0         NaN  01-01-2013 02:00               0                    0   \n",
              "1         NaN  01-01-2013 09:00               0                    0   \n",
              "2         NaN  01-01-2013 03:30               0                    0   \n",
              "3         NaN  01-01-2013 05:45               0                    0   \n",
              "4         NaN  01-01-2013 09:00               0                    0   \n",
              "\n",
              "    booking_created   from_lat  from_long     to_lat    to_long  \\\n",
              "0  01-01-2013 01:39  12.924150  77.672290  12.927320  77.635750   \n",
              "1  01-01-2013 02:25  12.966910  77.749350  12.927680  77.626640   \n",
              "2  01-01-2013 03:08  12.937222  77.626915  13.047926  77.597766   \n",
              "3  01-01-2013 04:39  12.989990  77.553320  12.971430  77.639140   \n",
              "4  01-01-2013 07:53  12.845653  77.677925  12.954340  77.600720   \n",
              "\n",
              "   Car_Cancellation  \n",
              "0                 0  \n",
              "1                 0  \n",
              "2                 0  \n",
              "3                 0  \n",
              "4                 0  "
            ]
          },
          "execution_count": 284,
          "metadata": {},
          "output_type": "execute_result"
        }
      ],
      "source": [
        "data2.head()"
      ]
    },
    {
      "cell_type": "code",
      "execution_count": 285,
      "metadata": {
        "colab": {
          "base_uri": "https://localhost:8080/",
          "height": 399
        },
        "id": "D7cYjyh8K85H",
        "outputId": "d9a2f9fe-310b-431c-ee9c-94d5a8ac2f1f"
      },
      "outputs": [
        {
          "data": {
            "text/html": [
              "<div>\n",
              "<style scoped>\n",
              "    .dataframe tbody tr th:only-of-type {\n",
              "        vertical-align: middle;\n",
              "    }\n",
              "\n",
              "    .dataframe tbody tr th {\n",
              "        vertical-align: top;\n",
              "    }\n",
              "\n",
              "    .dataframe thead th {\n",
              "        text-align: right;\n",
              "    }\n",
              "</style>\n",
              "<table border=\"1\" class=\"dataframe\">\n",
              "  <thead>\n",
              "    <tr style=\"text-align: right;\">\n",
              "      <th></th>\n",
              "      <th>package_id</th>\n",
              "      <th>travel_type_id</th>\n",
              "      <th>from_area_id</th>\n",
              "      <th>to_area_id</th>\n",
              "      <th>from_city_id</th>\n",
              "      <th>to_city_id</th>\n",
              "      <th>from_date</th>\n",
              "      <th>online_booking</th>\n",
              "      <th>mobile_site_booking</th>\n",
              "      <th>booking_created</th>\n",
              "      <th>from_lat</th>\n",
              "      <th>from_long</th>\n",
              "      <th>to_lat</th>\n",
              "      <th>to_long</th>\n",
              "      <th>Car_Cancellation</th>\n",
              "    </tr>\n",
              "  </thead>\n",
              "  <tbody>\n",
              "    <tr>\n",
              "      <th>8</th>\n",
              "      <td>2.0</td>\n",
              "      <td>3</td>\n",
              "      <td>448.0</td>\n",
              "      <td>NaN</td>\n",
              "      <td>NaN</td>\n",
              "      <td>NaN</td>\n",
              "      <td>01-01-2013 16:00</td>\n",
              "      <td>0</td>\n",
              "      <td>0</td>\n",
              "      <td>01-01-2013 09:44</td>\n",
              "      <td>12.927320</td>\n",
              "      <td>77.635750</td>\n",
              "      <td>NaN</td>\n",
              "      <td>NaN</td>\n",
              "      <td>0</td>\n",
              "    </tr>\n",
              "    <tr>\n",
              "      <th>20</th>\n",
              "      <td>2.0</td>\n",
              "      <td>3</td>\n",
              "      <td>471.0</td>\n",
              "      <td>NaN</td>\n",
              "      <td>NaN</td>\n",
              "      <td>NaN</td>\n",
              "      <td>01-01-2013 14:30</td>\n",
              "      <td>0</td>\n",
              "      <td>0</td>\n",
              "      <td>01-01-2013 12:52</td>\n",
              "      <td>13.018540</td>\n",
              "      <td>77.635240</td>\n",
              "      <td>NaN</td>\n",
              "      <td>NaN</td>\n",
              "      <td>0</td>\n",
              "    </tr>\n",
              "    <tr>\n",
              "      <th>23</th>\n",
              "      <td>1.0</td>\n",
              "      <td>3</td>\n",
              "      <td>1286.0</td>\n",
              "      <td>NaN</td>\n",
              "      <td>NaN</td>\n",
              "      <td>NaN</td>\n",
              "      <td>01-01-2013 16:30</td>\n",
              "      <td>0</td>\n",
              "      <td>0</td>\n",
              "      <td>01-01-2013 14:39</td>\n",
              "      <td>12.973448</td>\n",
              "      <td>77.620320</td>\n",
              "      <td>NaN</td>\n",
              "      <td>NaN</td>\n",
              "      <td>0</td>\n",
              "    </tr>\n",
              "    <tr>\n",
              "      <th>34</th>\n",
              "      <td>1.0</td>\n",
              "      <td>3</td>\n",
              "      <td>1323.0</td>\n",
              "      <td>NaN</td>\n",
              "      <td>NaN</td>\n",
              "      <td>NaN</td>\n",
              "      <td>01-01-2013 20:00</td>\n",
              "      <td>1</td>\n",
              "      <td>0</td>\n",
              "      <td>01-01-2013 17:25</td>\n",
              "      <td>12.869805</td>\n",
              "      <td>77.653211</td>\n",
              "      <td>NaN</td>\n",
              "      <td>NaN</td>\n",
              "      <td>0</td>\n",
              "    </tr>\n",
              "    <tr>\n",
              "      <th>47</th>\n",
              "      <td>2.0</td>\n",
              "      <td>3</td>\n",
              "      <td>142.0</td>\n",
              "      <td>NaN</td>\n",
              "      <td>NaN</td>\n",
              "      <td>NaN</td>\n",
              "      <td>01-02-2013 03:00</td>\n",
              "      <td>0</td>\n",
              "      <td>0</td>\n",
              "      <td>01-01-2013 19:37</td>\n",
              "      <td>12.912810</td>\n",
              "      <td>77.609230</td>\n",
              "      <td>NaN</td>\n",
              "      <td>NaN</td>\n",
              "      <td>0</td>\n",
              "    </tr>\n",
              "  </tbody>\n",
              "</table>\n",
              "</div>"
            ],
            "text/plain": [
              "    package_id  travel_type_id  from_area_id  to_area_id  from_city_id  \\\n",
              "8          2.0               3         448.0         NaN           NaN   \n",
              "20         2.0               3         471.0         NaN           NaN   \n",
              "23         1.0               3        1286.0         NaN           NaN   \n",
              "34         1.0               3        1323.0         NaN           NaN   \n",
              "47         2.0               3         142.0         NaN           NaN   \n",
              "\n",
              "    to_city_id         from_date  online_booking  mobile_site_booking  \\\n",
              "8          NaN  01-01-2013 16:00               0                    0   \n",
              "20         NaN  01-01-2013 14:30               0                    0   \n",
              "23         NaN  01-01-2013 16:30               0                    0   \n",
              "34         NaN  01-01-2013 20:00               1                    0   \n",
              "47         NaN  01-02-2013 03:00               0                    0   \n",
              "\n",
              "     booking_created   from_lat  from_long  to_lat  to_long  Car_Cancellation  \n",
              "8   01-01-2013 09:44  12.927320  77.635750     NaN      NaN                 0  \n",
              "20  01-01-2013 12:52  13.018540  77.635240     NaN      NaN                 0  \n",
              "23  01-01-2013 14:39  12.973448  77.620320     NaN      NaN                 0  \n",
              "34  01-01-2013 17:25  12.869805  77.653211     NaN      NaN                 0  \n",
              "47  01-01-2013 19:37  12.912810  77.609230     NaN      NaN                 0  "
            ]
          },
          "execution_count": 285,
          "metadata": {},
          "output_type": "execute_result"
        }
      ],
      "source": [
        "data3.head()"
      ]
    },
    {
      "cell_type": "code",
      "execution_count": 286,
      "metadata": {
        "colab": {
          "base_uri": "https://localhost:8080/"
        },
        "collapsed": true,
        "id": "d1tCy-pyTYMt",
        "outputId": "f270e383-1517-4b61-c284-3b5af2d55d91"
      },
      "outputs": [
        {
          "name": "stderr",
          "output_type": "stream",
          "text": [
            "C:\\Users\\swaytha\\AppData\\Local\\Temp\\ipykernel_16548\\3370347441.py:1: SettingWithCopyWarning: \n",
            "A value is trying to be set on a copy of a slice from a DataFrame\n",
            "\n",
            "See the caveats in the documentation: https://pandas.pydata.org/pandas-docs/stable/user_guide/indexing.html#returning-a-view-versus-a-copy\n",
            "  data1.drop(['package_id','travel_type_id','to_area_id','from_lat','from_long','to_lat','to_long'],axis=1,inplace=True)\n"
          ]
        }
      ],
      "source": [
        "data1.drop(['package_id','travel_type_id','to_area_id','from_lat','from_long','to_lat','to_long'],axis=1,inplace=True)"
      ]
    },
    {
      "cell_type": "code",
      "execution_count": 287,
      "metadata": {
        "colab": {
          "base_uri": "https://localhost:8080/"
        },
        "id": "eJ3UpKCOTYPB",
        "outputId": "431b66fb-652b-48a3-bede-4edc43b285db"
      },
      "outputs": [
        {
          "name": "stderr",
          "output_type": "stream",
          "text": [
            "C:\\Users\\swaytha\\AppData\\Local\\Temp\\ipykernel_16548\\136654485.py:1: SettingWithCopyWarning: \n",
            "A value is trying to be set on a copy of a slice from a DataFrame\n",
            "\n",
            "See the caveats in the documentation: https://pandas.pydata.org/pandas-docs/stable/user_guide/indexing.html#returning-a-view-versus-a-copy\n",
            "  data2.drop(['package_id','travel_type_id','from_city_id','to_city_id'],axis=1,inplace=True)\n"
          ]
        }
      ],
      "source": [
        "data2.drop(['package_id','travel_type_id','from_city_id','to_city_id'],axis=1,inplace=True)"
      ]
    },
    {
      "cell_type": "code",
      "execution_count": 288,
      "metadata": {
        "colab": {
          "base_uri": "https://localhost:8080/"
        },
        "id": "3ZgA7jaDTYRn",
        "outputId": "605ba749-25a2-4167-da4b-d8df13d475e0"
      },
      "outputs": [
        {
          "name": "stderr",
          "output_type": "stream",
          "text": [
            "C:\\Users\\swaytha\\AppData\\Local\\Temp\\ipykernel_16548\\34774305.py:1: SettingWithCopyWarning: \n",
            "A value is trying to be set on a copy of a slice from a DataFrame\n",
            "\n",
            "See the caveats in the documentation: https://pandas.pydata.org/pandas-docs/stable/user_guide/indexing.html#returning-a-view-versus-a-copy\n",
            "  data3.drop(['travel_type_id','to_area_id','from_city_id','to_city_id','from_long','from_lat','to_long','to_lat'],axis=1,inplace=True)\n"
          ]
        }
      ],
      "source": [
        "data3.drop(['travel_type_id','to_area_id','from_city_id','to_city_id','from_long','from_lat','to_long','to_lat'],axis=1,inplace=True)"
      ]
    },
    {
      "cell_type": "code",
      "execution_count": 289,
      "metadata": {
        "colab": {
          "base_uri": "https://localhost:8080/",
          "height": 489
        },
        "id": "bnpJGKNaTYTp",
        "outputId": "76d48434-a081-49db-cff5-2fdb7b4d3762"
      },
      "outputs": [
        {
          "data": {
            "text/plain": [
              "from_area_id\n",
              "393.0     257\n",
              "571.0      98\n",
              "585.0      47\n",
              "142.0      44\n",
              "293.0      32\n",
              "         ... \n",
              "187.0       1\n",
              "1304.0      1\n",
              "1041.0      1\n",
              "119.0       1\n",
              "1180.0      1\n",
              "Name: count, Length: 297, dtype: int64"
            ]
          },
          "execution_count": 289,
          "metadata": {},
          "output_type": "execute_result"
        }
      ],
      "source": [
        "data1['from_area_id'].value_counts()"
      ]
    },
    {
      "cell_type": "code",
      "execution_count": 290,
      "metadata": {
        "colab": {
          "base_uri": "https://localhost:8080/",
          "height": 335
        },
        "id": "9ByXgknIy1L-",
        "outputId": "959060cc-ddc0-4fa5-db64-8d277002433e"
      },
      "outputs": [
        {
          "data": {
            "text/plain": [
              "from_area_id            88\n",
              "from_city_id           196\n",
              "to_city_id               1\n",
              "from_date                0\n",
              "online_booking           0\n",
              "mobile_site_booking      0\n",
              "booking_created          0\n",
              "Car_Cancellation         0\n",
              "dtype: int64"
            ]
          },
          "execution_count": 290,
          "metadata": {},
          "output_type": "execute_result"
        }
      ],
      "source": [
        "data1.isna().sum()"
      ]
    },
    {
      "cell_type": "code",
      "execution_count": 291,
      "metadata": {
        "colab": {
          "base_uri": "https://localhost:8080/",
          "height": 115
        },
        "id": "FB5GF9xO0OkY",
        "outputId": "1b637356-3ec7-49c6-daff-4445f0f54e1c"
      },
      "outputs": [
        {
          "data": {
            "text/plain": [
              "0    393.0\n",
              "Name: from_area_id, dtype: float64"
            ]
          },
          "execution_count": 291,
          "metadata": {},
          "output_type": "execute_result"
        }
      ],
      "source": [
        "data1['from_area_id'].mode()"
      ]
    },
    {
      "cell_type": "code",
      "execution_count": 292,
      "metadata": {
        "colab": {
          "base_uri": "https://localhost:8080/"
        },
        "id": "vraQPbMxzpGe",
        "outputId": "f27ac7b6-a656-49f0-8201-3d3b66f5f9a7"
      },
      "outputs": [
        {
          "name": "stderr",
          "output_type": "stream",
          "text": [
            "C:\\Users\\swaytha\\AppData\\Local\\Temp\\ipykernel_16548\\1089279449.py:1: FutureWarning: A value is trying to be set on a copy of a DataFrame or Series through chained assignment using an inplace method.\n",
            "The behavior will change in pandas 3.0. This inplace method will never work because the intermediate object on which we are setting values always behaves as a copy.\n",
            "\n",
            "For example, when doing 'df[col].method(value, inplace=True)', try using 'df.method({col: value}, inplace=True)' or df[col] = df[col].method(value) instead, to perform the operation inplace on the original object.\n",
            "\n",
            "\n",
            "  data1['from_area_id'].fillna(data1['from_area_id'].mode()[0],inplace=True)\n",
            "C:\\Users\\swaytha\\AppData\\Local\\Temp\\ipykernel_16548\\1089279449.py:1: SettingWithCopyWarning: \n",
            "A value is trying to be set on a copy of a slice from a DataFrame\n",
            "\n",
            "See the caveats in the documentation: https://pandas.pydata.org/pandas-docs/stable/user_guide/indexing.html#returning-a-view-versus-a-copy\n",
            "  data1['from_area_id'].fillna(data1['from_area_id'].mode()[0],inplace=True)\n"
          ]
        }
      ],
      "source": [
        "data1['from_area_id'].fillna(data1['from_area_id'].mode()[0],inplace=True)"
      ]
    },
    {
      "cell_type": "code",
      "execution_count": 293,
      "metadata": {
        "colab": {
          "base_uri": "https://localhost:8080/"
        },
        "id": "UE59qypz2rd_",
        "outputId": "3528ced5-fc40-4301-8e66-a54704d9824e"
      },
      "outputs": [
        {
          "name": "stderr",
          "output_type": "stream",
          "text": [
            "C:\\Users\\swaytha\\AppData\\Local\\Temp\\ipykernel_16548\\3912890303.py:1: FutureWarning: A value is trying to be set on a copy of a DataFrame or Series through chained assignment using an inplace method.\n",
            "The behavior will change in pandas 3.0. This inplace method will never work because the intermediate object on which we are setting values always behaves as a copy.\n",
            "\n",
            "For example, when doing 'df[col].method(value, inplace=True)', try using 'df.method({col: value}, inplace=True)' or df[col] = df[col].method(value) instead, to perform the operation inplace on the original object.\n",
            "\n",
            "\n",
            "  data1['from_city_id'].fillna(data1['from_city_id'].mode()[0],inplace=True)\n",
            "C:\\Users\\swaytha\\AppData\\Local\\Temp\\ipykernel_16548\\3912890303.py:1: SettingWithCopyWarning: \n",
            "A value is trying to be set on a copy of a slice from a DataFrame\n",
            "\n",
            "See the caveats in the documentation: https://pandas.pydata.org/pandas-docs/stable/user_guide/indexing.html#returning-a-view-versus-a-copy\n",
            "  data1['from_city_id'].fillna(data1['from_city_id'].mode()[0],inplace=True)\n"
          ]
        }
      ],
      "source": [
        "data1['from_city_id'].fillna(data1['from_city_id'].mode()[0],inplace=True)"
      ]
    },
    {
      "cell_type": "code",
      "execution_count": 294,
      "metadata": {
        "colab": {
          "base_uri": "https://localhost:8080/"
        },
        "id": "lQP3AINp2rP6",
        "outputId": "30bd2bf0-9e7f-40a5-a27e-287d0774adb5"
      },
      "outputs": [
        {
          "name": "stderr",
          "output_type": "stream",
          "text": [
            "C:\\Users\\swaytha\\AppData\\Local\\Temp\\ipykernel_16548\\2470700232.py:1: FutureWarning: A value is trying to be set on a copy of a DataFrame or Series through chained assignment using an inplace method.\n",
            "The behavior will change in pandas 3.0. This inplace method will never work because the intermediate object on which we are setting values always behaves as a copy.\n",
            "\n",
            "For example, when doing 'df[col].method(value, inplace=True)', try using 'df.method({col: value}, inplace=True)' or df[col] = df[col].method(value) instead, to perform the operation inplace on the original object.\n",
            "\n",
            "\n",
            "  data1['to_city_id'].fillna(data1['to_city_id'].mode()[0],inplace=True)\n",
            "C:\\Users\\swaytha\\AppData\\Local\\Temp\\ipykernel_16548\\2470700232.py:1: SettingWithCopyWarning: \n",
            "A value is trying to be set on a copy of a slice from a DataFrame\n",
            "\n",
            "See the caveats in the documentation: https://pandas.pydata.org/pandas-docs/stable/user_guide/indexing.html#returning-a-view-versus-a-copy\n",
            "  data1['to_city_id'].fillna(data1['to_city_id'].mode()[0],inplace=True)\n"
          ]
        }
      ],
      "source": [
        "data1['to_city_id'].fillna(data1['to_city_id'].mode()[0],inplace=True)"
      ]
    },
    {
      "cell_type": "code",
      "execution_count": 295,
      "metadata": {
        "colab": {
          "base_uri": "https://localhost:8080/"
        },
        "id": "uFoi0Ku-PM7j",
        "outputId": "1cf03a2f-cb81-4673-b368-e9a5d0712fa5"
      },
      "outputs": [
        {
          "name": "stderr",
          "output_type": "stream",
          "text": [
            "C:\\Users\\swaytha\\AppData\\Local\\Temp\\ipykernel_16548\\2007777353.py:1: FutureWarning: A value is trying to be set on a copy of a DataFrame or Series through chained assignment using an inplace method.\n",
            "The behavior will change in pandas 3.0. This inplace method will never work because the intermediate object on which we are setting values always behaves as a copy.\n",
            "\n",
            "For example, when doing 'df[col].method(value, inplace=True)', try using 'df.method({col: value}, inplace=True)' or df[col] = df[col].method(value) instead, to perform the operation inplace on the original object.\n",
            "\n",
            "\n",
            "  data1['from_date'].fillna(data1['from_date'].mode()[0],inplace=True)\n",
            "C:\\Users\\swaytha\\AppData\\Local\\Temp\\ipykernel_16548\\2007777353.py:1: SettingWithCopyWarning: \n",
            "A value is trying to be set on a copy of a slice from a DataFrame\n",
            "\n",
            "See the caveats in the documentation: https://pandas.pydata.org/pandas-docs/stable/user_guide/indexing.html#returning-a-view-versus-a-copy\n",
            "  data1['from_date'].fillna(data1['from_date'].mode()[0],inplace=True)\n"
          ]
        }
      ],
      "source": [
        "data1['from_date'].fillna(data1['from_date'].mode()[0],inplace=True)"
      ]
    },
    {
      "cell_type": "code",
      "execution_count": 296,
      "metadata": {
        "colab": {
          "base_uri": "https://localhost:8080/"
        },
        "id": "9r7b21Q1PQsV",
        "outputId": "f59e2f2c-44ca-4724-eaad-51921815b891"
      },
      "outputs": [
        {
          "name": "stderr",
          "output_type": "stream",
          "text": [
            "C:\\Users\\swaytha\\AppData\\Local\\Temp\\ipykernel_16548\\2722860898.py:1: FutureWarning: A value is trying to be set on a copy of a DataFrame or Series through chained assignment using an inplace method.\n",
            "The behavior will change in pandas 3.0. This inplace method will never work because the intermediate object on which we are setting values always behaves as a copy.\n",
            "\n",
            "For example, when doing 'df[col].method(value, inplace=True)', try using 'df.method({col: value}, inplace=True)' or df[col] = df[col].method(value) instead, to perform the operation inplace on the original object.\n",
            "\n",
            "\n",
            "  data1['booking_created'].fillna(data1['booking_created'].mode()[0],inplace=True)\n",
            "C:\\Users\\swaytha\\AppData\\Local\\Temp\\ipykernel_16548\\2722860898.py:1: SettingWithCopyWarning: \n",
            "A value is trying to be set on a copy of a slice from a DataFrame\n",
            "\n",
            "See the caveats in the documentation: https://pandas.pydata.org/pandas-docs/stable/user_guide/indexing.html#returning-a-view-versus-a-copy\n",
            "  data1['booking_created'].fillna(data1['booking_created'].mode()[0],inplace=True)\n"
          ]
        }
      ],
      "source": [
        "data1['booking_created'].fillna(data1['booking_created'].mode()[0],inplace=True)"
      ]
    },
    {
      "cell_type": "code",
      "execution_count": 297,
      "metadata": {
        "colab": {
          "base_uri": "https://localhost:8080/",
          "height": 330
        },
        "id": "zojNzZ8TTYVu",
        "outputId": "38ec591f-6102-446c-cdfe-94c4a2fe5b09"
      },
      "outputs": [
        {
          "name": "stderr",
          "output_type": "stream",
          "text": [
            "C:\\Users\\swaytha\\AppData\\Local\\Temp\\ipykernel_16548\\3672469769.py:4: SettingWithCopyWarning: \n",
            "A value is trying to be set on a copy of a slice from a DataFrame.\n",
            "Try using .loc[row_indexer,col_indexer] = value instead\n",
            "\n",
            "See the caveats in the documentation: https://pandas.pydata.org/pandas-docs/stable/user_guide/indexing.html#returning-a-view-versus-a-copy\n",
            "  data1['from_area_id'] = data1['from_area_id'].map(frequency_encoding)\n"
          ]
        },
        {
          "data": {
            "text/html": [
              "<div>\n",
              "<style scoped>\n",
              "    .dataframe tbody tr th:only-of-type {\n",
              "        vertical-align: middle;\n",
              "    }\n",
              "\n",
              "    .dataframe tbody tr th {\n",
              "        vertical-align: top;\n",
              "    }\n",
              "\n",
              "    .dataframe thead th {\n",
              "        text-align: right;\n",
              "    }\n",
              "</style>\n",
              "<table border=\"1\" class=\"dataframe\">\n",
              "  <thead>\n",
              "    <tr style=\"text-align: right;\">\n",
              "      <th></th>\n",
              "      <th>from_area_id</th>\n",
              "    </tr>\n",
              "  </thead>\n",
              "  <tbody>\n",
              "    <tr>\n",
              "      <th>6</th>\n",
              "      <td>98</td>\n",
              "    </tr>\n",
              "    <tr>\n",
              "      <th>17</th>\n",
              "      <td>4</td>\n",
              "    </tr>\n",
              "    <tr>\n",
              "      <th>24</th>\n",
              "      <td>8</td>\n",
              "    </tr>\n",
              "    <tr>\n",
              "      <th>158</th>\n",
              "      <td>8</td>\n",
              "    </tr>\n",
              "    <tr>\n",
              "      <th>216</th>\n",
              "      <td>1</td>\n",
              "    </tr>\n",
              "  </tbody>\n",
              "</table>\n",
              "</div>"
            ],
            "text/plain": [
              "     from_area_id\n",
              "6              98\n",
              "17              4\n",
              "24              8\n",
              "158             8\n",
              "216             1"
            ]
          },
          "execution_count": 297,
          "metadata": {},
          "output_type": "execute_result"
        }
      ],
      "source": [
        "# Using the frequency encoding for the tranformations\n",
        "\n",
        "frequency_encoding = data1['from_area_id'].value_counts().to_dict()\n",
        "data1['from_area_id'] = data1['from_area_id'].map(frequency_encoding)\n",
        "data1[['from_area_id']].head()"
      ]
    },
    {
      "cell_type": "code",
      "execution_count": 298,
      "metadata": {
        "colab": {
          "base_uri": "https://localhost:8080/",
          "height": 489
        },
        "id": "T2EGfg3sTYXo",
        "outputId": "de4f7278-f1ce-4ff0-9ce0-230b2ad804cb"
      },
      "outputs": [
        {
          "data": {
            "text/plain": [
              "to_city_id\n",
              "32.0     476\n",
              "55.0     174\n",
              "29.0     116\n",
              "146.0     89\n",
              "108.0     64\n",
              "        ... \n",
              "166.0      1\n",
              "111.0      1\n",
              "52.0       1\n",
              "23.0       1\n",
              "50.0       1\n",
              "Name: count, Length: 116, dtype: int64"
            ]
          },
          "execution_count": 298,
          "metadata": {},
          "output_type": "execute_result"
        }
      ],
      "source": [
        "data1['to_city_id'].value_counts()"
      ]
    },
    {
      "cell_type": "code",
      "execution_count": 299,
      "metadata": {
        "colab": {
          "base_uri": "https://localhost:8080/",
          "height": 330
        },
        "id": "PXA4-jz4TYaA",
        "outputId": "7cb641b3-2a7c-421b-a048-53cd43b19457"
      },
      "outputs": [
        {
          "name": "stderr",
          "output_type": "stream",
          "text": [
            "C:\\Users\\swaytha\\AppData\\Local\\Temp\\ipykernel_16548\\3995075384.py:2: SettingWithCopyWarning: \n",
            "A value is trying to be set on a copy of a slice from a DataFrame.\n",
            "Try using .loc[row_indexer,col_indexer] = value instead\n",
            "\n",
            "See the caveats in the documentation: https://pandas.pydata.org/pandas-docs/stable/user_guide/indexing.html#returning-a-view-versus-a-copy\n",
            "  data1['to_city_id'] = data1['to_city_id'].map(frequency_encoding_city)\n"
          ]
        },
        {
          "data": {
            "text/html": [
              "<div>\n",
              "<style scoped>\n",
              "    .dataframe tbody tr th:only-of-type {\n",
              "        vertical-align: middle;\n",
              "    }\n",
              "\n",
              "    .dataframe tbody tr th {\n",
              "        vertical-align: top;\n",
              "    }\n",
              "\n",
              "    .dataframe thead th {\n",
              "        text-align: right;\n",
              "    }\n",
              "</style>\n",
              "<table border=\"1\" class=\"dataframe\">\n",
              "  <thead>\n",
              "    <tr style=\"text-align: right;\">\n",
              "      <th></th>\n",
              "      <th>to_city_id</th>\n",
              "    </tr>\n",
              "  </thead>\n",
              "  <tbody>\n",
              "    <tr>\n",
              "      <th>6</th>\n",
              "      <td>64</td>\n",
              "    </tr>\n",
              "    <tr>\n",
              "      <th>17</th>\n",
              "      <td>476</td>\n",
              "    </tr>\n",
              "    <tr>\n",
              "      <th>24</th>\n",
              "      <td>476</td>\n",
              "    </tr>\n",
              "    <tr>\n",
              "      <th>158</th>\n",
              "      <td>20</td>\n",
              "    </tr>\n",
              "    <tr>\n",
              "      <th>216</th>\n",
              "      <td>476</td>\n",
              "    </tr>\n",
              "  </tbody>\n",
              "</table>\n",
              "</div>"
            ],
            "text/plain": [
              "     to_city_id\n",
              "6            64\n",
              "17          476\n",
              "24          476\n",
              "158          20\n",
              "216         476"
            ]
          },
          "execution_count": 299,
          "metadata": {},
          "output_type": "execute_result"
        }
      ],
      "source": [
        "frequency_encoding_city = data1['to_city_id'].value_counts().to_dict()\n",
        "data1['to_city_id'] = data1['to_city_id'].map(frequency_encoding_city)\n",
        "data1[['to_city_id']].head()"
      ]
    },
    {
      "cell_type": "code",
      "execution_count": 300,
      "metadata": {
        "colab": {
          "base_uri": "https://localhost:8080/",
          "height": 330
        },
        "id": "LoEpDXXKTYbs",
        "outputId": "b03454cc-28d8-47f9-e64b-95c69472e877"
      },
      "outputs": [
        {
          "name": "stderr",
          "output_type": "stream",
          "text": [
            "C:\\Users\\swaytha\\AppData\\Local\\Temp\\ipykernel_16548\\2450869198.py:2: SettingWithCopyWarning: \n",
            "A value is trying to be set on a copy of a slice from a DataFrame.\n",
            "Try using .loc[row_indexer,col_indexer] = value instead\n",
            "\n",
            "See the caveats in the documentation: https://pandas.pydata.org/pandas-docs/stable/user_guide/indexing.html#returning-a-view-versus-a-copy\n",
            "  data1['from_city_id'] = data1['from_city_id'].map(frequency_encoding_city)\n"
          ]
        },
        {
          "data": {
            "text/html": [
              "<div>\n",
              "<style scoped>\n",
              "    .dataframe tbody tr th:only-of-type {\n",
              "        vertical-align: middle;\n",
              "    }\n",
              "\n",
              "    .dataframe tbody tr th {\n",
              "        vertical-align: top;\n",
              "    }\n",
              "\n",
              "    .dataframe thead th {\n",
              "        text-align: right;\n",
              "    }\n",
              "</style>\n",
              "<table border=\"1\" class=\"dataframe\">\n",
              "  <thead>\n",
              "    <tr style=\"text-align: right;\">\n",
              "      <th></th>\n",
              "      <th>from_city_id</th>\n",
              "    </tr>\n",
              "  </thead>\n",
              "  <tbody>\n",
              "    <tr>\n",
              "      <th>6</th>\n",
              "      <td>1477</td>\n",
              "    </tr>\n",
              "    <tr>\n",
              "      <th>17</th>\n",
              "      <td>1477</td>\n",
              "    </tr>\n",
              "    <tr>\n",
              "      <th>24</th>\n",
              "      <td>1477</td>\n",
              "    </tr>\n",
              "    <tr>\n",
              "      <th>158</th>\n",
              "      <td>106</td>\n",
              "    </tr>\n",
              "    <tr>\n",
              "      <th>216</th>\n",
              "      <td>1477</td>\n",
              "    </tr>\n",
              "  </tbody>\n",
              "</table>\n",
              "</div>"
            ],
            "text/plain": [
              "     from_city_id\n",
              "6            1477\n",
              "17           1477\n",
              "24           1477\n",
              "158           106\n",
              "216          1477"
            ]
          },
          "execution_count": 300,
          "metadata": {},
          "output_type": "execute_result"
        }
      ],
      "source": [
        "frequency_encoding_city = data1['from_city_id'].value_counts().to_dict()\n",
        "data1['from_city_id'] = data1['from_city_id'].map(frequency_encoding_city)\n",
        "data1[['from_city_id']].head()"
      ]
    },
    {
      "cell_type": "code",
      "execution_count": 301,
      "metadata": {
        "colab": {
          "base_uri": "https://localhost:8080/",
          "height": 330
        },
        "id": "Pn6zGlFP3SOZ",
        "outputId": "ee96347f-3453-43e7-b74b-504c335f07ec"
      },
      "outputs": [
        {
          "name": "stderr",
          "output_type": "stream",
          "text": [
            "C:\\Users\\swaytha\\AppData\\Local\\Temp\\ipykernel_16548\\3995075384.py:2: SettingWithCopyWarning: \n",
            "A value is trying to be set on a copy of a slice from a DataFrame.\n",
            "Try using .loc[row_indexer,col_indexer] = value instead\n",
            "\n",
            "See the caveats in the documentation: https://pandas.pydata.org/pandas-docs/stable/user_guide/indexing.html#returning-a-view-versus-a-copy\n",
            "  data1['to_city_id'] = data1['to_city_id'].map(frequency_encoding_city)\n"
          ]
        },
        {
          "data": {
            "text/html": [
              "<div>\n",
              "<style scoped>\n",
              "    .dataframe tbody tr th:only-of-type {\n",
              "        vertical-align: middle;\n",
              "    }\n",
              "\n",
              "    .dataframe tbody tr th {\n",
              "        vertical-align: top;\n",
              "    }\n",
              "\n",
              "    .dataframe thead th {\n",
              "        text-align: right;\n",
              "    }\n",
              "</style>\n",
              "<table border=\"1\" class=\"dataframe\">\n",
              "  <thead>\n",
              "    <tr style=\"text-align: right;\">\n",
              "      <th></th>\n",
              "      <th>to_city_id</th>\n",
              "    </tr>\n",
              "  </thead>\n",
              "  <tbody>\n",
              "    <tr>\n",
              "      <th>6</th>\n",
              "      <td>64</td>\n",
              "    </tr>\n",
              "    <tr>\n",
              "      <th>17</th>\n",
              "      <td>476</td>\n",
              "    </tr>\n",
              "    <tr>\n",
              "      <th>24</th>\n",
              "      <td>476</td>\n",
              "    </tr>\n",
              "    <tr>\n",
              "      <th>158</th>\n",
              "      <td>40</td>\n",
              "    </tr>\n",
              "    <tr>\n",
              "      <th>216</th>\n",
              "      <td>476</td>\n",
              "    </tr>\n",
              "  </tbody>\n",
              "</table>\n",
              "</div>"
            ],
            "text/plain": [
              "     to_city_id\n",
              "6            64\n",
              "17          476\n",
              "24          476\n",
              "158          40\n",
              "216         476"
            ]
          },
          "execution_count": 301,
          "metadata": {},
          "output_type": "execute_result"
        }
      ],
      "source": [
        "frequency_encoding_city = data1['to_city_id'].value_counts().to_dict()\n",
        "data1['to_city_id'] = data1['to_city_id'].map(frequency_encoding_city)\n",
        "data1[['to_city_id']].head()"
      ]
    },
    {
      "cell_type": "code",
      "execution_count": 302,
      "metadata": {
        "colab": {
          "base_uri": "https://localhost:8080/",
          "height": 241
        },
        "id": "wD7rLb4oRLEa",
        "outputId": "46b65c90-b9f1-4fd0-da2a-c98ab715c2f6"
      },
      "outputs": [
        {
          "data": {
            "text/plain": [
              "6      01-01-2013 09:45\n",
              "17     01-12-2013 08:00\n",
              "24     01-05-2013 08:30\n",
              "158    01-04-2013 09:30\n",
              "216    01-06-2013 07:30\n",
              "Name: from_date, dtype: object"
            ]
          },
          "execution_count": 302,
          "metadata": {},
          "output_type": "execute_result"
        }
      ],
      "source": [
        "data1['from_date'].head()"
      ]
    },
    {
      "cell_type": "code",
      "execution_count": 303,
      "metadata": {
        "colab": {
          "base_uri": "https://localhost:8080/"
        },
        "id": "YLerfvTTSzML",
        "outputId": "d1530b62-fea0-4afb-8aca-329b972bd670"
      },
      "outputs": [
        {
          "name": "stderr",
          "output_type": "stream",
          "text": [
            "C:\\Users\\swaytha\\AppData\\Local\\Temp\\ipykernel_16548\\1771534724.py:1: SettingWithCopyWarning: \n",
            "A value is trying to be set on a copy of a slice from a DataFrame.\n",
            "Try using .loc[row_indexer,col_indexer] = value instead\n",
            "\n",
            "See the caveats in the documentation: https://pandas.pydata.org/pandas-docs/stable/user_guide/indexing.html#returning-a-view-versus-a-copy\n",
            "  data1['from_date']=pd.to_datetime(data1['from_date'], errors='coerce')\n"
          ]
        }
      ],
      "source": [
        "data1['from_date']=pd.to_datetime(data1['from_date'], errors='coerce')"
      ]
    },
    {
      "cell_type": "code",
      "execution_count": 304,
      "metadata": {
        "id": "FLdCNjZLVIlU"
      },
      "outputs": [],
      "source": [
        "# data1['from_date'] = data1['from_date'].dt.strftime('%m-%d-%Y %H:%M')"
      ]
    },
    {
      "cell_type": "code",
      "execution_count": 305,
      "metadata": {
        "colab": {
          "base_uri": "https://localhost:8080/"
        },
        "id": "p_ToeSk91QNb",
        "outputId": "90fa176b-80a0-49ce-e5c4-43725e23b017"
      },
      "outputs": [
        {
          "name": "stdout",
          "output_type": "stream",
          "text": [
            "datetime64[ns]\n"
          ]
        }
      ],
      "source": [
        "print(data1['from_date'].dtype)"
      ]
    },
    {
      "cell_type": "code",
      "execution_count": 306,
      "metadata": {
        "colab": {
          "base_uri": "https://localhost:8080/"
        },
        "id": "erGSNkqdQ0UF",
        "outputId": "4f9330c0-8b3c-4ac2-bebb-ac201bf6627e"
      },
      "outputs": [
        {
          "name": "stdout",
          "output_type": "stream",
          "text": [
            "              from_date\n",
            "6   2013-01-01 09:45:00\n",
            "17  2013-01-12 08:00:00\n",
            "24  2013-01-05 08:30:00\n",
            "158 2013-01-04 09:30:00\n",
            "216 2013-01-06 07:30:00\n"
          ]
        }
      ],
      "source": [
        "print(data1[['from_date']].head())"
      ]
    },
    {
      "cell_type": "code",
      "execution_count": 307,
      "metadata": {
        "colab": {
          "base_uri": "https://localhost:8080/"
        },
        "id": "lIbzBDEG3SLA",
        "outputId": "fdbbe479-8896-420b-e7b0-7347c35f31f1"
      },
      "outputs": [
        {
          "name": "stderr",
          "output_type": "stream",
          "text": [
            "C:\\Users\\swaytha\\AppData\\Local\\Temp\\ipykernel_16548\\3667024887.py:1: SettingWithCopyWarning: \n",
            "A value is trying to be set on a copy of a slice from a DataFrame.\n",
            "Try using .loc[row_indexer,col_indexer] = value instead\n",
            "\n",
            "See the caveats in the documentation: https://pandas.pydata.org/pandas-docs/stable/user_guide/indexing.html#returning-a-view-versus-a-copy\n",
            "  data1['year'] = data1['from_date'].dt.year\n",
            "C:\\Users\\swaytha\\AppData\\Local\\Temp\\ipykernel_16548\\3667024887.py:2: SettingWithCopyWarning: \n",
            "A value is trying to be set on a copy of a slice from a DataFrame.\n",
            "Try using .loc[row_indexer,col_indexer] = value instead\n",
            "\n",
            "See the caveats in the documentation: https://pandas.pydata.org/pandas-docs/stable/user_guide/indexing.html#returning-a-view-versus-a-copy\n",
            "  data1['month'] = data1['from_date'].dt.month\n",
            "C:\\Users\\swaytha\\AppData\\Local\\Temp\\ipykernel_16548\\3667024887.py:3: SettingWithCopyWarning: \n",
            "A value is trying to be set on a copy of a slice from a DataFrame.\n",
            "Try using .loc[row_indexer,col_indexer] = value instead\n",
            "\n",
            "See the caveats in the documentation: https://pandas.pydata.org/pandas-docs/stable/user_guide/indexing.html#returning-a-view-versus-a-copy\n",
            "  data1['day'] = data1['from_date'].dt.day\n",
            "C:\\Users\\swaytha\\AppData\\Local\\Temp\\ipykernel_16548\\3667024887.py:4: SettingWithCopyWarning: \n",
            "A value is trying to be set on a copy of a slice from a DataFrame.\n",
            "Try using .loc[row_indexer,col_indexer] = value instead\n",
            "\n",
            "See the caveats in the documentation: https://pandas.pydata.org/pandas-docs/stable/user_guide/indexing.html#returning-a-view-versus-a-copy\n",
            "  data1['hour'] = data1['from_date'].dt.hour\n",
            "C:\\Users\\swaytha\\AppData\\Local\\Temp\\ipykernel_16548\\3667024887.py:5: SettingWithCopyWarning: \n",
            "A value is trying to be set on a copy of a slice from a DataFrame.\n",
            "Try using .loc[row_indexer,col_indexer] = value instead\n",
            "\n",
            "See the caveats in the documentation: https://pandas.pydata.org/pandas-docs/stable/user_guide/indexing.html#returning-a-view-versus-a-copy\n",
            "  data1['minute'] = data1['from_date'].dt.minute\n",
            "C:\\Users\\swaytha\\AppData\\Local\\Temp\\ipykernel_16548\\3667024887.py:6: SettingWithCopyWarning: \n",
            "A value is trying to be set on a copy of a slice from a DataFrame.\n",
            "Try using .loc[row_indexer,col_indexer] = value instead\n",
            "\n",
            "See the caveats in the documentation: https://pandas.pydata.org/pandas-docs/stable/user_guide/indexing.html#returning-a-view-versus-a-copy\n",
            "  data1['day_of_week']=data1['from_date'].dt.strftime('%A')\n",
            "C:\\Users\\swaytha\\AppData\\Local\\Temp\\ipykernel_16548\\3667024887.py:18: SettingWithCopyWarning: \n",
            "A value is trying to be set on a copy of a slice from a DataFrame.\n",
            "Try using .loc[row_indexer,col_indexer] = value instead\n",
            "\n",
            "See the caveats in the documentation: https://pandas.pydata.org/pandas-docs/stable/user_guide/indexing.html#returning-a-view-versus-a-copy\n",
            "  data1['time_of_day'] = data1['from_date'].dt.hour.apply(get_time_of_day)\n",
            "C:\\Users\\swaytha\\AppData\\Local\\Temp\\ipykernel_16548\\3667024887.py:20: SettingWithCopyWarning: \n",
            "A value is trying to be set on a copy of a slice from a DataFrame.\n",
            "Try using .loc[row_indexer,col_indexer] = value instead\n",
            "\n",
            "See the caveats in the documentation: https://pandas.pydata.org/pandas-docs/stable/user_guide/indexing.html#returning-a-view-versus-a-copy\n",
            "  data1['day_type'] = data1['from_date'].dt.dayofweek.apply(lambda x: 'weekend' if x >= 5 else 'weekday')\n",
            "C:\\Users\\swaytha\\AppData\\Local\\Temp\\ipykernel_16548\\3667024887.py:21: SettingWithCopyWarning: \n",
            "A value is trying to be set on a copy of a slice from a DataFrame.\n",
            "Try using .loc[row_indexer,col_indexer] = value instead\n",
            "\n",
            "See the caveats in the documentation: https://pandas.pydata.org/pandas-docs/stable/user_guide/indexing.html#returning-a-view-versus-a-copy\n",
            "  data1['month'] = data1['from_date'].dt.month\n"
          ]
        }
      ],
      "source": [
        "data1['year'] = data1['from_date'].dt.year\n",
        "data1['month'] = data1['from_date'].dt.month\n",
        "data1['day'] = data1['from_date'].dt.day\n",
        "data1['hour'] = data1['from_date'].dt.hour\n",
        "data1['minute'] = data1['from_date'].dt.minute\n",
        "data1['day_of_week']=data1['from_date'].dt.strftime('%A')\n",
        "\n",
        "def get_time_of_day(hour):\n",
        "  if(5 <= hour <12):\n",
        "    return 'Morning'\n",
        "  elif(12 <= hour < 17):\n",
        "    return 'Afternoon'\n",
        "  elif(17 <= hour < 21):\n",
        "    return 'Evening'\n",
        "  else:\n",
        "    return 'Night'\n",
        "\n",
        "data1['time_of_day'] = data1['from_date'].dt.hour.apply(get_time_of_day)\n",
        "\n",
        "data1['day_type'] = data1['from_date'].dt.dayofweek.apply(lambda x: 'weekend' if x >= 5 else 'weekday')\n",
        "data1['month'] = data1['from_date'].dt.month\n"
      ]
    },
    {
      "cell_type": "code",
      "execution_count": 308,
      "metadata": {
        "colab": {
          "base_uri": "https://localhost:8080/"
        },
        "id": "qhweyZgm3SIl",
        "outputId": "97a2ee2c-d2d8-4cf7-c4b9-ff2fca346023"
      },
      "outputs": [
        {
          "name": "stderr",
          "output_type": "stream",
          "text": [
            "C:\\Users\\swaytha\\AppData\\Local\\Temp\\ipykernel_16548\\1024784558.py:1: SettingWithCopyWarning: \n",
            "A value is trying to be set on a copy of a slice from a DataFrame.\n",
            "Try using .loc[row_indexer,col_indexer] = value instead\n",
            "\n",
            "See the caveats in the documentation: https://pandas.pydata.org/pandas-docs/stable/user_guide/indexing.html#returning-a-view-versus-a-copy\n",
            "  data1['booking_created'] = pd.to_datetime(data1['booking_created'], errors='coerce')\n"
          ]
        }
      ],
      "source": [
        "data1['booking_created'] = pd.to_datetime(data1['booking_created'], errors='coerce')"
      ]
    },
    {
      "cell_type": "code",
      "execution_count": 309,
      "metadata": {
        "colab": {
          "base_uri": "https://localhost:8080/"
        },
        "id": "FUdhEcWj3SFr",
        "outputId": "6548b084-0eeb-49a7-bc54-03c8ef960833"
      },
      "outputs": [
        {
          "name": "stderr",
          "output_type": "stream",
          "text": [
            "C:\\Users\\swaytha\\AppData\\Local\\Temp\\ipykernel_16548\\2755472098.py:1: SettingWithCopyWarning: \n",
            "A value is trying to be set on a copy of a slice from a DataFrame.\n",
            "Try using .loc[row_indexer,col_indexer] = value instead\n",
            "\n",
            "See the caveats in the documentation: https://pandas.pydata.org/pandas-docs/stable/user_guide/indexing.html#returning-a-view-versus-a-copy\n",
            "  data1['booking_year'] = data1['booking_created'].dt.year\n",
            "C:\\Users\\swaytha\\AppData\\Local\\Temp\\ipykernel_16548\\2755472098.py:2: SettingWithCopyWarning: \n",
            "A value is trying to be set on a copy of a slice from a DataFrame.\n",
            "Try using .loc[row_indexer,col_indexer] = value instead\n",
            "\n",
            "See the caveats in the documentation: https://pandas.pydata.org/pandas-docs/stable/user_guide/indexing.html#returning-a-view-versus-a-copy\n",
            "  data1['booking_month'] = data1['booking_created'].dt.month\n",
            "C:\\Users\\swaytha\\AppData\\Local\\Temp\\ipykernel_16548\\2755472098.py:3: SettingWithCopyWarning: \n",
            "A value is trying to be set on a copy of a slice from a DataFrame.\n",
            "Try using .loc[row_indexer,col_indexer] = value instead\n",
            "\n",
            "See the caveats in the documentation: https://pandas.pydata.org/pandas-docs/stable/user_guide/indexing.html#returning-a-view-versus-a-copy\n",
            "  data1['booking_day'] = data1['booking_created'].dt.day\n",
            "C:\\Users\\swaytha\\AppData\\Local\\Temp\\ipykernel_16548\\2755472098.py:4: SettingWithCopyWarning: \n",
            "A value is trying to be set on a copy of a slice from a DataFrame.\n",
            "Try using .loc[row_indexer,col_indexer] = value instead\n",
            "\n",
            "See the caveats in the documentation: https://pandas.pydata.org/pandas-docs/stable/user_guide/indexing.html#returning-a-view-versus-a-copy\n",
            "  data1['booking_hour'] = data1['booking_created'].dt.hour\n",
            "C:\\Users\\swaytha\\AppData\\Local\\Temp\\ipykernel_16548\\2755472098.py:5: SettingWithCopyWarning: \n",
            "A value is trying to be set on a copy of a slice from a DataFrame.\n",
            "Try using .loc[row_indexer,col_indexer] = value instead\n",
            "\n",
            "See the caveats in the documentation: https://pandas.pydata.org/pandas-docs/stable/user_guide/indexing.html#returning-a-view-versus-a-copy\n",
            "  data1['booking_minute'] = data1['booking_created'].dt.minute\n",
            "C:\\Users\\swaytha\\AppData\\Local\\Temp\\ipykernel_16548\\2755472098.py:6: SettingWithCopyWarning: \n",
            "A value is trying to be set on a copy of a slice from a DataFrame.\n",
            "Try using .loc[row_indexer,col_indexer] = value instead\n",
            "\n",
            "See the caveats in the documentation: https://pandas.pydata.org/pandas-docs/stable/user_guide/indexing.html#returning-a-view-versus-a-copy\n",
            "  data1['booking_day_of_week'] = data1['booking_created'].dt.strftime('%A')\n",
            "C:\\Users\\swaytha\\AppData\\Local\\Temp\\ipykernel_16548\\2755472098.py:7: SettingWithCopyWarning: \n",
            "A value is trying to be set on a copy of a slice from a DataFrame.\n",
            "Try using .loc[row_indexer,col_indexer] = value instead\n",
            "\n",
            "See the caveats in the documentation: https://pandas.pydata.org/pandas-docs/stable/user_guide/indexing.html#returning-a-view-versus-a-copy\n",
            "  data1['booking_time_of_day'] = data1['booking_created'].dt.hour.apply(get_time_of_day)\n"
          ]
        }
      ],
      "source": [
        "data1['booking_year'] = data1['booking_created'].dt.year\n",
        "data1['booking_month'] = data1['booking_created'].dt.month\n",
        "data1['booking_day'] = data1['booking_created'].dt.day\n",
        "data1['booking_hour'] = data1['booking_created'].dt.hour\n",
        "data1['booking_minute'] = data1['booking_created'].dt.minute\n",
        "data1['booking_day_of_week'] = data1['booking_created'].dt.strftime('%A')\n",
        "data1['booking_time_of_day'] = data1['booking_created'].dt.hour.apply(get_time_of_day)"
      ]
    },
    {
      "cell_type": "code",
      "execution_count": 310,
      "metadata": {
        "colab": {
          "base_uri": "https://localhost:8080/"
        },
        "id": "96HriVPiL4jf",
        "outputId": "06bb8da3-4ec2-4a03-da69-6fa0ce2a9a4a"
      },
      "outputs": [
        {
          "name": "stderr",
          "output_type": "stream",
          "text": [
            "C:\\Users\\swaytha\\AppData\\Local\\Temp\\ipykernel_16548\\182524040.py:1: SettingWithCopyWarning: \n",
            "A value is trying to be set on a copy of a slice from a DataFrame.\n",
            "Try using .loc[row_indexer,col_indexer] = value instead\n",
            "\n",
            "See the caveats in the documentation: https://pandas.pydata.org/pandas-docs/stable/user_guide/indexing.html#returning-a-view-versus-a-copy\n",
            "  data1['hours_between_bookings_and_actual_pickup'] = (data1['from_date'].dt.day - data1['booking_created'].dt.day)\n"
          ]
        }
      ],
      "source": [
        "data1['hours_between_bookings_and_actual_pickup'] = (data1['from_date'].dt.day - data1['booking_created'].dt.day)"
      ]
    },
    {
      "cell_type": "code",
      "execution_count": 311,
      "metadata": {
        "colab": {
          "base_uri": "https://localhost:8080/"
        },
        "id": "rDMltbY2-Cxf",
        "outputId": "7546e30c-ccb3-4bf0-f121-9156db6824c6"
      },
      "outputs": [
        {
          "name": "stderr",
          "output_type": "stream",
          "text": [
            "C:\\Users\\swaytha\\AppData\\Local\\Temp\\ipykernel_16548\\1645229648.py:1: FutureWarning: A value is trying to be set on a copy of a DataFrame or Series through chained assignment using an inplace method.\n",
            "The behavior will change in pandas 3.0. This inplace method will never work because the intermediate object on which we are setting values always behaves as a copy.\n",
            "\n",
            "For example, when doing 'df[col].method(value, inplace=True)', try using 'df.method({col: value}, inplace=True)' or df[col] = df[col].method(value) instead, to perform the operation inplace on the original object.\n",
            "\n",
            "\n",
            "  data1['day_of_week'].fillna(data1['day_of_week'].mode()[0],inplace=True)\n",
            "C:\\Users\\swaytha\\AppData\\Local\\Temp\\ipykernel_16548\\1645229648.py:1: SettingWithCopyWarning: \n",
            "A value is trying to be set on a copy of a slice from a DataFrame\n",
            "\n",
            "See the caveats in the documentation: https://pandas.pydata.org/pandas-docs/stable/user_guide/indexing.html#returning-a-view-versus-a-copy\n",
            "  data1['day_of_week'].fillna(data1['day_of_week'].mode()[0],inplace=True)\n",
            "C:\\Users\\swaytha\\AppData\\Local\\Temp\\ipykernel_16548\\1645229648.py:2: FutureWarning: A value is trying to be set on a copy of a DataFrame or Series through chained assignment using an inplace method.\n",
            "The behavior will change in pandas 3.0. This inplace method will never work because the intermediate object on which we are setting values always behaves as a copy.\n",
            "\n",
            "For example, when doing 'df[col].method(value, inplace=True)', try using 'df.method({col: value}, inplace=True)' or df[col] = df[col].method(value) instead, to perform the operation inplace on the original object.\n",
            "\n",
            "\n",
            "  data1['month'].fillna(data1['month'].mode()[0],inplace=True)\n",
            "C:\\Users\\swaytha\\AppData\\Local\\Temp\\ipykernel_16548\\1645229648.py:2: SettingWithCopyWarning: \n",
            "A value is trying to be set on a copy of a slice from a DataFrame\n",
            "\n",
            "See the caveats in the documentation: https://pandas.pydata.org/pandas-docs/stable/user_guide/indexing.html#returning-a-view-versus-a-copy\n",
            "  data1['month'].fillna(data1['month'].mode()[0],inplace=True)\n",
            "C:\\Users\\swaytha\\AppData\\Local\\Temp\\ipykernel_16548\\1645229648.py:3: FutureWarning: A value is trying to be set on a copy of a DataFrame or Series through chained assignment using an inplace method.\n",
            "The behavior will change in pandas 3.0. This inplace method will never work because the intermediate object on which we are setting values always behaves as a copy.\n",
            "\n",
            "For example, when doing 'df[col].method(value, inplace=True)', try using 'df.method({col: value}, inplace=True)' or df[col] = df[col].method(value) instead, to perform the operation inplace on the original object.\n",
            "\n",
            "\n",
            "  data1['year'].fillna(data1['year'].mode()[0],inplace=True)\n",
            "C:\\Users\\swaytha\\AppData\\Local\\Temp\\ipykernel_16548\\1645229648.py:3: SettingWithCopyWarning: \n",
            "A value is trying to be set on a copy of a slice from a DataFrame\n",
            "\n",
            "See the caveats in the documentation: https://pandas.pydata.org/pandas-docs/stable/user_guide/indexing.html#returning-a-view-versus-a-copy\n",
            "  data1['year'].fillna(data1['year'].mode()[0],inplace=True)\n",
            "C:\\Users\\swaytha\\AppData\\Local\\Temp\\ipykernel_16548\\1645229648.py:4: FutureWarning: A value is trying to be set on a copy of a DataFrame or Series through chained assignment using an inplace method.\n",
            "The behavior will change in pandas 3.0. This inplace method will never work because the intermediate object on which we are setting values always behaves as a copy.\n",
            "\n",
            "For example, when doing 'df[col].method(value, inplace=True)', try using 'df.method({col: value}, inplace=True)' or df[col] = df[col].method(value) instead, to perform the operation inplace on the original object.\n",
            "\n",
            "\n",
            "  data1['day'].fillna(data1['day'].mode()[0],inplace=True)\n",
            "C:\\Users\\swaytha\\AppData\\Local\\Temp\\ipykernel_16548\\1645229648.py:4: SettingWithCopyWarning: \n",
            "A value is trying to be set on a copy of a slice from a DataFrame\n",
            "\n",
            "See the caveats in the documentation: https://pandas.pydata.org/pandas-docs/stable/user_guide/indexing.html#returning-a-view-versus-a-copy\n",
            "  data1['day'].fillna(data1['day'].mode()[0],inplace=True)\n",
            "C:\\Users\\swaytha\\AppData\\Local\\Temp\\ipykernel_16548\\1645229648.py:5: FutureWarning: A value is trying to be set on a copy of a DataFrame or Series through chained assignment using an inplace method.\n",
            "The behavior will change in pandas 3.0. This inplace method will never work because the intermediate object on which we are setting values always behaves as a copy.\n",
            "\n",
            "For example, when doing 'df[col].method(value, inplace=True)', try using 'df.method({col: value}, inplace=True)' or df[col] = df[col].method(value) instead, to perform the operation inplace on the original object.\n",
            "\n",
            "\n",
            "  data1['hour'].fillna(data1['hour'].mode()[0],inplace=True)\n",
            "C:\\Users\\swaytha\\AppData\\Local\\Temp\\ipykernel_16548\\1645229648.py:5: SettingWithCopyWarning: \n",
            "A value is trying to be set on a copy of a slice from a DataFrame\n",
            "\n",
            "See the caveats in the documentation: https://pandas.pydata.org/pandas-docs/stable/user_guide/indexing.html#returning-a-view-versus-a-copy\n",
            "  data1['hour'].fillna(data1['hour'].mode()[0],inplace=True)\n",
            "C:\\Users\\swaytha\\AppData\\Local\\Temp\\ipykernel_16548\\1645229648.py:6: FutureWarning: A value is trying to be set on a copy of a DataFrame or Series through chained assignment using an inplace method.\n",
            "The behavior will change in pandas 3.0. This inplace method will never work because the intermediate object on which we are setting values always behaves as a copy.\n",
            "\n",
            "For example, when doing 'df[col].method(value, inplace=True)', try using 'df.method({col: value}, inplace=True)' or df[col] = df[col].method(value) instead, to perform the operation inplace on the original object.\n",
            "\n",
            "\n",
            "  data1['minute'].fillna(data1['minute'].mode()[0],inplace=True)\n",
            "C:\\Users\\swaytha\\AppData\\Local\\Temp\\ipykernel_16548\\1645229648.py:6: SettingWithCopyWarning: \n",
            "A value is trying to be set on a copy of a slice from a DataFrame\n",
            "\n",
            "See the caveats in the documentation: https://pandas.pydata.org/pandas-docs/stable/user_guide/indexing.html#returning-a-view-versus-a-copy\n",
            "  data1['minute'].fillna(data1['minute'].mode()[0],inplace=True)\n",
            "C:\\Users\\swaytha\\AppData\\Local\\Temp\\ipykernel_16548\\1645229648.py:7: FutureWarning: A value is trying to be set on a copy of a DataFrame or Series through chained assignment using an inplace method.\n",
            "The behavior will change in pandas 3.0. This inplace method will never work because the intermediate object on which we are setting values always behaves as a copy.\n",
            "\n",
            "For example, when doing 'df[col].method(value, inplace=True)', try using 'df.method({col: value}, inplace=True)' or df[col] = df[col].method(value) instead, to perform the operation inplace on the original object.\n",
            "\n",
            "\n",
            "  data1['booking_year'].fillna(data1['booking_year'].mode()[0],inplace=True)\n",
            "C:\\Users\\swaytha\\AppData\\Local\\Temp\\ipykernel_16548\\1645229648.py:7: SettingWithCopyWarning: \n",
            "A value is trying to be set on a copy of a slice from a DataFrame\n",
            "\n",
            "See the caveats in the documentation: https://pandas.pydata.org/pandas-docs/stable/user_guide/indexing.html#returning-a-view-versus-a-copy\n",
            "  data1['booking_year'].fillna(data1['booking_year'].mode()[0],inplace=True)\n",
            "C:\\Users\\swaytha\\AppData\\Local\\Temp\\ipykernel_16548\\1645229648.py:8: FutureWarning: A value is trying to be set on a copy of a DataFrame or Series through chained assignment using an inplace method.\n",
            "The behavior will change in pandas 3.0. This inplace method will never work because the intermediate object on which we are setting values always behaves as a copy.\n",
            "\n",
            "For example, when doing 'df[col].method(value, inplace=True)', try using 'df.method({col: value}, inplace=True)' or df[col] = df[col].method(value) instead, to perform the operation inplace on the original object.\n",
            "\n",
            "\n",
            "  data1['booking_month'].fillna(data1['booking_month'].mode()[0],inplace=True)\n",
            "C:\\Users\\swaytha\\AppData\\Local\\Temp\\ipykernel_16548\\1645229648.py:8: SettingWithCopyWarning: \n",
            "A value is trying to be set on a copy of a slice from a DataFrame\n",
            "\n",
            "See the caveats in the documentation: https://pandas.pydata.org/pandas-docs/stable/user_guide/indexing.html#returning-a-view-versus-a-copy\n",
            "  data1['booking_month'].fillna(data1['booking_month'].mode()[0],inplace=True)\n",
            "C:\\Users\\swaytha\\AppData\\Local\\Temp\\ipykernel_16548\\1645229648.py:9: FutureWarning: A value is trying to be set on a copy of a DataFrame or Series through chained assignment using an inplace method.\n",
            "The behavior will change in pandas 3.0. This inplace method will never work because the intermediate object on which we are setting values always behaves as a copy.\n",
            "\n",
            "For example, when doing 'df[col].method(value, inplace=True)', try using 'df.method({col: value}, inplace=True)' or df[col] = df[col].method(value) instead, to perform the operation inplace on the original object.\n",
            "\n",
            "\n",
            "  data1['booking_day'].fillna(data1['booking_day'].mode()[0],inplace=True)\n",
            "C:\\Users\\swaytha\\AppData\\Local\\Temp\\ipykernel_16548\\1645229648.py:9: SettingWithCopyWarning: \n",
            "A value is trying to be set on a copy of a slice from a DataFrame\n",
            "\n",
            "See the caveats in the documentation: https://pandas.pydata.org/pandas-docs/stable/user_guide/indexing.html#returning-a-view-versus-a-copy\n",
            "  data1['booking_day'].fillna(data1['booking_day'].mode()[0],inplace=True)\n",
            "C:\\Users\\swaytha\\AppData\\Local\\Temp\\ipykernel_16548\\1645229648.py:10: FutureWarning: A value is trying to be set on a copy of a DataFrame or Series through chained assignment using an inplace method.\n",
            "The behavior will change in pandas 3.0. This inplace method will never work because the intermediate object on which we are setting values always behaves as a copy.\n",
            "\n",
            "For example, when doing 'df[col].method(value, inplace=True)', try using 'df.method({col: value}, inplace=True)' or df[col] = df[col].method(value) instead, to perform the operation inplace on the original object.\n",
            "\n",
            "\n",
            "  data1['booking_hour'].fillna(data1['booking_hour'].mode()[0],inplace=True)\n",
            "C:\\Users\\swaytha\\AppData\\Local\\Temp\\ipykernel_16548\\1645229648.py:10: SettingWithCopyWarning: \n",
            "A value is trying to be set on a copy of a slice from a DataFrame\n",
            "\n",
            "See the caveats in the documentation: https://pandas.pydata.org/pandas-docs/stable/user_guide/indexing.html#returning-a-view-versus-a-copy\n",
            "  data1['booking_hour'].fillna(data1['booking_hour'].mode()[0],inplace=True)\n",
            "C:\\Users\\swaytha\\AppData\\Local\\Temp\\ipykernel_16548\\1645229648.py:11: FutureWarning: A value is trying to be set on a copy of a DataFrame or Series through chained assignment using an inplace method.\n",
            "The behavior will change in pandas 3.0. This inplace method will never work because the intermediate object on which we are setting values always behaves as a copy.\n",
            "\n",
            "For example, when doing 'df[col].method(value, inplace=True)', try using 'df.method({col: value}, inplace=True)' or df[col] = df[col].method(value) instead, to perform the operation inplace on the original object.\n",
            "\n",
            "\n",
            "  data1['booking_minute'].fillna(data1['booking_minute'].mode()[0],inplace=True)\n",
            "C:\\Users\\swaytha\\AppData\\Local\\Temp\\ipykernel_16548\\1645229648.py:11: SettingWithCopyWarning: \n",
            "A value is trying to be set on a copy of a slice from a DataFrame\n",
            "\n",
            "See the caveats in the documentation: https://pandas.pydata.org/pandas-docs/stable/user_guide/indexing.html#returning-a-view-versus-a-copy\n",
            "  data1['booking_minute'].fillna(data1['booking_minute'].mode()[0],inplace=True)\n",
            "C:\\Users\\swaytha\\AppData\\Local\\Temp\\ipykernel_16548\\1645229648.py:12: FutureWarning: A value is trying to be set on a copy of a DataFrame or Series through chained assignment using an inplace method.\n",
            "The behavior will change in pandas 3.0. This inplace method will never work because the intermediate object on which we are setting values always behaves as a copy.\n",
            "\n",
            "For example, when doing 'df[col].method(value, inplace=True)', try using 'df.method({col: value}, inplace=True)' or df[col] = df[col].method(value) instead, to perform the operation inplace on the original object.\n",
            "\n",
            "\n",
            "  data1['booking_day_of_week'].fillna(data1['booking_day_of_week'].mode()[0],inplace=True)\n",
            "C:\\Users\\swaytha\\AppData\\Local\\Temp\\ipykernel_16548\\1645229648.py:12: SettingWithCopyWarning: \n",
            "A value is trying to be set on a copy of a slice from a DataFrame\n",
            "\n",
            "See the caveats in the documentation: https://pandas.pydata.org/pandas-docs/stable/user_guide/indexing.html#returning-a-view-versus-a-copy\n",
            "  data1['booking_day_of_week'].fillna(data1['booking_day_of_week'].mode()[0],inplace=True)\n",
            "C:\\Users\\swaytha\\AppData\\Local\\Temp\\ipykernel_16548\\1645229648.py:13: FutureWarning: A value is trying to be set on a copy of a DataFrame or Series through chained assignment using an inplace method.\n",
            "The behavior will change in pandas 3.0. This inplace method will never work because the intermediate object on which we are setting values always behaves as a copy.\n",
            "\n",
            "For example, when doing 'df[col].method(value, inplace=True)', try using 'df.method({col: value}, inplace=True)' or df[col] = df[col].method(value) instead, to perform the operation inplace on the original object.\n",
            "\n",
            "\n",
            "  data1['hours_between_bookings_and_actual_pickup'].fillna(data1['hours_between_bookings_and_actual_pickup'].mode()[0],inplace=True)\n",
            "C:\\Users\\swaytha\\AppData\\Local\\Temp\\ipykernel_16548\\1645229648.py:13: SettingWithCopyWarning: \n",
            "A value is trying to be set on a copy of a slice from a DataFrame\n",
            "\n",
            "See the caveats in the documentation: https://pandas.pydata.org/pandas-docs/stable/user_guide/indexing.html#returning-a-view-versus-a-copy\n",
            "  data1['hours_between_bookings_and_actual_pickup'].fillna(data1['hours_between_bookings_and_actual_pickup'].mode()[0],inplace=True)\n"
          ]
        }
      ],
      "source": [
        "data1['day_of_week'].fillna(data1['day_of_week'].mode()[0],inplace=True)\n",
        "data1['month'].fillna(data1['month'].mode()[0],inplace=True)\n",
        "data1['year'].fillna(data1['year'].mode()[0],inplace=True)\n",
        "data1['day'].fillna(data1['day'].mode()[0],inplace=True)\n",
        "data1['hour'].fillna(data1['hour'].mode()[0],inplace=True)\n",
        "data1['minute'].fillna(data1['minute'].mode()[0],inplace=True)\n",
        "data1['booking_year'].fillna(data1['booking_year'].mode()[0],inplace=True)\n",
        "data1['booking_month'].fillna(data1['booking_month'].mode()[0],inplace=True)\n",
        "data1['booking_day'].fillna(data1['booking_day'].mode()[0],inplace=True)\n",
        "data1['booking_hour'].fillna(data1['booking_hour'].mode()[0],inplace=True)\n",
        "data1['booking_minute'].fillna(data1['booking_minute'].mode()[0],inplace=True)\n",
        "data1['booking_day_of_week'].fillna(data1['booking_day_of_week'].mode()[0],inplace=True)\n",
        "data1['hours_between_bookings_and_actual_pickup'].fillna(data1['hours_between_bookings_and_actual_pickup'].mode()[0],inplace=True)"
      ]
    },
    {
      "cell_type": "code",
      "execution_count": 312,
      "metadata": {
        "colab": {
          "base_uri": "https://localhost:8080/"
        },
        "id": "EaI_K2pS9N7n",
        "outputId": "fb64f392-9afc-4e41-e782-c0fa1d0bebac"
      },
      "outputs": [
        {
          "name": "stderr",
          "output_type": "stream",
          "text": [
            "C:\\Users\\swaytha\\AppData\\Local\\Temp\\ipykernel_16548\\123124311.py:3: SettingWithCopyWarning: \n",
            "A value is trying to be set on a copy of a slice from a DataFrame.\n",
            "Try using .loc[row_indexer,col_indexer] = value instead\n",
            "\n",
            "See the caveats in the documentation: https://pandas.pydata.org/pandas-docs/stable/user_guide/indexing.html#returning-a-view-versus-a-copy\n",
            "  data1['day_of_week'] = le.fit_transform(data1['day_of_week'])\n",
            "C:\\Users\\swaytha\\AppData\\Local\\Temp\\ipykernel_16548\\123124311.py:4: SettingWithCopyWarning: \n",
            "A value is trying to be set on a copy of a slice from a DataFrame.\n",
            "Try using .loc[row_indexer,col_indexer] = value instead\n",
            "\n",
            "See the caveats in the documentation: https://pandas.pydata.org/pandas-docs/stable/user_guide/indexing.html#returning-a-view-versus-a-copy\n",
            "  data1['time_of_day'] = le.fit_transform(data1['time_of_day'])\n",
            "C:\\Users\\swaytha\\AppData\\Local\\Temp\\ipykernel_16548\\123124311.py:5: SettingWithCopyWarning: \n",
            "A value is trying to be set on a copy of a slice from a DataFrame.\n",
            "Try using .loc[row_indexer,col_indexer] = value instead\n",
            "\n",
            "See the caveats in the documentation: https://pandas.pydata.org/pandas-docs/stable/user_guide/indexing.html#returning-a-view-versus-a-copy\n",
            "  data1['day_type'] = le.fit_transform(data1['day_type'])\n",
            "C:\\Users\\swaytha\\AppData\\Local\\Temp\\ipykernel_16548\\123124311.py:6: SettingWithCopyWarning: \n",
            "A value is trying to be set on a copy of a slice from a DataFrame.\n",
            "Try using .loc[row_indexer,col_indexer] = value instead\n",
            "\n",
            "See the caveats in the documentation: https://pandas.pydata.org/pandas-docs/stable/user_guide/indexing.html#returning-a-view-versus-a-copy\n",
            "  data1['day_of_week'] = le.fit_transform(data1['day_of_week'])\n",
            "C:\\Users\\swaytha\\AppData\\Local\\Temp\\ipykernel_16548\\123124311.py:7: SettingWithCopyWarning: \n",
            "A value is trying to be set on a copy of a slice from a DataFrame.\n",
            "Try using .loc[row_indexer,col_indexer] = value instead\n",
            "\n",
            "See the caveats in the documentation: https://pandas.pydata.org/pandas-docs/stable/user_guide/indexing.html#returning-a-view-versus-a-copy\n",
            "  data1['booking_day_of_week'] = le.fit_transform(data1['booking_day_of_week'])\n",
            "C:\\Users\\swaytha\\AppData\\Local\\Temp\\ipykernel_16548\\123124311.py:8: SettingWithCopyWarning: \n",
            "A value is trying to be set on a copy of a slice from a DataFrame.\n",
            "Try using .loc[row_indexer,col_indexer] = value instead\n",
            "\n",
            "See the caveats in the documentation: https://pandas.pydata.org/pandas-docs/stable/user_guide/indexing.html#returning-a-view-versus-a-copy\n",
            "  data1['booking_time_of_day'] = le.fit_transform(data1['booking_time_of_day'])\n"
          ]
        }
      ],
      "source": [
        "from sklearn.preprocessing import LabelEncoder\n",
        "le = LabelEncoder()\n",
        "data1['day_of_week'] = le.fit_transform(data1['day_of_week'])\n",
        "data1['time_of_day'] = le.fit_transform(data1['time_of_day'])\n",
        "data1['day_type'] = le.fit_transform(data1['day_type'])\n",
        "data1['day_of_week'] = le.fit_transform(data1['day_of_week'])\n",
        "data1['booking_day_of_week'] = le.fit_transform(data1['booking_day_of_week'])\n",
        "data1['booking_time_of_day'] = le.fit_transform(data1['booking_time_of_day'])"
      ]
    },
    {
      "cell_type": "code",
      "execution_count": 313,
      "metadata": {
        "colab": {
          "base_uri": "https://localhost:8080/"
        },
        "id": "QRq9Rlqv93Nx",
        "outputId": "4ac738f5-d533-4ffc-ead2-3c4124fed357"
      },
      "outputs": [
        {
          "name": "stderr",
          "output_type": "stream",
          "text": [
            "C:\\Users\\swaytha\\AppData\\Local\\Temp\\ipykernel_16548\\1063557560.py:1: SettingWithCopyWarning: \n",
            "A value is trying to be set on a copy of a slice from a DataFrame.\n",
            "Try using .loc[row_indexer,col_indexer] = value instead\n",
            "\n",
            "See the caveats in the documentation: https://pandas.pydata.org/pandas-docs/stable/user_guide/indexing.html#returning-a-view-versus-a-copy\n",
            "  data1['year'] = data1['year'].astype(int)\n",
            "C:\\Users\\swaytha\\AppData\\Local\\Temp\\ipykernel_16548\\1063557560.py:2: SettingWithCopyWarning: \n",
            "A value is trying to be set on a copy of a slice from a DataFrame.\n",
            "Try using .loc[row_indexer,col_indexer] = value instead\n",
            "\n",
            "See the caveats in the documentation: https://pandas.pydata.org/pandas-docs/stable/user_guide/indexing.html#returning-a-view-versus-a-copy\n",
            "  data1['month'] = data1['month'].astype(int)\n",
            "C:\\Users\\swaytha\\AppData\\Local\\Temp\\ipykernel_16548\\1063557560.py:3: SettingWithCopyWarning: \n",
            "A value is trying to be set on a copy of a slice from a DataFrame.\n",
            "Try using .loc[row_indexer,col_indexer] = value instead\n",
            "\n",
            "See the caveats in the documentation: https://pandas.pydata.org/pandas-docs/stable/user_guide/indexing.html#returning-a-view-versus-a-copy\n",
            "  data1['day'] = data1['day'].astype(int)\n",
            "C:\\Users\\swaytha\\AppData\\Local\\Temp\\ipykernel_16548\\1063557560.py:4: SettingWithCopyWarning: \n",
            "A value is trying to be set on a copy of a slice from a DataFrame.\n",
            "Try using .loc[row_indexer,col_indexer] = value instead\n",
            "\n",
            "See the caveats in the documentation: https://pandas.pydata.org/pandas-docs/stable/user_guide/indexing.html#returning-a-view-versus-a-copy\n",
            "  data1['hour'] = data1['hour'].astype(int)\n",
            "C:\\Users\\swaytha\\AppData\\Local\\Temp\\ipykernel_16548\\1063557560.py:5: SettingWithCopyWarning: \n",
            "A value is trying to be set on a copy of a slice from a DataFrame.\n",
            "Try using .loc[row_indexer,col_indexer] = value instead\n",
            "\n",
            "See the caveats in the documentation: https://pandas.pydata.org/pandas-docs/stable/user_guide/indexing.html#returning-a-view-versus-a-copy\n",
            "  data1['minute'] = data1['minute'].astype(int)\n",
            "C:\\Users\\swaytha\\AppData\\Local\\Temp\\ipykernel_16548\\1063557560.py:6: SettingWithCopyWarning: \n",
            "A value is trying to be set on a copy of a slice from a DataFrame.\n",
            "Try using .loc[row_indexer,col_indexer] = value instead\n",
            "\n",
            "See the caveats in the documentation: https://pandas.pydata.org/pandas-docs/stable/user_guide/indexing.html#returning-a-view-versus-a-copy\n",
            "  data1['booking_year'] = data1['booking_year'].astype(int)\n",
            "C:\\Users\\swaytha\\AppData\\Local\\Temp\\ipykernel_16548\\1063557560.py:7: SettingWithCopyWarning: \n",
            "A value is trying to be set on a copy of a slice from a DataFrame.\n",
            "Try using .loc[row_indexer,col_indexer] = value instead\n",
            "\n",
            "See the caveats in the documentation: https://pandas.pydata.org/pandas-docs/stable/user_guide/indexing.html#returning-a-view-versus-a-copy\n",
            "  data1['booking_month'] = data1['booking_month'].astype(int)\n",
            "C:\\Users\\swaytha\\AppData\\Local\\Temp\\ipykernel_16548\\1063557560.py:8: SettingWithCopyWarning: \n",
            "A value is trying to be set on a copy of a slice from a DataFrame.\n",
            "Try using .loc[row_indexer,col_indexer] = value instead\n",
            "\n",
            "See the caveats in the documentation: https://pandas.pydata.org/pandas-docs/stable/user_guide/indexing.html#returning-a-view-versus-a-copy\n",
            "  data1['booking_day'] = data1['booking_day'].astype(int)\n",
            "C:\\Users\\swaytha\\AppData\\Local\\Temp\\ipykernel_16548\\1063557560.py:9: SettingWithCopyWarning: \n",
            "A value is trying to be set on a copy of a slice from a DataFrame.\n",
            "Try using .loc[row_indexer,col_indexer] = value instead\n",
            "\n",
            "See the caveats in the documentation: https://pandas.pydata.org/pandas-docs/stable/user_guide/indexing.html#returning-a-view-versus-a-copy\n",
            "  data1['booking_hour'] = data1['booking_hour'].astype(int)\n",
            "C:\\Users\\swaytha\\AppData\\Local\\Temp\\ipykernel_16548\\1063557560.py:10: SettingWithCopyWarning: \n",
            "A value is trying to be set on a copy of a slice from a DataFrame.\n",
            "Try using .loc[row_indexer,col_indexer] = value instead\n",
            "\n",
            "See the caveats in the documentation: https://pandas.pydata.org/pandas-docs/stable/user_guide/indexing.html#returning-a-view-versus-a-copy\n",
            "  data1['booking_minute'] = data1['booking_minute'].astype(int)\n",
            "C:\\Users\\swaytha\\AppData\\Local\\Temp\\ipykernel_16548\\1063557560.py:11: SettingWithCopyWarning: \n",
            "A value is trying to be set on a copy of a slice from a DataFrame.\n",
            "Try using .loc[row_indexer,col_indexer] = value instead\n",
            "\n",
            "See the caveats in the documentation: https://pandas.pydata.org/pandas-docs/stable/user_guide/indexing.html#returning-a-view-versus-a-copy\n",
            "  data1['hours_between_bookings_and_actual_pickup'] = data1['hours_between_bookings_and_actual_pickup'].astype(int)\n"
          ]
        }
      ],
      "source": [
        "data1['year'] = data1['year'].astype(int)\n",
        "data1['month'] = data1['month'].astype(int)\n",
        "data1['day'] = data1['day'].astype(int)\n",
        "data1['hour'] = data1['hour'].astype(int)\n",
        "data1['minute'] = data1['minute'].astype(int)\n",
        "data1['booking_year'] = data1['booking_year'].astype(int)\n",
        "data1['booking_month'] = data1['booking_month'].astype(int)\n",
        "data1['booking_day'] = data1['booking_day'].astype(int)\n",
        "data1['booking_hour'] = data1['booking_hour'].astype(int)\n",
        "data1['booking_minute'] = data1['booking_minute'].astype(int)\n",
        "data1['hours_between_bookings_and_actual_pickup'] = data1['hours_between_bookings_and_actual_pickup'].astype(int)"
      ]
    },
    {
      "cell_type": "code",
      "execution_count": 314,
      "metadata": {
        "colab": {
          "base_uri": "https://localhost:8080/"
        },
        "id": "lRlF0tRAVp61",
        "outputId": "ebfd82a1-0c81-4ffb-cd0e-bea15fc1a8ff"
      },
      "outputs": [
        {
          "name": "stderr",
          "output_type": "stream",
          "text": [
            "C:\\Users\\swaytha\\AppData\\Local\\Temp\\ipykernel_16548\\2405793311.py:1: SettingWithCopyWarning: \n",
            "A value is trying to be set on a copy of a slice from a DataFrame\n",
            "\n",
            "See the caveats in the documentation: https://pandas.pydata.org/pandas-docs/stable/user_guide/indexing.html#returning-a-view-versus-a-copy\n",
            "  data1.drop(['from_date'], axis = 1, inplace = True)\n"
          ]
        }
      ],
      "source": [
        "data1.drop(['from_date'], axis = 1, inplace = True)"
      ]
    },
    {
      "cell_type": "code",
      "execution_count": 315,
      "metadata": {
        "colab": {
          "base_uri": "https://localhost:8080/"
        },
        "id": "uqx3g3nXYYCa",
        "outputId": "49a53643-e2e3-41f2-d5a6-204a21754979"
      },
      "outputs": [
        {
          "name": "stderr",
          "output_type": "stream",
          "text": [
            "C:\\Users\\swaytha\\AppData\\Local\\Temp\\ipykernel_16548\\2719407028.py:1: SettingWithCopyWarning: \n",
            "A value is trying to be set on a copy of a slice from a DataFrame\n",
            "\n",
            "See the caveats in the documentation: https://pandas.pydata.org/pandas-docs/stable/user_guide/indexing.html#returning-a-view-versus-a-copy\n",
            "  data1.drop(['booking_created'], axis = 1, inplace = True)\n"
          ]
        }
      ],
      "source": [
        "data1.drop(['booking_created'], axis = 1, inplace = True)"
      ]
    },
    {
      "cell_type": "code",
      "execution_count": 316,
      "metadata": {
        "colab": {
          "base_uri": "https://localhost:8080/",
          "height": 429
        },
        "id": "yUKM5hJLF0tp",
        "outputId": "22d52ba8-5f27-46dc-c2b6-29be7b5db532"
      },
      "outputs": [
        {
          "data": {
            "text/plain": [
              "from_area_id           0\n",
              "to_area_id             0\n",
              "from_date              0\n",
              "online_booking         0\n",
              "mobile_site_booking    0\n",
              "booking_created        0\n",
              "from_lat               0\n",
              "from_long              0\n",
              "to_lat                 0\n",
              "to_long                0\n",
              "Car_Cancellation       0\n",
              "dtype: int64"
            ]
          },
          "execution_count": 316,
          "metadata": {},
          "output_type": "execute_result"
        }
      ],
      "source": [
        "data2.isna().sum()"
      ]
    },
    {
      "cell_type": "code",
      "execution_count": 317,
      "metadata": {
        "colab": {
          "base_uri": "https://localhost:8080/",
          "height": 330
        },
        "id": "dvFWYuu_3R_q",
        "outputId": "6e10a245-c60f-4d42-e8ce-0ce1557b4a22"
      },
      "outputs": [
        {
          "name": "stderr",
          "output_type": "stream",
          "text": [
            "C:\\Users\\swaytha\\AppData\\Local\\Temp\\ipykernel_16548\\3100809106.py:2: SettingWithCopyWarning: \n",
            "A value is trying to be set on a copy of a slice from a DataFrame.\n",
            "Try using .loc[row_indexer,col_indexer] = value instead\n",
            "\n",
            "See the caveats in the documentation: https://pandas.pydata.org/pandas-docs/stable/user_guide/indexing.html#returning-a-view-versus-a-copy\n",
            "  data2['from_area_id'] = data2['from_area_id'].map(frequency_encoding)\n"
          ]
        },
        {
          "data": {
            "text/html": [
              "<div>\n",
              "<style scoped>\n",
              "    .dataframe tbody tr th:only-of-type {\n",
              "        vertical-align: middle;\n",
              "    }\n",
              "\n",
              "    .dataframe tbody tr th {\n",
              "        vertical-align: top;\n",
              "    }\n",
              "\n",
              "    .dataframe thead th {\n",
              "        text-align: right;\n",
              "    }\n",
              "</style>\n",
              "<table border=\"1\" class=\"dataframe\">\n",
              "  <thead>\n",
              "    <tr style=\"text-align: right;\">\n",
              "      <th></th>\n",
              "      <th>from_area_id</th>\n",
              "    </tr>\n",
              "  </thead>\n",
              "  <tbody>\n",
              "    <tr>\n",
              "      <th>0</th>\n",
              "      <td>556</td>\n",
              "    </tr>\n",
              "    <tr>\n",
              "      <th>1</th>\n",
              "      <td>557</td>\n",
              "    </tr>\n",
              "    <tr>\n",
              "      <th>2</th>\n",
              "      <td>95</td>\n",
              "    </tr>\n",
              "    <tr>\n",
              "      <th>3</th>\n",
              "      <td>272</td>\n",
              "    </tr>\n",
              "    <tr>\n",
              "      <th>4</th>\n",
              "      <td>198</td>\n",
              "    </tr>\n",
              "  </tbody>\n",
              "</table>\n",
              "</div>"
            ],
            "text/plain": [
              "   from_area_id\n",
              "0           556\n",
              "1           557\n",
              "2            95\n",
              "3           272\n",
              "4           198"
            ]
          },
          "execution_count": 317,
          "metadata": {},
          "output_type": "execute_result"
        }
      ],
      "source": [
        "frequency_encoding = data2['from_area_id'].value_counts().to_dict()\n",
        "data2['from_area_id'] = data2['from_area_id'].map(frequency_encoding)\n",
        "data2[['from_area_id']].head()"
      ]
    },
    {
      "cell_type": "code",
      "execution_count": 318,
      "metadata": {
        "colab": {
          "base_uri": "https://localhost:8080/",
          "height": 365
        },
        "id": "hgiCs-6xLv7g",
        "outputId": "5158b71b-e85b-475f-dad9-6c0a136ed74b"
      },
      "outputs": [
        {
          "name": "stderr",
          "output_type": "stream",
          "text": [
            "C:\\Users\\swaytha\\AppData\\Local\\Temp\\ipykernel_16548\\1568180373.py:2: SettingWithCopyWarning: \n",
            "A value is trying to be set on a copy of a slice from a DataFrame.\n",
            "Try using .loc[row_indexer,col_indexer] = value instead\n",
            "\n",
            "See the caveats in the documentation: https://pandas.pydata.org/pandas-docs/stable/user_guide/indexing.html#returning-a-view-versus-a-copy\n",
            "  data2['to_area_id'] = data2['to_area_id'].map(frequency_encoding)\n"
          ]
        },
        {
          "data": {
            "text/plain": [
              "0    126\n",
              "1     46\n",
              "2     49\n",
              "3      9\n",
              "4     94\n",
              "Name: to_area_id, dtype: int64"
            ]
          },
          "execution_count": 318,
          "metadata": {},
          "output_type": "execute_result"
        }
      ],
      "source": [
        "frequency_encoding = data['to_area_id'].value_counts().to_dict()\n",
        "data2['to_area_id'] = data2['to_area_id'].map(frequency_encoding)\n",
        "data2['to_area_id'].head()"
      ]
    },
    {
      "cell_type": "code",
      "execution_count": 319,
      "metadata": {
        "colab": {
          "base_uri": "https://localhost:8080/"
        },
        "id": "GgMS1QSALv36",
        "outputId": "e6ed78cb-c5de-44d5-98a0-5a601dbab46f"
      },
      "outputs": [
        {
          "name": "stdout",
          "output_type": "stream",
          "text": [
            "            from_date\n",
            "0 2013-01-01 02:00:00\n",
            "1 2013-01-01 09:00:00\n",
            "2 2013-01-01 03:30:00\n",
            "3 2013-01-01 05:45:00\n",
            "4 2013-01-01 09:00:00\n"
          ]
        },
        {
          "name": "stderr",
          "output_type": "stream",
          "text": [
            "C:\\Users\\swaytha\\AppData\\Local\\Temp\\ipykernel_16548\\1049833712.py:1: SettingWithCopyWarning: \n",
            "A value is trying to be set on a copy of a slice from a DataFrame.\n",
            "Try using .loc[row_indexer,col_indexer] = value instead\n",
            "\n",
            "See the caveats in the documentation: https://pandas.pydata.org/pandas-docs/stable/user_guide/indexing.html#returning-a-view-versus-a-copy\n",
            "  data2['from_date'] = pd.to_datetime(data2['from_date'], errors='coerce')\n"
          ]
        }
      ],
      "source": [
        "data2['from_date'] = pd.to_datetime(data2['from_date'], errors='coerce')\n",
        "print(data2[['from_date']].head())"
      ]
    },
    {
      "cell_type": "code",
      "execution_count": 320,
      "metadata": {
        "colab": {
          "base_uri": "https://localhost:8080/"
        },
        "id": "Y5uYRsmXLv1a",
        "outputId": "8178ff89-3cd5-4d06-f803-e4ff0c897168"
      },
      "outputs": [
        {
          "name": "stderr",
          "output_type": "stream",
          "text": [
            "C:\\Users\\swaytha\\AppData\\Local\\Temp\\ipykernel_16548\\2261601498.py:1: SettingWithCopyWarning: \n",
            "A value is trying to be set on a copy of a slice from a DataFrame.\n",
            "Try using .loc[row_indexer,col_indexer] = value instead\n",
            "\n",
            "See the caveats in the documentation: https://pandas.pydata.org/pandas-docs/stable/user_guide/indexing.html#returning-a-view-versus-a-copy\n",
            "  data2['year'] = data2['from_date'].dt.year\n",
            "C:\\Users\\swaytha\\AppData\\Local\\Temp\\ipykernel_16548\\2261601498.py:2: SettingWithCopyWarning: \n",
            "A value is trying to be set on a copy of a slice from a DataFrame.\n",
            "Try using .loc[row_indexer,col_indexer] = value instead\n",
            "\n",
            "See the caveats in the documentation: https://pandas.pydata.org/pandas-docs/stable/user_guide/indexing.html#returning-a-view-versus-a-copy\n",
            "  data2['month'] = data2['from_date'].dt.month\n",
            "C:\\Users\\swaytha\\AppData\\Local\\Temp\\ipykernel_16548\\2261601498.py:3: SettingWithCopyWarning: \n",
            "A value is trying to be set on a copy of a slice from a DataFrame.\n",
            "Try using .loc[row_indexer,col_indexer] = value instead\n",
            "\n",
            "See the caveats in the documentation: https://pandas.pydata.org/pandas-docs/stable/user_guide/indexing.html#returning-a-view-versus-a-copy\n",
            "  data2['day'] = data2['from_date'].dt.day\n",
            "C:\\Users\\swaytha\\AppData\\Local\\Temp\\ipykernel_16548\\2261601498.py:4: SettingWithCopyWarning: \n",
            "A value is trying to be set on a copy of a slice from a DataFrame.\n",
            "Try using .loc[row_indexer,col_indexer] = value instead\n",
            "\n",
            "See the caveats in the documentation: https://pandas.pydata.org/pandas-docs/stable/user_guide/indexing.html#returning-a-view-versus-a-copy\n",
            "  data2['hour'] = data2['from_date'].dt.hour\n",
            "C:\\Users\\swaytha\\AppData\\Local\\Temp\\ipykernel_16548\\2261601498.py:5: SettingWithCopyWarning: \n",
            "A value is trying to be set on a copy of a slice from a DataFrame.\n",
            "Try using .loc[row_indexer,col_indexer] = value instead\n",
            "\n",
            "See the caveats in the documentation: https://pandas.pydata.org/pandas-docs/stable/user_guide/indexing.html#returning-a-view-versus-a-copy\n",
            "  data2['minute'] = data2['from_date'].dt.minute\n",
            "C:\\Users\\swaytha\\AppData\\Local\\Temp\\ipykernel_16548\\2261601498.py:6: SettingWithCopyWarning: \n",
            "A value is trying to be set on a copy of a slice from a DataFrame.\n",
            "Try using .loc[row_indexer,col_indexer] = value instead\n",
            "\n",
            "See the caveats in the documentation: https://pandas.pydata.org/pandas-docs/stable/user_guide/indexing.html#returning-a-view-versus-a-copy\n",
            "  data2['day_of_week'] = data2['from_date'].dt.strftime('%A')\n",
            "C:\\Users\\swaytha\\AppData\\Local\\Temp\\ipykernel_16548\\2261601498.py:7: SettingWithCopyWarning: \n",
            "A value is trying to be set on a copy of a slice from a DataFrame.\n",
            "Try using .loc[row_indexer,col_indexer] = value instead\n",
            "\n",
            "See the caveats in the documentation: https://pandas.pydata.org/pandas-docs/stable/user_guide/indexing.html#returning-a-view-versus-a-copy\n",
            "  data2['time_of_day'] = data2['from_date'].dt.hour.apply(get_time_of_day)\n",
            "C:\\Users\\swaytha\\AppData\\Local\\Temp\\ipykernel_16548\\2261601498.py:8: SettingWithCopyWarning: \n",
            "A value is trying to be set on a copy of a slice from a DataFrame.\n",
            "Try using .loc[row_indexer,col_indexer] = value instead\n",
            "\n",
            "See the caveats in the documentation: https://pandas.pydata.org/pandas-docs/stable/user_guide/indexing.html#returning-a-view-versus-a-copy\n",
            "  data2['day_type'] = data2['from_date'].dt.dayofweek.apply(lambda x: 'weekend' if x >= 5 else 'weekday')\n"
          ]
        }
      ],
      "source": [
        "data2['year'] = data2['from_date'].dt.year\n",
        "data2['month'] = data2['from_date'].dt.month\n",
        "data2['day'] = data2['from_date'].dt.day\n",
        "data2['hour'] = data2['from_date'].dt.hour\n",
        "data2['minute'] = data2['from_date'].dt.minute\n",
        "data2['day_of_week'] = data2['from_date'].dt.strftime('%A')\n",
        "data2['time_of_day'] = data2['from_date'].dt.hour.apply(get_time_of_day)\n",
        "data2['day_type'] = data2['from_date'].dt.dayofweek.apply(lambda x: 'weekend' if x >= 5 else 'weekday')"
      ]
    },
    {
      "cell_type": "code",
      "execution_count": 321,
      "metadata": {
        "colab": {
          "base_uri": "https://localhost:8080/"
        },
        "id": "__ok1pQyLvyV",
        "outputId": "dfb552d5-da8a-44b6-f79f-3c3dc6ebdf34"
      },
      "outputs": [
        {
          "name": "stderr",
          "output_type": "stream",
          "text": [
            "C:\\Users\\swaytha\\AppData\\Local\\Temp\\ipykernel_16548\\2664693196.py:1: SettingWithCopyWarning: \n",
            "A value is trying to be set on a copy of a slice from a DataFrame.\n",
            "Try using .loc[row_indexer,col_indexer] = value instead\n",
            "\n",
            "See the caveats in the documentation: https://pandas.pydata.org/pandas-docs/stable/user_guide/indexing.html#returning-a-view-versus-a-copy\n",
            "  data2['booking_created'] = pd.to_datetime(data2['booking_created'], errors='coerce')\n"
          ]
        }
      ],
      "source": [
        "data2['booking_created'] = pd.to_datetime(data2['booking_created'], errors='coerce')"
      ]
    },
    {
      "cell_type": "code",
      "execution_count": 322,
      "metadata": {
        "colab": {
          "base_uri": "https://localhost:8080/"
        },
        "id": "0UBjIXykLvwF",
        "outputId": "4cbae6b2-bc17-4042-a761-62e749a19a4d"
      },
      "outputs": [
        {
          "name": "stderr",
          "output_type": "stream",
          "text": [
            "C:\\Users\\swaytha\\AppData\\Local\\Temp\\ipykernel_16548\\881045025.py:1: SettingWithCopyWarning: \n",
            "A value is trying to be set on a copy of a slice from a DataFrame.\n",
            "Try using .loc[row_indexer,col_indexer] = value instead\n",
            "\n",
            "See the caveats in the documentation: https://pandas.pydata.org/pandas-docs/stable/user_guide/indexing.html#returning-a-view-versus-a-copy\n",
            "  data2['booking_year'] = data2['booking_created'].dt.year\n",
            "C:\\Users\\swaytha\\AppData\\Local\\Temp\\ipykernel_16548\\881045025.py:2: SettingWithCopyWarning: \n",
            "A value is trying to be set on a copy of a slice from a DataFrame.\n",
            "Try using .loc[row_indexer,col_indexer] = value instead\n",
            "\n",
            "See the caveats in the documentation: https://pandas.pydata.org/pandas-docs/stable/user_guide/indexing.html#returning-a-view-versus-a-copy\n",
            "  data2['booking_month'] = data2['booking_created'].dt.month\n",
            "C:\\Users\\swaytha\\AppData\\Local\\Temp\\ipykernel_16548\\881045025.py:3: SettingWithCopyWarning: \n",
            "A value is trying to be set on a copy of a slice from a DataFrame.\n",
            "Try using .loc[row_indexer,col_indexer] = value instead\n",
            "\n",
            "See the caveats in the documentation: https://pandas.pydata.org/pandas-docs/stable/user_guide/indexing.html#returning-a-view-versus-a-copy\n",
            "  data2['booking_day'] = data2['booking_created'].dt.day\n",
            "C:\\Users\\swaytha\\AppData\\Local\\Temp\\ipykernel_16548\\881045025.py:4: SettingWithCopyWarning: \n",
            "A value is trying to be set on a copy of a slice from a DataFrame.\n",
            "Try using .loc[row_indexer,col_indexer] = value instead\n",
            "\n",
            "See the caveats in the documentation: https://pandas.pydata.org/pandas-docs/stable/user_guide/indexing.html#returning-a-view-versus-a-copy\n",
            "  data2['booking_hour'] = data2['booking_created'].dt.hour\n",
            "C:\\Users\\swaytha\\AppData\\Local\\Temp\\ipykernel_16548\\881045025.py:5: SettingWithCopyWarning: \n",
            "A value is trying to be set on a copy of a slice from a DataFrame.\n",
            "Try using .loc[row_indexer,col_indexer] = value instead\n",
            "\n",
            "See the caveats in the documentation: https://pandas.pydata.org/pandas-docs/stable/user_guide/indexing.html#returning-a-view-versus-a-copy\n",
            "  data2['booking_minute'] = data2['booking_created'].dt.minute\n",
            "C:\\Users\\swaytha\\AppData\\Local\\Temp\\ipykernel_16548\\881045025.py:6: SettingWithCopyWarning: \n",
            "A value is trying to be set on a copy of a slice from a DataFrame.\n",
            "Try using .loc[row_indexer,col_indexer] = value instead\n",
            "\n",
            "See the caveats in the documentation: https://pandas.pydata.org/pandas-docs/stable/user_guide/indexing.html#returning-a-view-versus-a-copy\n",
            "  data2['booking_day_of_week'] = data2['booking_created'].dt.strftime('%A')\n",
            "C:\\Users\\swaytha\\AppData\\Local\\Temp\\ipykernel_16548\\881045025.py:7: SettingWithCopyWarning: \n",
            "A value is trying to be set on a copy of a slice from a DataFrame.\n",
            "Try using .loc[row_indexer,col_indexer] = value instead\n",
            "\n",
            "See the caveats in the documentation: https://pandas.pydata.org/pandas-docs/stable/user_guide/indexing.html#returning-a-view-versus-a-copy\n",
            "  data2['booking_time_of_day'] = data2['booking_created'].dt.hour.apply(get_time_of_day)\n"
          ]
        }
      ],
      "source": [
        "data2['booking_year'] = data2['booking_created'].dt.year\n",
        "data2['booking_month'] = data2['booking_created'].dt.month\n",
        "data2['booking_day'] = data2['booking_created'].dt.day\n",
        "data2['booking_hour'] = data2['booking_created'].dt.hour\n",
        "data2['booking_minute'] = data2['booking_created'].dt.minute\n",
        "data2['booking_day_of_week'] = data2['booking_created'].dt.strftime('%A')\n",
        "data2['booking_time_of_day'] = data2['booking_created'].dt.hour.apply(get_time_of_day)"
      ]
    },
    {
      "cell_type": "code",
      "execution_count": 323,
      "metadata": {
        "colab": {
          "base_uri": "https://localhost:8080/"
        },
        "id": "n2Voo2PDitz-",
        "outputId": "12b4ce30-bedf-4198-cc95-d5008e58be08"
      },
      "outputs": [
        {
          "name": "stderr",
          "output_type": "stream",
          "text": [
            "C:\\Users\\swaytha\\AppData\\Local\\Temp\\ipykernel_16548\\2959923520.py:1: SettingWithCopyWarning: \n",
            "A value is trying to be set on a copy of a slice from a DataFrame.\n",
            "Try using .loc[row_indexer,col_indexer] = value instead\n",
            "\n",
            "See the caveats in the documentation: https://pandas.pydata.org/pandas-docs/stable/user_guide/indexing.html#returning-a-view-versus-a-copy\n",
            "  data2['hours_between_bookings_and_actual_pickup'] = (data2['from_date'].dt.day - data2['booking_created'].dt.day)\n"
          ]
        }
      ],
      "source": [
        "data2['hours_between_bookings_and_actual_pickup'] = (data2['from_date'].dt.day - data2['booking_created'].dt.day)"
      ]
    },
    {
      "cell_type": "code",
      "execution_count": 324,
      "metadata": {
        "colab": {
          "base_uri": "https://localhost:8080/"
        },
        "id": "CEVSzA6kCvcs",
        "outputId": "078c15e0-13ff-4408-929b-a1678478afe8"
      },
      "outputs": [
        {
          "name": "stderr",
          "output_type": "stream",
          "text": [
            "C:\\Users\\swaytha\\AppData\\Local\\Temp\\ipykernel_16548\\2278943297.py:1: FutureWarning: A value is trying to be set on a copy of a DataFrame or Series through chained assignment using an inplace method.\n",
            "The behavior will change in pandas 3.0. This inplace method will never work because the intermediate object on which we are setting values always behaves as a copy.\n",
            "\n",
            "For example, when doing 'df[col].method(value, inplace=True)', try using 'df.method({col: value}, inplace=True)' or df[col] = df[col].method(value) instead, to perform the operation inplace on the original object.\n",
            "\n",
            "\n",
            "  data2['day_of_week'].fillna(data2['day_of_week'].mode()[0],inplace=True)\n",
            "C:\\Users\\swaytha\\AppData\\Local\\Temp\\ipykernel_16548\\2278943297.py:1: SettingWithCopyWarning: \n",
            "A value is trying to be set on a copy of a slice from a DataFrame\n",
            "\n",
            "See the caveats in the documentation: https://pandas.pydata.org/pandas-docs/stable/user_guide/indexing.html#returning-a-view-versus-a-copy\n",
            "  data2['day_of_week'].fillna(data2['day_of_week'].mode()[0],inplace=True)\n",
            "C:\\Users\\swaytha\\AppData\\Local\\Temp\\ipykernel_16548\\2278943297.py:2: FutureWarning: A value is trying to be set on a copy of a DataFrame or Series through chained assignment using an inplace method.\n",
            "The behavior will change in pandas 3.0. This inplace method will never work because the intermediate object on which we are setting values always behaves as a copy.\n",
            "\n",
            "For example, when doing 'df[col].method(value, inplace=True)', try using 'df.method({col: value}, inplace=True)' or df[col] = df[col].method(value) instead, to perform the operation inplace on the original object.\n",
            "\n",
            "\n",
            "  data2['month'].fillna(data2['month'].mode()[0],inplace=True)\n",
            "C:\\Users\\swaytha\\AppData\\Local\\Temp\\ipykernel_16548\\2278943297.py:2: SettingWithCopyWarning: \n",
            "A value is trying to be set on a copy of a slice from a DataFrame\n",
            "\n",
            "See the caveats in the documentation: https://pandas.pydata.org/pandas-docs/stable/user_guide/indexing.html#returning-a-view-versus-a-copy\n",
            "  data2['month'].fillna(data2['month'].mode()[0],inplace=True)\n",
            "C:\\Users\\swaytha\\AppData\\Local\\Temp\\ipykernel_16548\\2278943297.py:3: FutureWarning: A value is trying to be set on a copy of a DataFrame or Series through chained assignment using an inplace method.\n",
            "The behavior will change in pandas 3.0. This inplace method will never work because the intermediate object on which we are setting values always behaves as a copy.\n",
            "\n",
            "For example, when doing 'df[col].method(value, inplace=True)', try using 'df.method({col: value}, inplace=True)' or df[col] = df[col].method(value) instead, to perform the operation inplace on the original object.\n",
            "\n",
            "\n",
            "  data2['year'].fillna(data2['year'].mode()[0],inplace=True)\n",
            "C:\\Users\\swaytha\\AppData\\Local\\Temp\\ipykernel_16548\\2278943297.py:3: SettingWithCopyWarning: \n",
            "A value is trying to be set on a copy of a slice from a DataFrame\n",
            "\n",
            "See the caveats in the documentation: https://pandas.pydata.org/pandas-docs/stable/user_guide/indexing.html#returning-a-view-versus-a-copy\n",
            "  data2['year'].fillna(data2['year'].mode()[0],inplace=True)\n",
            "C:\\Users\\swaytha\\AppData\\Local\\Temp\\ipykernel_16548\\2278943297.py:4: FutureWarning: A value is trying to be set on a copy of a DataFrame or Series through chained assignment using an inplace method.\n",
            "The behavior will change in pandas 3.0. This inplace method will never work because the intermediate object on which we are setting values always behaves as a copy.\n",
            "\n",
            "For example, when doing 'df[col].method(value, inplace=True)', try using 'df.method({col: value}, inplace=True)' or df[col] = df[col].method(value) instead, to perform the operation inplace on the original object.\n",
            "\n",
            "\n",
            "  data2['day'].fillna(data2['day'].mode()[0],inplace=True)\n",
            "C:\\Users\\swaytha\\AppData\\Local\\Temp\\ipykernel_16548\\2278943297.py:4: SettingWithCopyWarning: \n",
            "A value is trying to be set on a copy of a slice from a DataFrame\n",
            "\n",
            "See the caveats in the documentation: https://pandas.pydata.org/pandas-docs/stable/user_guide/indexing.html#returning-a-view-versus-a-copy\n",
            "  data2['day'].fillna(data2['day'].mode()[0],inplace=True)\n",
            "C:\\Users\\swaytha\\AppData\\Local\\Temp\\ipykernel_16548\\2278943297.py:5: FutureWarning: A value is trying to be set on a copy of a DataFrame or Series through chained assignment using an inplace method.\n",
            "The behavior will change in pandas 3.0. This inplace method will never work because the intermediate object on which we are setting values always behaves as a copy.\n",
            "\n",
            "For example, when doing 'df[col].method(value, inplace=True)', try using 'df.method({col: value}, inplace=True)' or df[col] = df[col].method(value) instead, to perform the operation inplace on the original object.\n",
            "\n",
            "\n",
            "  data2['hour'].fillna(data2['hour'].mode()[0],inplace=True)\n",
            "C:\\Users\\swaytha\\AppData\\Local\\Temp\\ipykernel_16548\\2278943297.py:5: SettingWithCopyWarning: \n",
            "A value is trying to be set on a copy of a slice from a DataFrame\n",
            "\n",
            "See the caveats in the documentation: https://pandas.pydata.org/pandas-docs/stable/user_guide/indexing.html#returning-a-view-versus-a-copy\n",
            "  data2['hour'].fillna(data2['hour'].mode()[0],inplace=True)\n",
            "C:\\Users\\swaytha\\AppData\\Local\\Temp\\ipykernel_16548\\2278943297.py:6: FutureWarning: A value is trying to be set on a copy of a DataFrame or Series through chained assignment using an inplace method.\n",
            "The behavior will change in pandas 3.0. This inplace method will never work because the intermediate object on which we are setting values always behaves as a copy.\n",
            "\n",
            "For example, when doing 'df[col].method(value, inplace=True)', try using 'df.method({col: value}, inplace=True)' or df[col] = df[col].method(value) instead, to perform the operation inplace on the original object.\n",
            "\n",
            "\n",
            "  data2['minute'].fillna(data2['minute'].mode()[0],inplace=True)\n",
            "C:\\Users\\swaytha\\AppData\\Local\\Temp\\ipykernel_16548\\2278943297.py:6: SettingWithCopyWarning: \n",
            "A value is trying to be set on a copy of a slice from a DataFrame\n",
            "\n",
            "See the caveats in the documentation: https://pandas.pydata.org/pandas-docs/stable/user_guide/indexing.html#returning-a-view-versus-a-copy\n",
            "  data2['minute'].fillna(data2['minute'].mode()[0],inplace=True)\n",
            "C:\\Users\\swaytha\\AppData\\Local\\Temp\\ipykernel_16548\\2278943297.py:7: FutureWarning: A value is trying to be set on a copy of a DataFrame or Series through chained assignment using an inplace method.\n",
            "The behavior will change in pandas 3.0. This inplace method will never work because the intermediate object on which we are setting values always behaves as a copy.\n",
            "\n",
            "For example, when doing 'df[col].method(value, inplace=True)', try using 'df.method({col: value}, inplace=True)' or df[col] = df[col].method(value) instead, to perform the operation inplace on the original object.\n",
            "\n",
            "\n",
            "  data2['booking_year'].fillna(data2['booking_year'].mode()[0],inplace=True)\n",
            "C:\\Users\\swaytha\\AppData\\Local\\Temp\\ipykernel_16548\\2278943297.py:7: SettingWithCopyWarning: \n",
            "A value is trying to be set on a copy of a slice from a DataFrame\n",
            "\n",
            "See the caveats in the documentation: https://pandas.pydata.org/pandas-docs/stable/user_guide/indexing.html#returning-a-view-versus-a-copy\n",
            "  data2['booking_year'].fillna(data2['booking_year'].mode()[0],inplace=True)\n",
            "C:\\Users\\swaytha\\AppData\\Local\\Temp\\ipykernel_16548\\2278943297.py:8: FutureWarning: A value is trying to be set on a copy of a DataFrame or Series through chained assignment using an inplace method.\n",
            "The behavior will change in pandas 3.0. This inplace method will never work because the intermediate object on which we are setting values always behaves as a copy.\n",
            "\n",
            "For example, when doing 'df[col].method(value, inplace=True)', try using 'df.method({col: value}, inplace=True)' or df[col] = df[col].method(value) instead, to perform the operation inplace on the original object.\n",
            "\n",
            "\n",
            "  data2['booking_month'].fillna(data2['booking_month'].mode()[0],inplace=True)\n",
            "C:\\Users\\swaytha\\AppData\\Local\\Temp\\ipykernel_16548\\2278943297.py:8: SettingWithCopyWarning: \n",
            "A value is trying to be set on a copy of a slice from a DataFrame\n",
            "\n",
            "See the caveats in the documentation: https://pandas.pydata.org/pandas-docs/stable/user_guide/indexing.html#returning-a-view-versus-a-copy\n",
            "  data2['booking_month'].fillna(data2['booking_month'].mode()[0],inplace=True)\n",
            "C:\\Users\\swaytha\\AppData\\Local\\Temp\\ipykernel_16548\\2278943297.py:9: FutureWarning: A value is trying to be set on a copy of a DataFrame or Series through chained assignment using an inplace method.\n",
            "The behavior will change in pandas 3.0. This inplace method will never work because the intermediate object on which we are setting values always behaves as a copy.\n",
            "\n",
            "For example, when doing 'df[col].method(value, inplace=True)', try using 'df.method({col: value}, inplace=True)' or df[col] = df[col].method(value) instead, to perform the operation inplace on the original object.\n",
            "\n",
            "\n",
            "  data2['booking_day'].fillna(data2['booking_day'].mode()[0],inplace=True)\n",
            "C:\\Users\\swaytha\\AppData\\Local\\Temp\\ipykernel_16548\\2278943297.py:9: SettingWithCopyWarning: \n",
            "A value is trying to be set on a copy of a slice from a DataFrame\n",
            "\n",
            "See the caveats in the documentation: https://pandas.pydata.org/pandas-docs/stable/user_guide/indexing.html#returning-a-view-versus-a-copy\n",
            "  data2['booking_day'].fillna(data2['booking_day'].mode()[0],inplace=True)\n",
            "C:\\Users\\swaytha\\AppData\\Local\\Temp\\ipykernel_16548\\2278943297.py:10: FutureWarning: A value is trying to be set on a copy of a DataFrame or Series through chained assignment using an inplace method.\n",
            "The behavior will change in pandas 3.0. This inplace method will never work because the intermediate object on which we are setting values always behaves as a copy.\n",
            "\n",
            "For example, when doing 'df[col].method(value, inplace=True)', try using 'df.method({col: value}, inplace=True)' or df[col] = df[col].method(value) instead, to perform the operation inplace on the original object.\n",
            "\n",
            "\n",
            "  data2['booking_hour'].fillna(data2['booking_hour'].mode()[0],inplace=True)\n",
            "C:\\Users\\swaytha\\AppData\\Local\\Temp\\ipykernel_16548\\2278943297.py:10: SettingWithCopyWarning: \n",
            "A value is trying to be set on a copy of a slice from a DataFrame\n",
            "\n",
            "See the caveats in the documentation: https://pandas.pydata.org/pandas-docs/stable/user_guide/indexing.html#returning-a-view-versus-a-copy\n",
            "  data2['booking_hour'].fillna(data2['booking_hour'].mode()[0],inplace=True)\n",
            "C:\\Users\\swaytha\\AppData\\Local\\Temp\\ipykernel_16548\\2278943297.py:11: FutureWarning: A value is trying to be set on a copy of a DataFrame or Series through chained assignment using an inplace method.\n",
            "The behavior will change in pandas 3.0. This inplace method will never work because the intermediate object on which we are setting values always behaves as a copy.\n",
            "\n",
            "For example, when doing 'df[col].method(value, inplace=True)', try using 'df.method({col: value}, inplace=True)' or df[col] = df[col].method(value) instead, to perform the operation inplace on the original object.\n",
            "\n",
            "\n",
            "  data2['booking_minute'].fillna(data2['booking_minute'].mode()[0],inplace=True)\n",
            "C:\\Users\\swaytha\\AppData\\Local\\Temp\\ipykernel_16548\\2278943297.py:11: SettingWithCopyWarning: \n",
            "A value is trying to be set on a copy of a slice from a DataFrame\n",
            "\n",
            "See the caveats in the documentation: https://pandas.pydata.org/pandas-docs/stable/user_guide/indexing.html#returning-a-view-versus-a-copy\n",
            "  data2['booking_minute'].fillna(data2['booking_minute'].mode()[0],inplace=True)\n",
            "C:\\Users\\swaytha\\AppData\\Local\\Temp\\ipykernel_16548\\2278943297.py:12: FutureWarning: A value is trying to be set on a copy of a DataFrame or Series through chained assignment using an inplace method.\n",
            "The behavior will change in pandas 3.0. This inplace method will never work because the intermediate object on which we are setting values always behaves as a copy.\n",
            "\n",
            "For example, when doing 'df[col].method(value, inplace=True)', try using 'df.method({col: value}, inplace=True)' or df[col] = df[col].method(value) instead, to perform the operation inplace on the original object.\n",
            "\n",
            "\n",
            "  data2['booking_day_of_week'].fillna(data2['booking_day_of_week'].mode()[0],inplace=True)\n",
            "C:\\Users\\swaytha\\AppData\\Local\\Temp\\ipykernel_16548\\2278943297.py:12: SettingWithCopyWarning: \n",
            "A value is trying to be set on a copy of a slice from a DataFrame\n",
            "\n",
            "See the caveats in the documentation: https://pandas.pydata.org/pandas-docs/stable/user_guide/indexing.html#returning-a-view-versus-a-copy\n",
            "  data2['booking_day_of_week'].fillna(data2['booking_day_of_week'].mode()[0],inplace=True)\n",
            "C:\\Users\\swaytha\\AppData\\Local\\Temp\\ipykernel_16548\\2278943297.py:13: FutureWarning: A value is trying to be set on a copy of a DataFrame or Series through chained assignment using an inplace method.\n",
            "The behavior will change in pandas 3.0. This inplace method will never work because the intermediate object on which we are setting values always behaves as a copy.\n",
            "\n",
            "For example, when doing 'df[col].method(value, inplace=True)', try using 'df.method({col: value}, inplace=True)' or df[col] = df[col].method(value) instead, to perform the operation inplace on the original object.\n",
            "\n",
            "\n",
            "  data2['hours_between_bookings_and_actual_pickup'].fillna(data2['hours_between_bookings_and_actual_pickup'].mode()[0],inplace=True)\n",
            "C:\\Users\\swaytha\\AppData\\Local\\Temp\\ipykernel_16548\\2278943297.py:13: SettingWithCopyWarning: \n",
            "A value is trying to be set on a copy of a slice from a DataFrame\n",
            "\n",
            "See the caveats in the documentation: https://pandas.pydata.org/pandas-docs/stable/user_guide/indexing.html#returning-a-view-versus-a-copy\n",
            "  data2['hours_between_bookings_and_actual_pickup'].fillna(data2['hours_between_bookings_and_actual_pickup'].mode()[0],inplace=True)\n"
          ]
        }
      ],
      "source": [
        "data2['day_of_week'].fillna(data2['day_of_week'].mode()[0],inplace=True)\n",
        "data2['month'].fillna(data2['month'].mode()[0],inplace=True)\n",
        "data2['year'].fillna(data2['year'].mode()[0],inplace=True)\n",
        "data2['day'].fillna(data2['day'].mode()[0],inplace=True)\n",
        "data2['hour'].fillna(data2['hour'].mode()[0],inplace=True)\n",
        "data2['minute'].fillna(data2['minute'].mode()[0],inplace=True)\n",
        "data2['booking_year'].fillna(data2['booking_year'].mode()[0],inplace=True)\n",
        "data2['booking_month'].fillna(data2['booking_month'].mode()[0],inplace=True)\n",
        "data2['booking_day'].fillna(data2['booking_day'].mode()[0],inplace=True)\n",
        "data2['booking_hour'].fillna(data2['booking_hour'].mode()[0],inplace=True)\n",
        "data2['booking_minute'].fillna(data2['booking_minute'].mode()[0],inplace=True)\n",
        "data2['booking_day_of_week'].fillna(data2['booking_day_of_week'].mode()[0],inplace=True)\n",
        "data2['hours_between_bookings_and_actual_pickup'].fillna(data2['hours_between_bookings_and_actual_pickup'].mode()[0],inplace=True)"
      ]
    },
    {
      "cell_type": "code",
      "execution_count": 325,
      "metadata": {
        "colab": {
          "base_uri": "https://localhost:8080/"
        },
        "id": "DWqjSQ-WDfxk",
        "outputId": "16734577-6f28-4eac-8ce5-07e85ceda729"
      },
      "outputs": [
        {
          "name": "stderr",
          "output_type": "stream",
          "text": [
            "C:\\Users\\swaytha\\AppData\\Local\\Temp\\ipykernel_16548\\884275130.py:1: SettingWithCopyWarning: \n",
            "A value is trying to be set on a copy of a slice from a DataFrame.\n",
            "Try using .loc[row_indexer,col_indexer] = value instead\n",
            "\n",
            "See the caveats in the documentation: https://pandas.pydata.org/pandas-docs/stable/user_guide/indexing.html#returning-a-view-versus-a-copy\n",
            "  data2['day_of_week'] = le.fit_transform(data2['day_of_week'])\n"
          ]
        },
        {
          "name": "stderr",
          "output_type": "stream",
          "text": [
            "C:\\Users\\swaytha\\AppData\\Local\\Temp\\ipykernel_16548\\884275130.py:2: SettingWithCopyWarning: \n",
            "A value is trying to be set on a copy of a slice from a DataFrame.\n",
            "Try using .loc[row_indexer,col_indexer] = value instead\n",
            "\n",
            "See the caveats in the documentation: https://pandas.pydata.org/pandas-docs/stable/user_guide/indexing.html#returning-a-view-versus-a-copy\n",
            "  data2['time_of_day'] = le.fit_transform(data2['time_of_day'])\n",
            "C:\\Users\\swaytha\\AppData\\Local\\Temp\\ipykernel_16548\\884275130.py:3: SettingWithCopyWarning: \n",
            "A value is trying to be set on a copy of a slice from a DataFrame.\n",
            "Try using .loc[row_indexer,col_indexer] = value instead\n",
            "\n",
            "See the caveats in the documentation: https://pandas.pydata.org/pandas-docs/stable/user_guide/indexing.html#returning-a-view-versus-a-copy\n",
            "  data2['day_type'] = le.fit_transform(data2['day_type'])\n",
            "C:\\Users\\swaytha\\AppData\\Local\\Temp\\ipykernel_16548\\884275130.py:4: SettingWithCopyWarning: \n",
            "A value is trying to be set on a copy of a slice from a DataFrame.\n",
            "Try using .loc[row_indexer,col_indexer] = value instead\n",
            "\n",
            "See the caveats in the documentation: https://pandas.pydata.org/pandas-docs/stable/user_guide/indexing.html#returning-a-view-versus-a-copy\n",
            "  data2['day_of_week'] = le.fit_transform(data2['day_of_week'])\n",
            "C:\\Users\\swaytha\\AppData\\Local\\Temp\\ipykernel_16548\\884275130.py:5: SettingWithCopyWarning: \n",
            "A value is trying to be set on a copy of a slice from a DataFrame.\n",
            "Try using .loc[row_indexer,col_indexer] = value instead\n",
            "\n",
            "See the caveats in the documentation: https://pandas.pydata.org/pandas-docs/stable/user_guide/indexing.html#returning-a-view-versus-a-copy\n",
            "  data2['booking_day_of_week'] = le.fit_transform(data2['booking_day_of_week'])\n",
            "C:\\Users\\swaytha\\AppData\\Local\\Temp\\ipykernel_16548\\884275130.py:6: SettingWithCopyWarning: \n",
            "A value is trying to be set on a copy of a slice from a DataFrame.\n",
            "Try using .loc[row_indexer,col_indexer] = value instead\n",
            "\n",
            "See the caveats in the documentation: https://pandas.pydata.org/pandas-docs/stable/user_guide/indexing.html#returning-a-view-versus-a-copy\n",
            "  data2['booking_time_of_day'] = le.fit_transform(data2['booking_time_of_day'])\n"
          ]
        }
      ],
      "source": [
        "data2['day_of_week'] = le.fit_transform(data2['day_of_week'])\n",
        "data2['time_of_day'] = le.fit_transform(data2['time_of_day'])\n",
        "data2['day_type'] = le.fit_transform(data2['day_type'])\n",
        "data2['day_of_week'] = le.fit_transform(data2['day_of_week'])\n",
        "data2['booking_day_of_week'] = le.fit_transform(data2['booking_day_of_week'])\n",
        "data2['booking_time_of_day'] = le.fit_transform(data2['booking_time_of_day'])"
      ]
    },
    {
      "cell_type": "code",
      "execution_count": 326,
      "metadata": {
        "colab": {
          "base_uri": "https://localhost:8080/"
        },
        "id": "7ILuVX44GfNE",
        "outputId": "f7b29497-9e4f-4271-c2dc-058884d605e7"
      },
      "outputs": [
        {
          "name": "stderr",
          "output_type": "stream",
          "text": [
            "C:\\Users\\swaytha\\AppData\\Local\\Temp\\ipykernel_16548\\2212643752.py:1: SettingWithCopyWarning: \n",
            "A value is trying to be set on a copy of a slice from a DataFrame.\n",
            "Try using .loc[row_indexer,col_indexer] = value instead\n",
            "\n",
            "See the caveats in the documentation: https://pandas.pydata.org/pandas-docs/stable/user_guide/indexing.html#returning-a-view-versus-a-copy\n",
            "  data2['year'] = data2['year'].astype(int)\n",
            "C:\\Users\\swaytha\\AppData\\Local\\Temp\\ipykernel_16548\\2212643752.py:2: SettingWithCopyWarning: \n",
            "A value is trying to be set on a copy of a slice from a DataFrame.\n",
            "Try using .loc[row_indexer,col_indexer] = value instead\n",
            "\n",
            "See the caveats in the documentation: https://pandas.pydata.org/pandas-docs/stable/user_guide/indexing.html#returning-a-view-versus-a-copy\n",
            "  data2['month'] = data2['month'].astype(int)\n",
            "C:\\Users\\swaytha\\AppData\\Local\\Temp\\ipykernel_16548\\2212643752.py:3: SettingWithCopyWarning: \n",
            "A value is trying to be set on a copy of a slice from a DataFrame.\n",
            "Try using .loc[row_indexer,col_indexer] = value instead\n",
            "\n",
            "See the caveats in the documentation: https://pandas.pydata.org/pandas-docs/stable/user_guide/indexing.html#returning-a-view-versus-a-copy\n",
            "  data2['day'] = data2['day'].astype(int)\n",
            "C:\\Users\\swaytha\\AppData\\Local\\Temp\\ipykernel_16548\\2212643752.py:4: SettingWithCopyWarning: \n",
            "A value is trying to be set on a copy of a slice from a DataFrame.\n",
            "Try using .loc[row_indexer,col_indexer] = value instead\n",
            "\n",
            "See the caveats in the documentation: https://pandas.pydata.org/pandas-docs/stable/user_guide/indexing.html#returning-a-view-versus-a-copy\n",
            "  data2['hour'] = data2['hour'].astype(int)\n",
            "C:\\Users\\swaytha\\AppData\\Local\\Temp\\ipykernel_16548\\2212643752.py:5: SettingWithCopyWarning: \n",
            "A value is trying to be set on a copy of a slice from a DataFrame.\n",
            "Try using .loc[row_indexer,col_indexer] = value instead\n",
            "\n",
            "See the caveats in the documentation: https://pandas.pydata.org/pandas-docs/stable/user_guide/indexing.html#returning-a-view-versus-a-copy\n",
            "  data2['minute'] = data2['minute'].astype(int)\n",
            "C:\\Users\\swaytha\\AppData\\Local\\Temp\\ipykernel_16548\\2212643752.py:6: SettingWithCopyWarning: \n",
            "A value is trying to be set on a copy of a slice from a DataFrame.\n",
            "Try using .loc[row_indexer,col_indexer] = value instead\n",
            "\n",
            "See the caveats in the documentation: https://pandas.pydata.org/pandas-docs/stable/user_guide/indexing.html#returning-a-view-versus-a-copy\n",
            "  data2['booking_year'] = data2['booking_year'].astype(int)\n",
            "C:\\Users\\swaytha\\AppData\\Local\\Temp\\ipykernel_16548\\2212643752.py:7: SettingWithCopyWarning: \n",
            "A value is trying to be set on a copy of a slice from a DataFrame.\n",
            "Try using .loc[row_indexer,col_indexer] = value instead\n",
            "\n",
            "See the caveats in the documentation: https://pandas.pydata.org/pandas-docs/stable/user_guide/indexing.html#returning-a-view-versus-a-copy\n",
            "  data2['booking_month'] = data2['booking_month'].astype(int)\n",
            "C:\\Users\\swaytha\\AppData\\Local\\Temp\\ipykernel_16548\\2212643752.py:8: SettingWithCopyWarning: \n",
            "A value is trying to be set on a copy of a slice from a DataFrame.\n",
            "Try using .loc[row_indexer,col_indexer] = value instead\n",
            "\n",
            "See the caveats in the documentation: https://pandas.pydata.org/pandas-docs/stable/user_guide/indexing.html#returning-a-view-versus-a-copy\n",
            "  data2['booking_day'] = data2['booking_day'].astype(int)\n",
            "C:\\Users\\swaytha\\AppData\\Local\\Temp\\ipykernel_16548\\2212643752.py:9: SettingWithCopyWarning: \n",
            "A value is trying to be set on a copy of a slice from a DataFrame.\n",
            "Try using .loc[row_indexer,col_indexer] = value instead\n",
            "\n",
            "See the caveats in the documentation: https://pandas.pydata.org/pandas-docs/stable/user_guide/indexing.html#returning-a-view-versus-a-copy\n",
            "  data2['booking_hour'] = data2['booking_hour'].astype(int)\n",
            "C:\\Users\\swaytha\\AppData\\Local\\Temp\\ipykernel_16548\\2212643752.py:10: SettingWithCopyWarning: \n",
            "A value is trying to be set on a copy of a slice from a DataFrame.\n",
            "Try using .loc[row_indexer,col_indexer] = value instead\n",
            "\n",
            "See the caveats in the documentation: https://pandas.pydata.org/pandas-docs/stable/user_guide/indexing.html#returning-a-view-versus-a-copy\n",
            "  data2['booking_minute'] = data2['booking_minute'].astype(int)\n",
            "C:\\Users\\swaytha\\AppData\\Local\\Temp\\ipykernel_16548\\2212643752.py:11: SettingWithCopyWarning: \n",
            "A value is trying to be set on a copy of a slice from a DataFrame.\n",
            "Try using .loc[row_indexer,col_indexer] = value instead\n",
            "\n",
            "See the caveats in the documentation: https://pandas.pydata.org/pandas-docs/stable/user_guide/indexing.html#returning-a-view-versus-a-copy\n",
            "  data2['hours_between_bookings_and_actual_pickup'] = data2['hours_between_bookings_and_actual_pickup'].astype(int)\n"
          ]
        }
      ],
      "source": [
        "data2['year'] = data2['year'].astype(int)\n",
        "data2['month'] = data2['month'].astype(int)\n",
        "data2['day'] = data2['day'].astype(int)\n",
        "data2['hour'] = data2['hour'].astype(int)\n",
        "data2['minute'] = data2['minute'].astype(int)\n",
        "data2['booking_year'] = data2['booking_year'].astype(int)\n",
        "data2['booking_month'] = data2['booking_month'].astype(int)\n",
        "data2['booking_day'] = data2['booking_day'].astype(int)\n",
        "data2['booking_hour'] = data2['booking_hour'].astype(int)\n",
        "data2['booking_minute'] = data2['booking_minute'].astype(int)\n",
        "data2['hours_between_bookings_and_actual_pickup'] = data2['hours_between_bookings_and_actual_pickup'].astype(int)"
      ]
    },
    {
      "cell_type": "code",
      "execution_count": 327,
      "metadata": {
        "colab": {
          "base_uri": "https://localhost:8080/",
          "height": 489
        },
        "id": "fmcG4qi-3R83",
        "outputId": "0d96d734-cacd-431a-ec9d-5565f38c8030"
      },
      "outputs": [
        {
          "data": {
            "text/plain": [
              "from_lat\n",
              "13.199560    3375\n",
              "12.951850    1198\n",
              "12.976770     944\n",
              "13.028530     846\n",
              "12.849482     760\n",
              "             ... \n",
              "13.010120       1\n",
              "12.923680       1\n",
              "12.980690       1\n",
              "13.032010       1\n",
              "13.175103       1\n",
              "Name: count, Length: 458, dtype: int64"
            ]
          },
          "execution_count": 327,
          "metadata": {},
          "output_type": "execute_result"
        }
      ],
      "source": [
        "data2['from_lat'].value_counts()"
      ]
    },
    {
      "cell_type": "code",
      "execution_count": 328,
      "metadata": {
        "colab": {
          "base_uri": "https://localhost:8080/"
        },
        "id": "c62eohwK3R6Y",
        "outputId": "46aa549d-1955-430f-cccd-552a1bbf767d"
      },
      "outputs": [
        {
          "name": "stderr",
          "output_type": "stream",
          "text": [
            "C:\\Users\\swaytha\\AppData\\Local\\Temp\\ipykernel_16548\\2685474887.py:3: SettingWithCopyWarning: \n",
            "A value is trying to be set on a copy of a slice from a DataFrame.\n",
            "Try using .loc[row_indexer,col_indexer] = value instead\n",
            "\n",
            "See the caveats in the documentation: https://pandas.pydata.org/pandas-docs/stable/user_guide/indexing.html#returning-a-view-versus-a-copy\n",
            "  data2['from_lat'] = sc.fit_transform(data2[['from_lat']])\n",
            "C:\\Users\\swaytha\\AppData\\Local\\Temp\\ipykernel_16548\\2685474887.py:4: SettingWithCopyWarning: \n",
            "A value is trying to be set on a copy of a slice from a DataFrame.\n",
            "Try using .loc[row_indexer,col_indexer] = value instead\n",
            "\n",
            "See the caveats in the documentation: https://pandas.pydata.org/pandas-docs/stable/user_guide/indexing.html#returning-a-view-versus-a-copy\n",
            "  data2['from_long'] = sc.fit_transform(data2[['from_long']])\n",
            "C:\\Users\\swaytha\\AppData\\Local\\Temp\\ipykernel_16548\\2685474887.py:5: SettingWithCopyWarning: \n",
            "A value is trying to be set on a copy of a slice from a DataFrame.\n",
            "Try using .loc[row_indexer,col_indexer] = value instead\n",
            "\n",
            "See the caveats in the documentation: https://pandas.pydata.org/pandas-docs/stable/user_guide/indexing.html#returning-a-view-versus-a-copy\n",
            "  data2['to_lat'] = sc.fit_transform(data2[['to_lat']])\n",
            "C:\\Users\\swaytha\\AppData\\Local\\Temp\\ipykernel_16548\\2685474887.py:6: SettingWithCopyWarning: \n",
            "A value is trying to be set on a copy of a slice from a DataFrame.\n",
            "Try using .loc[row_indexer,col_indexer] = value instead\n",
            "\n",
            "See the caveats in the documentation: https://pandas.pydata.org/pandas-docs/stable/user_guide/indexing.html#returning-a-view-versus-a-copy\n",
            "  data2['to_long'] = sc.fit_transform(data2[['to_long']])\n"
          ]
        }
      ],
      "source": [
        "from sklearn.preprocessing import StandardScaler\n",
        "sc = StandardScaler()\n",
        "data2['from_lat'] = sc.fit_transform(data2[['from_lat']])\n",
        "data2['from_long'] = sc.fit_transform(data2[['from_long']])\n",
        "data2['to_lat'] = sc.fit_transform(data2[['to_lat']])\n",
        "data2['to_long'] = sc.fit_transform(data2[['to_long']])"
      ]
    },
    {
      "cell_type": "code",
      "execution_count": 329,
      "metadata": {
        "colab": {
          "base_uri": "https://localhost:8080/"
        },
        "id": "vsgZdTXQVW9n",
        "outputId": "bada6021-ed27-48ed-a005-9bb33a13f3e6"
      },
      "outputs": [
        {
          "name": "stderr",
          "output_type": "stream",
          "text": [
            "C:\\Users\\swaytha\\AppData\\Local\\Temp\\ipykernel_16548\\815843345.py:1: SettingWithCopyWarning: \n",
            "A value is trying to be set on a copy of a slice from a DataFrame\n",
            "\n",
            "See the caveats in the documentation: https://pandas.pydata.org/pandas-docs/stable/user_guide/indexing.html#returning-a-view-versus-a-copy\n",
            "  data2.drop(['from_date'], axis = 1, inplace = True)\n"
          ]
        }
      ],
      "source": [
        "data2.drop(['from_date'], axis = 1, inplace = True)"
      ]
    },
    {
      "cell_type": "code",
      "execution_count": 330,
      "metadata": {
        "colab": {
          "base_uri": "https://localhost:8080/"
        },
        "id": "VnBt5JK7Yew2",
        "outputId": "b3b85d0c-37ed-4a52-b51b-a5ea91133761"
      },
      "outputs": [
        {
          "name": "stderr",
          "output_type": "stream",
          "text": [
            "C:\\Users\\swaytha\\AppData\\Local\\Temp\\ipykernel_16548\\3218945030.py:1: SettingWithCopyWarning: \n",
            "A value is trying to be set on a copy of a slice from a DataFrame\n",
            "\n",
            "See the caveats in the documentation: https://pandas.pydata.org/pandas-docs/stable/user_guide/indexing.html#returning-a-view-versus-a-copy\n",
            "  data2.drop(['booking_created'], axis = 1, inplace = True)\n"
          ]
        }
      ],
      "source": [
        "data2.drop(['booking_created'], axis = 1, inplace = True)"
      ]
    },
    {
      "cell_type": "code",
      "execution_count": 331,
      "metadata": {
        "colab": {
          "base_uri": "https://localhost:8080/",
          "height": 303
        },
        "id": "QQ3nqGsFH5pC",
        "outputId": "1725e0d1-3714-4836-bcea-33bb77c59fd8"
      },
      "outputs": [
        {
          "data": {
            "text/plain": [
              "package_id             0\n",
              "from_area_id           0\n",
              "from_date              0\n",
              "online_booking         0\n",
              "mobile_site_booking    0\n",
              "booking_created        0\n",
              "Car_Cancellation       0\n",
              "dtype: int64"
            ]
          },
          "execution_count": 331,
          "metadata": {},
          "output_type": "execute_result"
        }
      ],
      "source": [
        "data3.isna().sum()"
      ]
    },
    {
      "cell_type": "code",
      "execution_count": 332,
      "metadata": {
        "colab": {
          "base_uri": "https://localhost:8080/",
          "height": 330
        },
        "id": "vjdYdCC9V6t0",
        "outputId": "ceaa67c2-4013-4499-a09c-c658a5ff3e23"
      },
      "outputs": [
        {
          "name": "stderr",
          "output_type": "stream",
          "text": [
            "C:\\Users\\swaytha\\AppData\\Local\\Temp\\ipykernel_16548\\1214608475.py:2: SettingWithCopyWarning: \n",
            "A value is trying to be set on a copy of a slice from a DataFrame.\n",
            "Try using .loc[row_indexer,col_indexer] = value instead\n",
            "\n",
            "See the caveats in the documentation: https://pandas.pydata.org/pandas-docs/stable/user_guide/indexing.html#returning-a-view-versus-a-copy\n",
            "  data3['from_area_id'] = data3['from_area_id'].map(frequency_encoding)\n"
          ]
        },
        {
          "data": {
            "text/html": [
              "<div>\n",
              "<style scoped>\n",
              "    .dataframe tbody tr th:only-of-type {\n",
              "        vertical-align: middle;\n",
              "    }\n",
              "\n",
              "    .dataframe tbody tr th {\n",
              "        vertical-align: top;\n",
              "    }\n",
              "\n",
              "    .dataframe thead th {\n",
              "        text-align: right;\n",
              "    }\n",
              "</style>\n",
              "<table border=\"1\" class=\"dataframe\">\n",
              "  <thead>\n",
              "    <tr style=\"text-align: right;\">\n",
              "      <th></th>\n",
              "      <th>from_area_id</th>\n",
              "    </tr>\n",
              "  </thead>\n",
              "  <tbody>\n",
              "    <tr>\n",
              "      <th>8</th>\n",
              "      <td>46</td>\n",
              "    </tr>\n",
              "    <tr>\n",
              "      <th>20</th>\n",
              "      <td>27</td>\n",
              "    </tr>\n",
              "    <tr>\n",
              "      <th>23</th>\n",
              "      <td>25</td>\n",
              "    </tr>\n",
              "    <tr>\n",
              "      <th>34</th>\n",
              "      <td>26</td>\n",
              "    </tr>\n",
              "    <tr>\n",
              "      <th>47</th>\n",
              "      <td>110</td>\n",
              "    </tr>\n",
              "  </tbody>\n",
              "</table>\n",
              "</div>"
            ],
            "text/plain": [
              "    from_area_id\n",
              "8             46\n",
              "20            27\n",
              "23            25\n",
              "34            26\n",
              "47           110"
            ]
          },
          "execution_count": 332,
          "metadata": {},
          "output_type": "execute_result"
        }
      ],
      "source": [
        "frequency_encoding = data3['from_area_id'].value_counts().to_dict()\n",
        "data3['from_area_id'] = data3['from_area_id'].map(frequency_encoding)\n",
        "data3[['from_area_id']].head()"
      ]
    },
    {
      "cell_type": "code",
      "execution_count": 333,
      "metadata": {
        "colab": {
          "base_uri": "https://localhost:8080/"
        },
        "id": "34kDfkODV6qs",
        "outputId": "5c097160-de19-4a40-cc99-e85dc0057d09"
      },
      "outputs": [
        {
          "name": "stdout",
          "output_type": "stream",
          "text": [
            "             from_date\n",
            "8  2013-01-01 16:00:00\n",
            "20 2013-01-01 14:30:00\n",
            "23 2013-01-01 16:30:00\n",
            "34 2013-01-01 20:00:00\n",
            "47 2013-01-02 03:00:00\n"
          ]
        },
        {
          "name": "stderr",
          "output_type": "stream",
          "text": [
            "C:\\Users\\swaytha\\AppData\\Local\\Temp\\ipykernel_16548\\3871613715.py:1: SettingWithCopyWarning: \n",
            "A value is trying to be set on a copy of a slice from a DataFrame.\n",
            "Try using .loc[row_indexer,col_indexer] = value instead\n",
            "\n",
            "See the caveats in the documentation: https://pandas.pydata.org/pandas-docs/stable/user_guide/indexing.html#returning-a-view-versus-a-copy\n",
            "  data3['from_date'] = pd.to_datetime(data3['from_date'], errors='coerce')\n"
          ]
        }
      ],
      "source": [
        "data3['from_date'] = pd.to_datetime(data3['from_date'], errors='coerce')\n",
        "print(data3[['from_date']].head())"
      ]
    },
    {
      "cell_type": "code",
      "execution_count": 334,
      "metadata": {
        "colab": {
          "base_uri": "https://localhost:8080/"
        },
        "id": "9KzbWIxRV6n6",
        "outputId": "94d3b927-d0b1-4abc-80de-bab00a1bc48c"
      },
      "outputs": [
        {
          "name": "stderr",
          "output_type": "stream",
          "text": [
            "C:\\Users\\swaytha\\AppData\\Local\\Temp\\ipykernel_16548\\1909708528.py:1: SettingWithCopyWarning: \n",
            "A value is trying to be set on a copy of a slice from a DataFrame.\n",
            "Try using .loc[row_indexer,col_indexer] = value instead\n",
            "\n",
            "See the caveats in the documentation: https://pandas.pydata.org/pandas-docs/stable/user_guide/indexing.html#returning-a-view-versus-a-copy\n",
            "  data3['year'] = data3['from_date'].dt.year\n",
            "C:\\Users\\swaytha\\AppData\\Local\\Temp\\ipykernel_16548\\1909708528.py:2: SettingWithCopyWarning: \n",
            "A value is trying to be set on a copy of a slice from a DataFrame.\n",
            "Try using .loc[row_indexer,col_indexer] = value instead\n",
            "\n",
            "See the caveats in the documentation: https://pandas.pydata.org/pandas-docs/stable/user_guide/indexing.html#returning-a-view-versus-a-copy\n",
            "  data3['month'] = data3['from_date'].dt.month\n",
            "C:\\Users\\swaytha\\AppData\\Local\\Temp\\ipykernel_16548\\1909708528.py:3: SettingWithCopyWarning: \n",
            "A value is trying to be set on a copy of a slice from a DataFrame.\n",
            "Try using .loc[row_indexer,col_indexer] = value instead\n",
            "\n",
            "See the caveats in the documentation: https://pandas.pydata.org/pandas-docs/stable/user_guide/indexing.html#returning-a-view-versus-a-copy\n",
            "  data3['day'] = data3['from_date'].dt.day\n",
            "C:\\Users\\swaytha\\AppData\\Local\\Temp\\ipykernel_16548\\1909708528.py:4: SettingWithCopyWarning: \n",
            "A value is trying to be set on a copy of a slice from a DataFrame.\n",
            "Try using .loc[row_indexer,col_indexer] = value instead\n",
            "\n",
            "See the caveats in the documentation: https://pandas.pydata.org/pandas-docs/stable/user_guide/indexing.html#returning-a-view-versus-a-copy\n",
            "  data3['hour'] = data3['from_date'].dt.hour\n",
            "C:\\Users\\swaytha\\AppData\\Local\\Temp\\ipykernel_16548\\1909708528.py:5: SettingWithCopyWarning: \n",
            "A value is trying to be set on a copy of a slice from a DataFrame.\n",
            "Try using .loc[row_indexer,col_indexer] = value instead\n",
            "\n",
            "See the caveats in the documentation: https://pandas.pydata.org/pandas-docs/stable/user_guide/indexing.html#returning-a-view-versus-a-copy\n",
            "  data3['minute'] = data3['from_date'].dt.minute\n",
            "C:\\Users\\swaytha\\AppData\\Local\\Temp\\ipykernel_16548\\1909708528.py:6: SettingWithCopyWarning: \n",
            "A value is trying to be set on a copy of a slice from a DataFrame.\n",
            "Try using .loc[row_indexer,col_indexer] = value instead\n",
            "\n",
            "See the caveats in the documentation: https://pandas.pydata.org/pandas-docs/stable/user_guide/indexing.html#returning-a-view-versus-a-copy\n",
            "  data3['day_of_week'] = data3['from_date'].dt.strftime('%A')\n",
            "C:\\Users\\swaytha\\AppData\\Local\\Temp\\ipykernel_16548\\1909708528.py:7: SettingWithCopyWarning: \n",
            "A value is trying to be set on a copy of a slice from a DataFrame.\n",
            "Try using .loc[row_indexer,col_indexer] = value instead\n",
            "\n",
            "See the caveats in the documentation: https://pandas.pydata.org/pandas-docs/stable/user_guide/indexing.html#returning-a-view-versus-a-copy\n",
            "  data3['time_of_day'] = data3['from_date'].dt.hour.apply(get_time_of_day)\n",
            "C:\\Users\\swaytha\\AppData\\Local\\Temp\\ipykernel_16548\\1909708528.py:8: SettingWithCopyWarning: \n",
            "A value is trying to be set on a copy of a slice from a DataFrame.\n",
            "Try using .loc[row_indexer,col_indexer] = value instead\n",
            "\n",
            "See the caveats in the documentation: https://pandas.pydata.org/pandas-docs/stable/user_guide/indexing.html#returning-a-view-versus-a-copy\n",
            "  data3['day_type'] = data3['from_date'].dt.dayofweek.apply(lambda x: 'weekend' if x >= 5 else 'weekday')\n"
          ]
        }
      ],
      "source": [
        "data3['year'] = data3['from_date'].dt.year\n",
        "data3['month'] = data3['from_date'].dt.month\n",
        "data3['day'] = data3['from_date'].dt.day\n",
        "data3['hour'] = data3['from_date'].dt.hour\n",
        "data3['minute'] = data3['from_date'].dt.minute\n",
        "data3['day_of_week'] = data3['from_date'].dt.strftime('%A')\n",
        "data3['time_of_day'] = data3['from_date'].dt.hour.apply(get_time_of_day)\n",
        "data3['day_type'] = data3['from_date'].dt.dayofweek.apply(lambda x: 'weekend' if x >= 5 else 'weekday')"
      ]
    },
    {
      "cell_type": "code",
      "execution_count": 335,
      "metadata": {
        "colab": {
          "base_uri": "https://localhost:8080/"
        },
        "id": "UXOFkuWeV6lI",
        "outputId": "f6f33664-edb3-4143-8c6d-4d9918ccd7c5"
      },
      "outputs": [
        {
          "name": "stderr",
          "output_type": "stream",
          "text": [
            "C:\\Users\\swaytha\\AppData\\Local\\Temp\\ipykernel_16548\\3458974382.py:1: SettingWithCopyWarning: \n",
            "A value is trying to be set on a copy of a slice from a DataFrame.\n",
            "Try using .loc[row_indexer,col_indexer] = value instead\n",
            "\n",
            "See the caveats in the documentation: https://pandas.pydata.org/pandas-docs/stable/user_guide/indexing.html#returning-a-view-versus-a-copy\n",
            "  data3['booking_created'] = pd.to_datetime(data3['booking_created'], errors='coerce')\n"
          ]
        }
      ],
      "source": [
        "data3['booking_created'] = pd.to_datetime(data3['booking_created'], errors='coerce')"
      ]
    },
    {
      "cell_type": "code",
      "execution_count": 336,
      "metadata": {
        "colab": {
          "base_uri": "https://localhost:8080/"
        },
        "id": "AefJaDqsV6h_",
        "outputId": "0d84737f-5015-4052-c39d-170df0064afa"
      },
      "outputs": [
        {
          "name": "stderr",
          "output_type": "stream",
          "text": [
            "C:\\Users\\swaytha\\AppData\\Local\\Temp\\ipykernel_16548\\3073172275.py:1: SettingWithCopyWarning: \n",
            "A value is trying to be set on a copy of a slice from a DataFrame.\n",
            "Try using .loc[row_indexer,col_indexer] = value instead\n",
            "\n",
            "See the caveats in the documentation: https://pandas.pydata.org/pandas-docs/stable/user_guide/indexing.html#returning-a-view-versus-a-copy\n",
            "  data3['booking_year'] = data3['booking_created'].dt.year\n",
            "C:\\Users\\swaytha\\AppData\\Local\\Temp\\ipykernel_16548\\3073172275.py:2: SettingWithCopyWarning: \n",
            "A value is trying to be set on a copy of a slice from a DataFrame.\n",
            "Try using .loc[row_indexer,col_indexer] = value instead\n",
            "\n",
            "See the caveats in the documentation: https://pandas.pydata.org/pandas-docs/stable/user_guide/indexing.html#returning-a-view-versus-a-copy\n",
            "  data3['booking_month'] = data3['booking_created'].dt.month\n",
            "C:\\Users\\swaytha\\AppData\\Local\\Temp\\ipykernel_16548\\3073172275.py:3: SettingWithCopyWarning: \n",
            "A value is trying to be set on a copy of a slice from a DataFrame.\n",
            "Try using .loc[row_indexer,col_indexer] = value instead\n",
            "\n",
            "See the caveats in the documentation: https://pandas.pydata.org/pandas-docs/stable/user_guide/indexing.html#returning-a-view-versus-a-copy\n",
            "  data3['booking_day'] = data3['booking_created'].dt.day\n",
            "C:\\Users\\swaytha\\AppData\\Local\\Temp\\ipykernel_16548\\3073172275.py:4: SettingWithCopyWarning: \n",
            "A value is trying to be set on a copy of a slice from a DataFrame.\n",
            "Try using .loc[row_indexer,col_indexer] = value instead\n",
            "\n",
            "See the caveats in the documentation: https://pandas.pydata.org/pandas-docs/stable/user_guide/indexing.html#returning-a-view-versus-a-copy\n",
            "  data3['booking_hour'] = data3['booking_created'].dt.hour\n",
            "C:\\Users\\swaytha\\AppData\\Local\\Temp\\ipykernel_16548\\3073172275.py:5: SettingWithCopyWarning: \n",
            "A value is trying to be set on a copy of a slice from a DataFrame.\n",
            "Try using .loc[row_indexer,col_indexer] = value instead\n",
            "\n",
            "See the caveats in the documentation: https://pandas.pydata.org/pandas-docs/stable/user_guide/indexing.html#returning-a-view-versus-a-copy\n",
            "  data3['booking_minute'] = data3['booking_created'].dt.minute\n",
            "C:\\Users\\swaytha\\AppData\\Local\\Temp\\ipykernel_16548\\3073172275.py:6: SettingWithCopyWarning: \n",
            "A value is trying to be set on a copy of a slice from a DataFrame.\n",
            "Try using .loc[row_indexer,col_indexer] = value instead\n",
            "\n",
            "See the caveats in the documentation: https://pandas.pydata.org/pandas-docs/stable/user_guide/indexing.html#returning-a-view-versus-a-copy\n",
            "  data3['booking_day_of_week'] = data3['booking_created'].dt.strftime('%A')\n",
            "C:\\Users\\swaytha\\AppData\\Local\\Temp\\ipykernel_16548\\3073172275.py:7: SettingWithCopyWarning: \n",
            "A value is trying to be set on a copy of a slice from a DataFrame.\n",
            "Try using .loc[row_indexer,col_indexer] = value instead\n",
            "\n",
            "See the caveats in the documentation: https://pandas.pydata.org/pandas-docs/stable/user_guide/indexing.html#returning-a-view-versus-a-copy\n",
            "  data3['booking_time_of_day'] = data3['booking_created'].dt.hour.apply(get_time_of_day)\n"
          ]
        }
      ],
      "source": [
        "data3['booking_year'] = data3['booking_created'].dt.year\n",
        "data3['booking_month'] = data3['booking_created'].dt.month\n",
        "data3['booking_day'] = data3['booking_created'].dt.day\n",
        "data3['booking_hour'] = data3['booking_created'].dt.hour\n",
        "data3['booking_minute'] = data3['booking_created'].dt.minute\n",
        "data3['booking_day_of_week'] = data3['booking_created'].dt.strftime('%A')\n",
        "data3['booking_time_of_day'] = data3['booking_created'].dt.hour.apply(get_time_of_day)"
      ]
    },
    {
      "cell_type": "code",
      "execution_count": 337,
      "metadata": {
        "colab": {
          "base_uri": "https://localhost:8080/"
        },
        "id": "mAPsXAqaitxP",
        "outputId": "19589671-ab82-4ec3-916b-960671d3299c"
      },
      "outputs": [
        {
          "name": "stderr",
          "output_type": "stream",
          "text": [
            "C:\\Users\\swaytha\\AppData\\Local\\Temp\\ipykernel_16548\\3332380973.py:1: SettingWithCopyWarning: \n",
            "A value is trying to be set on a copy of a slice from a DataFrame.\n",
            "Try using .loc[row_indexer,col_indexer] = value instead\n",
            "\n",
            "See the caveats in the documentation: https://pandas.pydata.org/pandas-docs/stable/user_guide/indexing.html#returning-a-view-versus-a-copy\n",
            "  data3['hours_between_bookings_and_actual_pickup'] = (data3['from_date'].dt.day - data3['booking_created'].dt.day)\n"
          ]
        }
      ],
      "source": [
        "data3['hours_between_bookings_and_actual_pickup'] = (data3['from_date'].dt.day - data3['booking_created'].dt.day)"
      ]
    },
    {
      "cell_type": "code",
      "execution_count": 338,
      "metadata": {
        "colab": {
          "base_uri": "https://localhost:8080/"
        },
        "id": "VQ8V9MWLIszj",
        "outputId": "447c4cb0-d552-4e24-a0d3-0ce549332fcd"
      },
      "outputs": [
        {
          "name": "stderr",
          "output_type": "stream",
          "text": [
            "C:\\Users\\swaytha\\AppData\\Local\\Temp\\ipykernel_16548\\2687379835.py:1: FutureWarning: A value is trying to be set on a copy of a DataFrame or Series through chained assignment using an inplace method.\n",
            "The behavior will change in pandas 3.0. This inplace method will never work because the intermediate object on which we are setting values always behaves as a copy.\n",
            "\n",
            "For example, when doing 'df[col].method(value, inplace=True)', try using 'df.method({col: value}, inplace=True)' or df[col] = df[col].method(value) instead, to perform the operation inplace on the original object.\n",
            "\n",
            "\n",
            "  data3['day_of_week'].fillna(data3['day_of_week'].mode()[0],inplace=True)\n",
            "C:\\Users\\swaytha\\AppData\\Local\\Temp\\ipykernel_16548\\2687379835.py:1: SettingWithCopyWarning: \n",
            "A value is trying to be set on a copy of a slice from a DataFrame\n",
            "\n",
            "See the caveats in the documentation: https://pandas.pydata.org/pandas-docs/stable/user_guide/indexing.html#returning-a-view-versus-a-copy\n",
            "  data3['day_of_week'].fillna(data3['day_of_week'].mode()[0],inplace=True)\n",
            "C:\\Users\\swaytha\\AppData\\Local\\Temp\\ipykernel_16548\\2687379835.py:2: FutureWarning: A value is trying to be set on a copy of a DataFrame or Series through chained assignment using an inplace method.\n",
            "The behavior will change in pandas 3.0. This inplace method will never work because the intermediate object on which we are setting values always behaves as a copy.\n",
            "\n",
            "For example, when doing 'df[col].method(value, inplace=True)', try using 'df.method({col: value}, inplace=True)' or df[col] = df[col].method(value) instead, to perform the operation inplace on the original object.\n",
            "\n",
            "\n",
            "  data3['month'].fillna(data3['month'].mode()[0],inplace=True)\n",
            "C:\\Users\\swaytha\\AppData\\Local\\Temp\\ipykernel_16548\\2687379835.py:2: SettingWithCopyWarning: \n",
            "A value is trying to be set on a copy of a slice from a DataFrame\n",
            "\n",
            "See the caveats in the documentation: https://pandas.pydata.org/pandas-docs/stable/user_guide/indexing.html#returning-a-view-versus-a-copy\n",
            "  data3['month'].fillna(data3['month'].mode()[0],inplace=True)\n",
            "C:\\Users\\swaytha\\AppData\\Local\\Temp\\ipykernel_16548\\2687379835.py:3: FutureWarning: A value is trying to be set on a copy of a DataFrame or Series through chained assignment using an inplace method.\n",
            "The behavior will change in pandas 3.0. This inplace method will never work because the intermediate object on which we are setting values always behaves as a copy.\n",
            "\n",
            "For example, when doing 'df[col].method(value, inplace=True)', try using 'df.method({col: value}, inplace=True)' or df[col] = df[col].method(value) instead, to perform the operation inplace on the original object.\n",
            "\n",
            "\n",
            "  data3['year'].fillna(data3['year'].mode()[0],inplace=True)\n",
            "C:\\Users\\swaytha\\AppData\\Local\\Temp\\ipykernel_16548\\2687379835.py:3: SettingWithCopyWarning: \n",
            "A value is trying to be set on a copy of a slice from a DataFrame\n",
            "\n",
            "See the caveats in the documentation: https://pandas.pydata.org/pandas-docs/stable/user_guide/indexing.html#returning-a-view-versus-a-copy\n",
            "  data3['year'].fillna(data3['year'].mode()[0],inplace=True)\n",
            "C:\\Users\\swaytha\\AppData\\Local\\Temp\\ipykernel_16548\\2687379835.py:4: FutureWarning: A value is trying to be set on a copy of a DataFrame or Series through chained assignment using an inplace method.\n",
            "The behavior will change in pandas 3.0. This inplace method will never work because the intermediate object on which we are setting values always behaves as a copy.\n",
            "\n",
            "For example, when doing 'df[col].method(value, inplace=True)', try using 'df.method({col: value}, inplace=True)' or df[col] = df[col].method(value) instead, to perform the operation inplace on the original object.\n",
            "\n",
            "\n",
            "  data3['day'].fillna(data3['day'].mode()[0],inplace=True)\n",
            "C:\\Users\\swaytha\\AppData\\Local\\Temp\\ipykernel_16548\\2687379835.py:4: SettingWithCopyWarning: \n",
            "A value is trying to be set on a copy of a slice from a DataFrame\n",
            "\n",
            "See the caveats in the documentation: https://pandas.pydata.org/pandas-docs/stable/user_guide/indexing.html#returning-a-view-versus-a-copy\n",
            "  data3['day'].fillna(data3['day'].mode()[0],inplace=True)\n",
            "C:\\Users\\swaytha\\AppData\\Local\\Temp\\ipykernel_16548\\2687379835.py:5: FutureWarning: A value is trying to be set on a copy of a DataFrame or Series through chained assignment using an inplace method.\n",
            "The behavior will change in pandas 3.0. This inplace method will never work because the intermediate object on which we are setting values always behaves as a copy.\n",
            "\n",
            "For example, when doing 'df[col].method(value, inplace=True)', try using 'df.method({col: value}, inplace=True)' or df[col] = df[col].method(value) instead, to perform the operation inplace on the original object.\n",
            "\n",
            "\n",
            "  data3['hour'].fillna(data3['hour'].mode()[0],inplace=True)\n",
            "C:\\Users\\swaytha\\AppData\\Local\\Temp\\ipykernel_16548\\2687379835.py:5: SettingWithCopyWarning: \n",
            "A value is trying to be set on a copy of a slice from a DataFrame\n",
            "\n",
            "See the caveats in the documentation: https://pandas.pydata.org/pandas-docs/stable/user_guide/indexing.html#returning-a-view-versus-a-copy\n",
            "  data3['hour'].fillna(data3['hour'].mode()[0],inplace=True)\n",
            "C:\\Users\\swaytha\\AppData\\Local\\Temp\\ipykernel_16548\\2687379835.py:6: FutureWarning: A value is trying to be set on a copy of a DataFrame or Series through chained assignment using an inplace method.\n",
            "The behavior will change in pandas 3.0. This inplace method will never work because the intermediate object on which we are setting values always behaves as a copy.\n",
            "\n",
            "For example, when doing 'df[col].method(value, inplace=True)', try using 'df.method({col: value}, inplace=True)' or df[col] = df[col].method(value) instead, to perform the operation inplace on the original object.\n",
            "\n",
            "\n",
            "  data3['minute'].fillna(data3['minute'].mode()[0],inplace=True)\n",
            "C:\\Users\\swaytha\\AppData\\Local\\Temp\\ipykernel_16548\\2687379835.py:6: SettingWithCopyWarning: \n",
            "A value is trying to be set on a copy of a slice from a DataFrame\n",
            "\n",
            "See the caveats in the documentation: https://pandas.pydata.org/pandas-docs/stable/user_guide/indexing.html#returning-a-view-versus-a-copy\n",
            "  data3['minute'].fillna(data3['minute'].mode()[0],inplace=True)\n",
            "C:\\Users\\swaytha\\AppData\\Local\\Temp\\ipykernel_16548\\2687379835.py:7: FutureWarning: A value is trying to be set on a copy of a DataFrame or Series through chained assignment using an inplace method.\n",
            "The behavior will change in pandas 3.0. This inplace method will never work because the intermediate object on which we are setting values always behaves as a copy.\n",
            "\n",
            "For example, when doing 'df[col].method(value, inplace=True)', try using 'df.method({col: value}, inplace=True)' or df[col] = df[col].method(value) instead, to perform the operation inplace on the original object.\n",
            "\n",
            "\n",
            "  data3['booking_year'].fillna(data3['booking_year'].mode()[0],inplace=True)\n",
            "C:\\Users\\swaytha\\AppData\\Local\\Temp\\ipykernel_16548\\2687379835.py:7: SettingWithCopyWarning: \n",
            "A value is trying to be set on a copy of a slice from a DataFrame\n",
            "\n",
            "See the caveats in the documentation: https://pandas.pydata.org/pandas-docs/stable/user_guide/indexing.html#returning-a-view-versus-a-copy\n",
            "  data3['booking_year'].fillna(data3['booking_year'].mode()[0],inplace=True)\n",
            "C:\\Users\\swaytha\\AppData\\Local\\Temp\\ipykernel_16548\\2687379835.py:8: FutureWarning: A value is trying to be set on a copy of a DataFrame or Series through chained assignment using an inplace method.\n",
            "The behavior will change in pandas 3.0. This inplace method will never work because the intermediate object on which we are setting values always behaves as a copy.\n",
            "\n",
            "For example, when doing 'df[col].method(value, inplace=True)', try using 'df.method({col: value}, inplace=True)' or df[col] = df[col].method(value) instead, to perform the operation inplace on the original object.\n",
            "\n",
            "\n",
            "  data3['booking_month'].fillna(data3['booking_month'].mode()[0],inplace=True)\n",
            "C:\\Users\\swaytha\\AppData\\Local\\Temp\\ipykernel_16548\\2687379835.py:8: SettingWithCopyWarning: \n",
            "A value is trying to be set on a copy of a slice from a DataFrame\n",
            "\n",
            "See the caveats in the documentation: https://pandas.pydata.org/pandas-docs/stable/user_guide/indexing.html#returning-a-view-versus-a-copy\n",
            "  data3['booking_month'].fillna(data3['booking_month'].mode()[0],inplace=True)\n",
            "C:\\Users\\swaytha\\AppData\\Local\\Temp\\ipykernel_16548\\2687379835.py:9: FutureWarning: A value is trying to be set on a copy of a DataFrame or Series through chained assignment using an inplace method.\n",
            "The behavior will change in pandas 3.0. This inplace method will never work because the intermediate object on which we are setting values always behaves as a copy.\n",
            "\n",
            "For example, when doing 'df[col].method(value, inplace=True)', try using 'df.method({col: value}, inplace=True)' or df[col] = df[col].method(value) instead, to perform the operation inplace on the original object.\n",
            "\n",
            "\n",
            "  data3['booking_day'].fillna(data3['booking_day'].mode()[0],inplace=True)\n",
            "C:\\Users\\swaytha\\AppData\\Local\\Temp\\ipykernel_16548\\2687379835.py:9: SettingWithCopyWarning: \n",
            "A value is trying to be set on a copy of a slice from a DataFrame\n",
            "\n",
            "See the caveats in the documentation: https://pandas.pydata.org/pandas-docs/stable/user_guide/indexing.html#returning-a-view-versus-a-copy\n",
            "  data3['booking_day'].fillna(data3['booking_day'].mode()[0],inplace=True)\n",
            "C:\\Users\\swaytha\\AppData\\Local\\Temp\\ipykernel_16548\\2687379835.py:10: FutureWarning: A value is trying to be set on a copy of a DataFrame or Series through chained assignment using an inplace method.\n",
            "The behavior will change in pandas 3.0. This inplace method will never work because the intermediate object on which we are setting values always behaves as a copy.\n",
            "\n",
            "For example, when doing 'df[col].method(value, inplace=True)', try using 'df.method({col: value}, inplace=True)' or df[col] = df[col].method(value) instead, to perform the operation inplace on the original object.\n",
            "\n",
            "\n",
            "  data3['booking_hour'].fillna(data3['booking_hour'].mode()[0],inplace=True)\n",
            "C:\\Users\\swaytha\\AppData\\Local\\Temp\\ipykernel_16548\\2687379835.py:10: SettingWithCopyWarning: \n",
            "A value is trying to be set on a copy of a slice from a DataFrame\n",
            "\n",
            "See the caveats in the documentation: https://pandas.pydata.org/pandas-docs/stable/user_guide/indexing.html#returning-a-view-versus-a-copy\n",
            "  data3['booking_hour'].fillna(data3['booking_hour'].mode()[0],inplace=True)\n",
            "C:\\Users\\swaytha\\AppData\\Local\\Temp\\ipykernel_16548\\2687379835.py:11: FutureWarning: A value is trying to be set on a copy of a DataFrame or Series through chained assignment using an inplace method.\n",
            "The behavior will change in pandas 3.0. This inplace method will never work because the intermediate object on which we are setting values always behaves as a copy.\n",
            "\n",
            "For example, when doing 'df[col].method(value, inplace=True)', try using 'df.method({col: value}, inplace=True)' or df[col] = df[col].method(value) instead, to perform the operation inplace on the original object.\n",
            "\n",
            "\n",
            "  data3['booking_minute'].fillna(data3['booking_minute'].mode()[0],inplace=True)\n",
            "C:\\Users\\swaytha\\AppData\\Local\\Temp\\ipykernel_16548\\2687379835.py:11: SettingWithCopyWarning: \n",
            "A value is trying to be set on a copy of a slice from a DataFrame\n",
            "\n",
            "See the caveats in the documentation: https://pandas.pydata.org/pandas-docs/stable/user_guide/indexing.html#returning-a-view-versus-a-copy\n",
            "  data3['booking_minute'].fillna(data3['booking_minute'].mode()[0],inplace=True)\n",
            "C:\\Users\\swaytha\\AppData\\Local\\Temp\\ipykernel_16548\\2687379835.py:12: FutureWarning: A value is trying to be set on a copy of a DataFrame or Series through chained assignment using an inplace method.\n",
            "The behavior will change in pandas 3.0. This inplace method will never work because the intermediate object on which we are setting values always behaves as a copy.\n",
            "\n",
            "For example, when doing 'df[col].method(value, inplace=True)', try using 'df.method({col: value}, inplace=True)' or df[col] = df[col].method(value) instead, to perform the operation inplace on the original object.\n",
            "\n",
            "\n",
            "  data3['booking_day_of_week'].fillna(data3['booking_day_of_week'].mode()[0],inplace=True)\n",
            "C:\\Users\\swaytha\\AppData\\Local\\Temp\\ipykernel_16548\\2687379835.py:12: SettingWithCopyWarning: \n",
            "A value is trying to be set on a copy of a slice from a DataFrame\n",
            "\n",
            "See the caveats in the documentation: https://pandas.pydata.org/pandas-docs/stable/user_guide/indexing.html#returning-a-view-versus-a-copy\n",
            "  data3['booking_day_of_week'].fillna(data3['booking_day_of_week'].mode()[0],inplace=True)\n",
            "C:\\Users\\swaytha\\AppData\\Local\\Temp\\ipykernel_16548\\2687379835.py:13: FutureWarning: A value is trying to be set on a copy of a DataFrame or Series through chained assignment using an inplace method.\n",
            "The behavior will change in pandas 3.0. This inplace method will never work because the intermediate object on which we are setting values always behaves as a copy.\n",
            "\n",
            "For example, when doing 'df[col].method(value, inplace=True)', try using 'df.method({col: value}, inplace=True)' or df[col] = df[col].method(value) instead, to perform the operation inplace on the original object.\n",
            "\n",
            "\n",
            "  data3['hours_between_bookings_and_actual_pickup'].fillna(data3['hours_between_bookings_and_actual_pickup'].mode()[0],inplace=True)\n",
            "C:\\Users\\swaytha\\AppData\\Local\\Temp\\ipykernel_16548\\2687379835.py:13: SettingWithCopyWarning: \n",
            "A value is trying to be set on a copy of a slice from a DataFrame\n",
            "\n",
            "See the caveats in the documentation: https://pandas.pydata.org/pandas-docs/stable/user_guide/indexing.html#returning-a-view-versus-a-copy\n",
            "  data3['hours_between_bookings_and_actual_pickup'].fillna(data3['hours_between_bookings_and_actual_pickup'].mode()[0],inplace=True)\n"
          ]
        }
      ],
      "source": [
        "data3['day_of_week'].fillna(data3['day_of_week'].mode()[0],inplace=True)\n",
        "data3['month'].fillna(data3['month'].mode()[0],inplace=True)\n",
        "data3['year'].fillna(data3['year'].mode()[0],inplace=True)\n",
        "data3['day'].fillna(data3['day'].mode()[0],inplace=True)\n",
        "data3['hour'].fillna(data3['hour'].mode()[0],inplace=True)\n",
        "data3['minute'].fillna(data3['minute'].mode()[0],inplace=True)\n",
        "data3['booking_year'].fillna(data3['booking_year'].mode()[0],inplace=True)\n",
        "data3['booking_month'].fillna(data3['booking_month'].mode()[0],inplace=True)\n",
        "data3['booking_day'].fillna(data3['booking_day'].mode()[0],inplace=True)\n",
        "data3['booking_hour'].fillna(data3['booking_hour'].mode()[0],inplace=True)\n",
        "data3['booking_minute'].fillna(data3['booking_minute'].mode()[0],inplace=True)\n",
        "data3['booking_day_of_week'].fillna(data3['booking_day_of_week'].mode()[0],inplace=True)\n",
        "data3['hours_between_bookings_and_actual_pickup'].fillna(data3['hours_between_bookings_and_actual_pickup'].mode()[0],inplace=True)"
      ]
    },
    {
      "cell_type": "code",
      "execution_count": 339,
      "metadata": {
        "colab": {
          "base_uri": "https://localhost:8080/"
        },
        "id": "DkmgTDETJOxP",
        "outputId": "fe0d5dab-9630-46b3-ed79-0d04011a1eb8"
      },
      "outputs": [
        {
          "name": "stderr",
          "output_type": "stream",
          "text": [
            "C:\\Users\\swaytha\\AppData\\Local\\Temp\\ipykernel_16548\\2096409053.py:1: SettingWithCopyWarning: \n",
            "A value is trying to be set on a copy of a slice from a DataFrame.\n",
            "Try using .loc[row_indexer,col_indexer] = value instead\n",
            "\n",
            "See the caveats in the documentation: https://pandas.pydata.org/pandas-docs/stable/user_guide/indexing.html#returning-a-view-versus-a-copy\n",
            "  data3['day_of_week'] = le.fit_transform(data3['day_of_week'])\n",
            "C:\\Users\\swaytha\\AppData\\Local\\Temp\\ipykernel_16548\\2096409053.py:2: SettingWithCopyWarning: \n",
            "A value is trying to be set on a copy of a slice from a DataFrame.\n",
            "Try using .loc[row_indexer,col_indexer] = value instead\n",
            "\n",
            "See the caveats in the documentation: https://pandas.pydata.org/pandas-docs/stable/user_guide/indexing.html#returning-a-view-versus-a-copy\n",
            "  data3['time_of_day'] = le.fit_transform(data3['time_of_day'])\n",
            "C:\\Users\\swaytha\\AppData\\Local\\Temp\\ipykernel_16548\\2096409053.py:3: SettingWithCopyWarning: \n",
            "A value is trying to be set on a copy of a slice from a DataFrame.\n",
            "Try using .loc[row_indexer,col_indexer] = value instead\n",
            "\n",
            "See the caveats in the documentation: https://pandas.pydata.org/pandas-docs/stable/user_guide/indexing.html#returning-a-view-versus-a-copy\n",
            "  data3['day_type'] = le.fit_transform(data3['day_type'])\n",
            "C:\\Users\\swaytha\\AppData\\Local\\Temp\\ipykernel_16548\\2096409053.py:4: SettingWithCopyWarning: \n",
            "A value is trying to be set on a copy of a slice from a DataFrame.\n",
            "Try using .loc[row_indexer,col_indexer] = value instead\n",
            "\n",
            "See the caveats in the documentation: https://pandas.pydata.org/pandas-docs/stable/user_guide/indexing.html#returning-a-view-versus-a-copy\n",
            "  data3['day_of_week'] = le.fit_transform(data3['day_of_week'])\n",
            "C:\\Users\\swaytha\\AppData\\Local\\Temp\\ipykernel_16548\\2096409053.py:5: SettingWithCopyWarning: \n",
            "A value is trying to be set on a copy of a slice from a DataFrame.\n",
            "Try using .loc[row_indexer,col_indexer] = value instead\n",
            "\n",
            "See the caveats in the documentation: https://pandas.pydata.org/pandas-docs/stable/user_guide/indexing.html#returning-a-view-versus-a-copy\n",
            "  data3['booking_day_of_week'] = le.fit_transform(data3['booking_day_of_week'])\n",
            "C:\\Users\\swaytha\\AppData\\Local\\Temp\\ipykernel_16548\\2096409053.py:6: SettingWithCopyWarning: \n",
            "A value is trying to be set on a copy of a slice from a DataFrame.\n",
            "Try using .loc[row_indexer,col_indexer] = value instead\n",
            "\n",
            "See the caveats in the documentation: https://pandas.pydata.org/pandas-docs/stable/user_guide/indexing.html#returning-a-view-versus-a-copy\n",
            "  data3['booking_time_of_day'] = le.fit_transform(data3['booking_time_of_day'])\n"
          ]
        }
      ],
      "source": [
        "data3['day_of_week'] = le.fit_transform(data3['day_of_week'])\n",
        "data3['time_of_day'] = le.fit_transform(data3['time_of_day'])\n",
        "data3['day_type'] = le.fit_transform(data3['day_type'])\n",
        "data3['day_of_week'] = le.fit_transform(data3['day_of_week'])\n",
        "data3['booking_day_of_week'] = le.fit_transform(data3['booking_day_of_week'])\n",
        "data3['booking_time_of_day'] = le.fit_transform(data3['booking_time_of_day'])"
      ]
    },
    {
      "cell_type": "code",
      "execution_count": 340,
      "metadata": {
        "colab": {
          "base_uri": "https://localhost:8080/"
        },
        "id": "--hLiYNKJYbJ",
        "outputId": "52047401-a330-4bff-b458-e1b8e590acad"
      },
      "outputs": [
        {
          "name": "stderr",
          "output_type": "stream",
          "text": [
            "C:\\Users\\swaytha\\AppData\\Local\\Temp\\ipykernel_16548\\1453022563.py:1: SettingWithCopyWarning: \n",
            "A value is trying to be set on a copy of a slice from a DataFrame.\n",
            "Try using .loc[row_indexer,col_indexer] = value instead\n",
            "\n",
            "See the caveats in the documentation: https://pandas.pydata.org/pandas-docs/stable/user_guide/indexing.html#returning-a-view-versus-a-copy\n",
            "  data3['year'] = data3['year'].astype(int)\n",
            "C:\\Users\\swaytha\\AppData\\Local\\Temp\\ipykernel_16548\\1453022563.py:2: SettingWithCopyWarning: \n",
            "A value is trying to be set on a copy of a slice from a DataFrame.\n",
            "Try using .loc[row_indexer,col_indexer] = value instead\n",
            "\n",
            "See the caveats in the documentation: https://pandas.pydata.org/pandas-docs/stable/user_guide/indexing.html#returning-a-view-versus-a-copy\n",
            "  data3['month'] = data3['month'].astype(int)\n",
            "C:\\Users\\swaytha\\AppData\\Local\\Temp\\ipykernel_16548\\1453022563.py:3: SettingWithCopyWarning: \n",
            "A value is trying to be set on a copy of a slice from a DataFrame.\n",
            "Try using .loc[row_indexer,col_indexer] = value instead\n",
            "\n",
            "See the caveats in the documentation: https://pandas.pydata.org/pandas-docs/stable/user_guide/indexing.html#returning-a-view-versus-a-copy\n",
            "  data3['day'] = data3['day'].astype(int)\n",
            "C:\\Users\\swaytha\\AppData\\Local\\Temp\\ipykernel_16548\\1453022563.py:4: SettingWithCopyWarning: \n",
            "A value is trying to be set on a copy of a slice from a DataFrame.\n",
            "Try using .loc[row_indexer,col_indexer] = value instead\n",
            "\n",
            "See the caveats in the documentation: https://pandas.pydata.org/pandas-docs/stable/user_guide/indexing.html#returning-a-view-versus-a-copy\n",
            "  data3['hour'] = data3['hour'].astype(int)\n",
            "C:\\Users\\swaytha\\AppData\\Local\\Temp\\ipykernel_16548\\1453022563.py:5: SettingWithCopyWarning: \n",
            "A value is trying to be set on a copy of a slice from a DataFrame.\n",
            "Try using .loc[row_indexer,col_indexer] = value instead\n",
            "\n",
            "See the caveats in the documentation: https://pandas.pydata.org/pandas-docs/stable/user_guide/indexing.html#returning-a-view-versus-a-copy\n",
            "  data3['minute'] = data3['minute'].astype(int)\n",
            "C:\\Users\\swaytha\\AppData\\Local\\Temp\\ipykernel_16548\\1453022563.py:6: SettingWithCopyWarning: \n",
            "A value is trying to be set on a copy of a slice from a DataFrame.\n",
            "Try using .loc[row_indexer,col_indexer] = value instead\n",
            "\n",
            "See the caveats in the documentation: https://pandas.pydata.org/pandas-docs/stable/user_guide/indexing.html#returning-a-view-versus-a-copy\n",
            "  data3['booking_year'] = data3['booking_year'].astype(int)\n",
            "C:\\Users\\swaytha\\AppData\\Local\\Temp\\ipykernel_16548\\1453022563.py:7: SettingWithCopyWarning: \n",
            "A value is trying to be set on a copy of a slice from a DataFrame.\n",
            "Try using .loc[row_indexer,col_indexer] = value instead\n",
            "\n",
            "See the caveats in the documentation: https://pandas.pydata.org/pandas-docs/stable/user_guide/indexing.html#returning-a-view-versus-a-copy\n",
            "  data3['booking_month'] = data3['booking_month'].astype(int)\n",
            "C:\\Users\\swaytha\\AppData\\Local\\Temp\\ipykernel_16548\\1453022563.py:8: SettingWithCopyWarning: \n",
            "A value is trying to be set on a copy of a slice from a DataFrame.\n",
            "Try using .loc[row_indexer,col_indexer] = value instead\n",
            "\n",
            "See the caveats in the documentation: https://pandas.pydata.org/pandas-docs/stable/user_guide/indexing.html#returning-a-view-versus-a-copy\n",
            "  data3['booking_day'] = data3['booking_day'].astype(int)\n",
            "C:\\Users\\swaytha\\AppData\\Local\\Temp\\ipykernel_16548\\1453022563.py:9: SettingWithCopyWarning: \n",
            "A value is trying to be set on a copy of a slice from a DataFrame.\n",
            "Try using .loc[row_indexer,col_indexer] = value instead\n",
            "\n",
            "See the caveats in the documentation: https://pandas.pydata.org/pandas-docs/stable/user_guide/indexing.html#returning-a-view-versus-a-copy\n",
            "  data3['booking_hour'] = data3['booking_hour'].astype(int)\n",
            "C:\\Users\\swaytha\\AppData\\Local\\Temp\\ipykernel_16548\\1453022563.py:10: SettingWithCopyWarning: \n",
            "A value is trying to be set on a copy of a slice from a DataFrame.\n",
            "Try using .loc[row_indexer,col_indexer] = value instead\n",
            "\n",
            "See the caveats in the documentation: https://pandas.pydata.org/pandas-docs/stable/user_guide/indexing.html#returning-a-view-versus-a-copy\n",
            "  data3['booking_minute'] = data3['booking_minute'].astype(int)\n",
            "C:\\Users\\swaytha\\AppData\\Local\\Temp\\ipykernel_16548\\1453022563.py:11: SettingWithCopyWarning: \n",
            "A value is trying to be set on a copy of a slice from a DataFrame.\n",
            "Try using .loc[row_indexer,col_indexer] = value instead\n",
            "\n",
            "See the caveats in the documentation: https://pandas.pydata.org/pandas-docs/stable/user_guide/indexing.html#returning-a-view-versus-a-copy\n",
            "  data3['hours_between_bookings_and_actual_pickup'] = data3['hours_between_bookings_and_actual_pickup'].astype(int)\n"
          ]
        }
      ],
      "source": [
        "data3['year'] = data3['year'].astype(int)\n",
        "data3['month'] = data3['month'].astype(int)\n",
        "data3['day'] = data3['day'].astype(int)\n",
        "data3['hour'] = data3['hour'].astype(int)\n",
        "data3['minute'] = data3['minute'].astype(int)\n",
        "data3['booking_year'] = data3['booking_year'].astype(int)\n",
        "data3['booking_month'] = data3['booking_month'].astype(int)\n",
        "data3['booking_day'] = data3['booking_day'].astype(int)\n",
        "data3['booking_hour'] = data3['booking_hour'].astype(int)\n",
        "data3['booking_minute'] = data3['booking_minute'].astype(int)\n",
        "data3['hours_between_bookings_and_actual_pickup'] = data3['hours_between_bookings_and_actual_pickup'].astype(int)"
      ]
    },
    {
      "cell_type": "code",
      "execution_count": 341,
      "metadata": {
        "colab": {
          "base_uri": "https://localhost:8080/",
          "height": 429
        },
        "id": "3G8IP6FKR2VL",
        "outputId": "7a7cb259-de5e-406c-ee3d-e22eb0f2f632"
      },
      "outputs": [
        {
          "data": {
            "text/html": [
              "<div>\n",
              "<style scoped>\n",
              "    .dataframe tbody tr th:only-of-type {\n",
              "        vertical-align: middle;\n",
              "    }\n",
              "\n",
              "    .dataframe tbody tr th {\n",
              "        vertical-align: top;\n",
              "    }\n",
              "\n",
              "    .dataframe thead th {\n",
              "        text-align: right;\n",
              "    }\n",
              "</style>\n",
              "<table border=\"1\" class=\"dataframe\">\n",
              "  <thead>\n",
              "    <tr style=\"text-align: right;\">\n",
              "      <th></th>\n",
              "      <th>package_id</th>\n",
              "      <th>from_area_id</th>\n",
              "      <th>from_date</th>\n",
              "      <th>online_booking</th>\n",
              "      <th>mobile_site_booking</th>\n",
              "      <th>booking_created</th>\n",
              "      <th>Car_Cancellation</th>\n",
              "      <th>year</th>\n",
              "      <th>month</th>\n",
              "      <th>day</th>\n",
              "      <th>...</th>\n",
              "      <th>time_of_day</th>\n",
              "      <th>day_type</th>\n",
              "      <th>booking_year</th>\n",
              "      <th>booking_month</th>\n",
              "      <th>booking_day</th>\n",
              "      <th>booking_hour</th>\n",
              "      <th>booking_minute</th>\n",
              "      <th>booking_day_of_week</th>\n",
              "      <th>booking_time_of_day</th>\n",
              "      <th>hours_between_bookings_and_actual_pickup</th>\n",
              "    </tr>\n",
              "  </thead>\n",
              "  <tbody>\n",
              "    <tr>\n",
              "      <th>8</th>\n",
              "      <td>2.0</td>\n",
              "      <td>46</td>\n",
              "      <td>2013-01-01 16:00:00</td>\n",
              "      <td>0</td>\n",
              "      <td>0</td>\n",
              "      <td>2013-01-01 09:44:00</td>\n",
              "      <td>0</td>\n",
              "      <td>2013</td>\n",
              "      <td>1</td>\n",
              "      <td>1</td>\n",
              "      <td>...</td>\n",
              "      <td>0</td>\n",
              "      <td>0</td>\n",
              "      <td>2013</td>\n",
              "      <td>1</td>\n",
              "      <td>1</td>\n",
              "      <td>9</td>\n",
              "      <td>44</td>\n",
              "      <td>5</td>\n",
              "      <td>2</td>\n",
              "      <td>0</td>\n",
              "    </tr>\n",
              "    <tr>\n",
              "      <th>20</th>\n",
              "      <td>2.0</td>\n",
              "      <td>27</td>\n",
              "      <td>2013-01-01 14:30:00</td>\n",
              "      <td>0</td>\n",
              "      <td>0</td>\n",
              "      <td>2013-01-01 12:52:00</td>\n",
              "      <td>0</td>\n",
              "      <td>2013</td>\n",
              "      <td>1</td>\n",
              "      <td>1</td>\n",
              "      <td>...</td>\n",
              "      <td>0</td>\n",
              "      <td>0</td>\n",
              "      <td>2013</td>\n",
              "      <td>1</td>\n",
              "      <td>1</td>\n",
              "      <td>12</td>\n",
              "      <td>52</td>\n",
              "      <td>5</td>\n",
              "      <td>0</td>\n",
              "      <td>0</td>\n",
              "    </tr>\n",
              "    <tr>\n",
              "      <th>23</th>\n",
              "      <td>1.0</td>\n",
              "      <td>25</td>\n",
              "      <td>2013-01-01 16:30:00</td>\n",
              "      <td>0</td>\n",
              "      <td>0</td>\n",
              "      <td>2013-01-01 14:39:00</td>\n",
              "      <td>0</td>\n",
              "      <td>2013</td>\n",
              "      <td>1</td>\n",
              "      <td>1</td>\n",
              "      <td>...</td>\n",
              "      <td>0</td>\n",
              "      <td>0</td>\n",
              "      <td>2013</td>\n",
              "      <td>1</td>\n",
              "      <td>1</td>\n",
              "      <td>14</td>\n",
              "      <td>39</td>\n",
              "      <td>5</td>\n",
              "      <td>0</td>\n",
              "      <td>0</td>\n",
              "    </tr>\n",
              "    <tr>\n",
              "      <th>34</th>\n",
              "      <td>1.0</td>\n",
              "      <td>26</td>\n",
              "      <td>2013-01-01 20:00:00</td>\n",
              "      <td>1</td>\n",
              "      <td>0</td>\n",
              "      <td>2013-01-01 17:25:00</td>\n",
              "      <td>0</td>\n",
              "      <td>2013</td>\n",
              "      <td>1</td>\n",
              "      <td>1</td>\n",
              "      <td>...</td>\n",
              "      <td>1</td>\n",
              "      <td>0</td>\n",
              "      <td>2013</td>\n",
              "      <td>1</td>\n",
              "      <td>1</td>\n",
              "      <td>17</td>\n",
              "      <td>25</td>\n",
              "      <td>5</td>\n",
              "      <td>1</td>\n",
              "      <td>0</td>\n",
              "    </tr>\n",
              "    <tr>\n",
              "      <th>47</th>\n",
              "      <td>2.0</td>\n",
              "      <td>110</td>\n",
              "      <td>2013-01-02 03:00:00</td>\n",
              "      <td>0</td>\n",
              "      <td>0</td>\n",
              "      <td>2013-01-01 19:37:00</td>\n",
              "      <td>0</td>\n",
              "      <td>2013</td>\n",
              "      <td>1</td>\n",
              "      <td>2</td>\n",
              "      <td>...</td>\n",
              "      <td>3</td>\n",
              "      <td>0</td>\n",
              "      <td>2013</td>\n",
              "      <td>1</td>\n",
              "      <td>1</td>\n",
              "      <td>19</td>\n",
              "      <td>37</td>\n",
              "      <td>5</td>\n",
              "      <td>1</td>\n",
              "      <td>1</td>\n",
              "    </tr>\n",
              "  </tbody>\n",
              "</table>\n",
              "<p>5 rows × 23 columns</p>\n",
              "</div>"
            ],
            "text/plain": [
              "    package_id  from_area_id           from_date  online_booking  \\\n",
              "8          2.0            46 2013-01-01 16:00:00               0   \n",
              "20         2.0            27 2013-01-01 14:30:00               0   \n",
              "23         1.0            25 2013-01-01 16:30:00               0   \n",
              "34         1.0            26 2013-01-01 20:00:00               1   \n",
              "47         2.0           110 2013-01-02 03:00:00               0   \n",
              "\n",
              "    mobile_site_booking     booking_created  Car_Cancellation  year  month  \\\n",
              "8                     0 2013-01-01 09:44:00                 0  2013      1   \n",
              "20                    0 2013-01-01 12:52:00                 0  2013      1   \n",
              "23                    0 2013-01-01 14:39:00                 0  2013      1   \n",
              "34                    0 2013-01-01 17:25:00                 0  2013      1   \n",
              "47                    0 2013-01-01 19:37:00                 0  2013      1   \n",
              "\n",
              "    day  ...  time_of_day  day_type  booking_year  booking_month  booking_day  \\\n",
              "8     1  ...            0         0          2013              1            1   \n",
              "20    1  ...            0         0          2013              1            1   \n",
              "23    1  ...            0         0          2013              1            1   \n",
              "34    1  ...            1         0          2013              1            1   \n",
              "47    2  ...            3         0          2013              1            1   \n",
              "\n",
              "    booking_hour  booking_minute  booking_day_of_week  booking_time_of_day  \\\n",
              "8              9              44                    5                    2   \n",
              "20            12              52                    5                    0   \n",
              "23            14              39                    5                    0   \n",
              "34            17              25                    5                    1   \n",
              "47            19              37                    5                    1   \n",
              "\n",
              "    hours_between_bookings_and_actual_pickup  \n",
              "8                                          0  \n",
              "20                                         0  \n",
              "23                                         0  \n",
              "34                                         0  \n",
              "47                                         1  \n",
              "\n",
              "[5 rows x 23 columns]"
            ]
          },
          "execution_count": 341,
          "metadata": {},
          "output_type": "execute_result"
        }
      ],
      "source": [
        "data3.head()"
      ]
    },
    {
      "cell_type": "code",
      "execution_count": 342,
      "metadata": {
        "colab": {
          "base_uri": "https://localhost:8080/"
        },
        "id": "m541sl_LZHuW",
        "outputId": "022d7fb3-ef98-4afe-9bf1-84d508e95594"
      },
      "outputs": [
        {
          "name": "stderr",
          "output_type": "stream",
          "text": [
            "C:\\Users\\swaytha\\AppData\\Local\\Temp\\ipykernel_16548\\2017099596.py:1: SettingWithCopyWarning: \n",
            "A value is trying to be set on a copy of a slice from a DataFrame\n",
            "\n",
            "See the caveats in the documentation: https://pandas.pydata.org/pandas-docs/stable/user_guide/indexing.html#returning-a-view-versus-a-copy\n",
            "  data3.drop(['from_date'], axis = 1, inplace = True)\n"
          ]
        }
      ],
      "source": [
        "data3.drop(['from_date'], axis = 1, inplace = True)"
      ]
    },
    {
      "cell_type": "code",
      "execution_count": 343,
      "metadata": {
        "colab": {
          "base_uri": "https://localhost:8080/"
        },
        "id": "OFQK4LMWV6fA",
        "outputId": "b1703fd6-fd88-4e36-f6c2-efce6d390502"
      },
      "outputs": [
        {
          "name": "stderr",
          "output_type": "stream",
          "text": [
            "C:\\Users\\swaytha\\AppData\\Local\\Temp\\ipykernel_16548\\1535795923.py:1: SettingWithCopyWarning: \n",
            "A value is trying to be set on a copy of a slice from a DataFrame\n",
            "\n",
            "See the caveats in the documentation: https://pandas.pydata.org/pandas-docs/stable/user_guide/indexing.html#returning-a-view-versus-a-copy\n",
            "  data3.drop(['booking_created'], axis = 1, inplace = True)\n"
          ]
        }
      ],
      "source": [
        "data3.drop(['booking_created'], axis = 1, inplace = True)"
      ]
    },
    {
      "cell_type": "code",
      "execution_count": 344,
      "metadata": {
        "id": "k6GWoR_HV6cK"
      },
      "outputs": [],
      "source": [
        "from_area_summary = data1.groupby('from_area_id').agg(\n",
        "    total_bookings=('Car_Cancellation', 'size'),\n",
        "    total_cancellations=('Car_Cancellation', 'sum')\n",
        ").reset_index()"
      ]
    },
    {
      "cell_type": "code",
      "execution_count": 345,
      "metadata": {
        "id": "SxxGUi7mV6MR"
      },
      "outputs": [],
      "source": [
        "from_area_summary['cancellation_rate'] = (\n",
        "    from_area_summary['total_cancellations'] / from_area_summary['total_bookings']\n",
        ")"
      ]
    },
    {
      "cell_type": "code",
      "execution_count": 346,
      "metadata": {
        "id": "yupQqI1W8ZYx"
      },
      "outputs": [],
      "source": [
        "def categorize_cancellation_rate(rate):\n",
        "    if rate == 0:\n",
        "        return 'Zero'\n",
        "    elif rate <= 0.33:\n",
        "        return 'Low'\n",
        "    elif rate <= 0.66:\n",
        "        return 'Medium'\n",
        "    else:\n",
        "        return 'High'"
      ]
    },
    {
      "cell_type": "code",
      "execution_count": 347,
      "metadata": {
        "id": "5_bqubAX8ZWO"
      },
      "outputs": [],
      "source": [
        "from_area_summary['cancellation_category'] = from_area_summary['cancellation_rate'].apply(categorize_cancellation_rate)"
      ]
    },
    {
      "cell_type": "code",
      "execution_count": 348,
      "metadata": {
        "id": "CBpu4UKD9FCP"
      },
      "outputs": [],
      "source": [
        "data1 = data1.merge(from_area_summary[['from_area_id', 'cancellation_category']], on='from_area_id', how='left', suffixes=('', '_from_area'))"
      ]
    },
    {
      "cell_type": "code",
      "execution_count": 349,
      "metadata": {
        "id": "UA2-pMjp8ZEZ"
      },
      "outputs": [],
      "source": [
        "from_area_summary = data2.groupby('from_area_id').agg(\n",
        "    total_bookings=('Car_Cancellation', 'size'),\n",
        "    total_cancellations=('Car_Cancellation', 'sum')\n",
        ").reset_index()"
      ]
    },
    {
      "cell_type": "code",
      "execution_count": 350,
      "metadata": {
        "id": "BDVMi_a_9ilp"
      },
      "outputs": [],
      "source": [
        "from_area_summary['cancellation_rate'] = (\n",
        "    from_area_summary['total_cancellations'] / from_area_summary['total_bookings']\n",
        ")"
      ]
    },
    {
      "cell_type": "code",
      "execution_count": 351,
      "metadata": {
        "id": "dgFx4ARD9ifw"
      },
      "outputs": [],
      "source": [
        "from_area_summary['cancellation_category'] = from_area_summary['cancellation_rate'].apply(categorize_cancellation_rate)"
      ]
    },
    {
      "cell_type": "code",
      "execution_count": 352,
      "metadata": {
        "id": "s2DGmNmS9idI"
      },
      "outputs": [],
      "source": [
        "data2 = data2.merge(from_area_summary[['from_area_id', 'cancellation_category']], on='from_area_id', how='left', suffixes=('', '_from_area'))"
      ]
    },
    {
      "cell_type": "code",
      "execution_count": 353,
      "metadata": {
        "id": "9YbrBrKG_SuU"
      },
      "outputs": [],
      "source": [
        "to_area_summary = data2.groupby('to_area_id').agg(\n",
        "    total_bookings=('Car_Cancellation', 'size'),\n",
        "    total_cancellations=('Car_Cancellation', 'sum')\n",
        ").reset_index()"
      ]
    },
    {
      "cell_type": "code",
      "execution_count": 354,
      "metadata": {
        "id": "h623_EmK_SjE"
      },
      "outputs": [],
      "source": [
        "to_area_summary['cancellation_rate'] = (\n",
        "    to_area_summary['total_cancellations'] / to_area_summary['total_bookings']\n",
        ")"
      ]
    },
    {
      "cell_type": "code",
      "execution_count": 355,
      "metadata": {
        "id": "sb7hrz5g_SZ7"
      },
      "outputs": [],
      "source": [
        "to_area_summary['cancellation_category'] = to_area_summary['cancellation_rate'].apply(categorize_cancellation_rate)"
      ]
    },
    {
      "cell_type": "code",
      "execution_count": 356,
      "metadata": {
        "id": "l96waQze_R0b"
      },
      "outputs": [],
      "source": [
        "data2 = data2.merge(to_area_summary[['to_area_id', 'cancellation_category']], on='to_area_id', how='left', suffixes=('', '_to_area'))"
      ]
    },
    {
      "cell_type": "code",
      "execution_count": 357,
      "metadata": {
        "id": "X6mzoTEd9ia4"
      },
      "outputs": [],
      "source": [
        "from_area_summary = data3.groupby('from_area_id').agg(\n",
        "    total_bookings=('Car_Cancellation', 'size'),\n",
        "    total_cancellations=('Car_Cancellation', 'sum')\n",
        ").reset_index()"
      ]
    },
    {
      "cell_type": "code",
      "execution_count": 358,
      "metadata": {
        "id": "0vSCqgmc9iYL"
      },
      "outputs": [],
      "source": [
        "from_area_summary['cancellation_rate'] = (\n",
        "    from_area_summary['total_cancellations'] / from_area_summary['total_bookings']\n",
        ")"
      ]
    },
    {
      "cell_type": "code",
      "execution_count": 359,
      "metadata": {
        "id": "G_d4QmE49iUp"
      },
      "outputs": [],
      "source": [
        "from_area_summary['cancellation_category'] = from_area_summary['cancellation_rate'].apply(categorize_cancellation_rate)"
      ]
    },
    {
      "cell_type": "code",
      "execution_count": 360,
      "metadata": {
        "id": "fjOeNOVv9srU"
      },
      "outputs": [],
      "source": [
        "data3 = data3.merge(from_area_summary[['from_area_id', 'cancellation_category']], on='from_area_id', how='left', suffixes=('', '_from_area'))"
      ]
    },
    {
      "cell_type": "code",
      "execution_count": 361,
      "metadata": {
        "id": "qK3lzmEBRgYf"
      },
      "outputs": [],
      "source": [
        "data1['cancellation_category'] = le.fit_transform(data1['cancellation_category'])\n",
        "data2['cancellation_category'] = le.fit_transform(data2['cancellation_category'])\n",
        "data2['cancellation_category_to_area'] = le.fit_transform(data2['cancellation_category_to_area'])\n",
        "data3['cancellation_category'] = le.fit_transform(data3['cancellation_category'])"
      ]
    },
    {
      "cell_type": "code",
      "execution_count": 362,
      "metadata": {
        "id": "16giDLansSk7"
      },
      "outputs": [],
      "source": [
        "route_city_summary = data1.groupby(['from_city_id', 'to_city_id']).agg(\n",
        "    total_bookings=('Car_Cancellation', 'size'),\n",
        "    total_cancellations=('Car_Cancellation', 'sum')\n",
        ").reset_index()\n",
        "\n",
        "route_city_summary['cancellation_rate'] = (\n",
        "    route_city_summary['total_cancellations'] / route_city_summary['total_bookings']\n",
        ")\n",
        "\n",
        "def categorize_cancellation_rate(rate):\n",
        "    if rate < 0.1:\n",
        "        return 'Low'\n",
        "    elif rate < 0.5:\n",
        "        return 'Medium'\n",
        "    else:\n",
        "        return 'High'\n",
        "\n",
        "route_city_summary['Cancellation_Volume'] = route_city_summary['cancellation_rate'].apply(categorize_cancellation_rate)\n",
        "\n",
        "data1 = pd.merge(\n",
        "    data1,\n",
        "    route_city_summary[['from_city_id', 'to_city_id', 'cancellation_rate', 'Cancellation_Volume']],\n",
        "    on=['from_city_id', 'to_city_id'],\n",
        "    how='left'\n",
        ")"
      ]
    },
    {
      "cell_type": "code",
      "execution_count": 363,
      "metadata": {
        "id": "_DQf2bxQwI4s"
      },
      "outputs": [],
      "source": [
        "data1['Cancellation_Volume'] = le.fit_transform(data1['Cancellation_Volume'])"
      ]
    },
    {
      "cell_type": "code",
      "execution_count": 364,
      "metadata": {
        "id": "MUK6iP8jtq0J"
      },
      "outputs": [],
      "source": [
        "route_area_summary = data2.groupby(['from_area_id', 'to_area_id']).agg(\n",
        "    total_bookings=('Car_Cancellation', 'size'),\n",
        "    total_cancellations=('Car_Cancellation', 'sum')\n",
        ").reset_index()\n",
        "\n",
        "route_area_summary['cancellation_rate'] = (\n",
        "    route_area_summary['total_cancellations'] / route_area_summary['total_bookings']\n",
        ")\n",
        "\n",
        "route_area_summary['cancellation_volume'] = route_area_summary['cancellation_rate'].apply(categorize_cancellation_rate)\n",
        "\n",
        "data2 = pd.merge(\n",
        "    data2,\n",
        "    route_area_summary[['from_area_id', 'to_area_id', 'cancellation_rate', 'cancellation_volume']],\n",
        "    on=['from_area_id', 'to_area_id'],\n",
        "    how='left'\n",
        ")"
      ]
    },
    {
      "cell_type": "code",
      "execution_count": 365,
      "metadata": {
        "id": "klMAbiD8wf2V"
      },
      "outputs": [],
      "source": [
        "data2['cancellation_volume'] = le.fit_transform(data2['cancellation_volume'])"
      ]
    },
    {
      "cell_type": "code",
      "execution_count": 366,
      "metadata": {
        "id": "my_LQZ7fitul"
      },
      "outputs": [],
      "source": [
        "from geopy.distance import geodesic\n",
        "\n",
        "def calculate_distance(row):\n",
        "    coords_1 = (row['from_lat'], row['from_long'])\n",
        "    coords_2 = (row['to_lat'], row['to_long'])\n",
        "    return geodesic(coords_1, coords_2).kilometers\n",
        "\n",
        "data2['distance_km'] = data2.apply(calculate_distance, axis=1)"
      ]
    },
    {
      "cell_type": "code",
      "execution_count": 367,
      "metadata": {
        "id": "pSjC10kSitsI"
      },
      "outputs": [],
      "source": [
        "from sklearn.ensemble import RandomForestClassifier\n",
        "from sklearn.model_selection import train_test_split\n",
        "from sklearn.metrics import accuracy_score, classification_report"
      ]
    },
    {
      "cell_type": "code",
      "execution_count": 368,
      "metadata": {
        "colab": {
          "base_uri": "https://localhost:8080/"
        },
        "id": "LV03hh2Ditph",
        "outputId": "13518902-f93c-4a25-f570-739db0b89e8c"
      },
      "outputs": [
        {
          "name": "stdout",
          "output_type": "stream",
          "text": [
            "Data1 - Accuracy: 0.9874213836477987\n",
            "Data1 - Classification Report:\n",
            "               precision    recall  f1-score   support\n",
            "\n",
            "           0       0.99      1.00      0.99       473\n",
            "           1       0.00      0.00      0.00         4\n",
            "\n",
            "    accuracy                           0.99       477\n",
            "   macro avg       0.50      0.50      0.50       477\n",
            "weighted avg       0.98      0.99      0.99       477\n",
            "\n"
          ]
        }
      ],
      "source": [
        "X1 = data1.drop('Car_Cancellation', axis=1)\n",
        "y1 = data1['Car_Cancellation']\n",
        "X_train1, X_test1, y_train1, y_test1 = train_test_split(X1, y1, test_size=0.3, random_state=42)\n",
        "model = RandomForestClassifier(random_state=42)\n",
        "model.fit(X_train1, y_train1)\n",
        "y_pred1 = model.predict(X_test1)\n",
        "print(\"Data1 - Accuracy:\", accuracy_score(y_test1, y_pred1))\n",
        "print(\"Data1 - Classification Report:\\n\", classification_report(y_test1, y_pred1))"
      ]
    },
    {
      "cell_type": "code",
      "execution_count": 369,
      "metadata": {
        "colab": {
          "base_uri": "https://localhost:8080/"
        },
        "id": "ap_pHlS2itmw",
        "outputId": "2af5bdc5-ec5e-43b3-d120-9fb1c6feb3d7"
      },
      "outputs": [
        {
          "name": "stdout",
          "output_type": "stream",
          "text": [
            "Data2 - Accuracy: 0.9400272161741835\n",
            "Data2 - Classification Report:\n",
            "               precision    recall  f1-score   support\n",
            "\n",
            "           0       0.96      0.98      0.97      9458\n",
            "           1       0.68      0.48      0.56       830\n",
            "\n",
            "    accuracy                           0.94     10288\n",
            "   macro avg       0.82      0.73      0.77     10288\n",
            "weighted avg       0.93      0.94      0.94     10288\n",
            "\n"
          ]
        }
      ],
      "source": [
        "X2 = data2.drop('Car_Cancellation', axis=1)\n",
        "y2 = data2['Car_Cancellation']\n",
        "\n",
        "X_train2, X_test2, y_train2, y_test2 = train_test_split(X2, y2, test_size=0.3, random_state=42)\n",
        "\n",
        "model.fit(X_train2, y_train2)\n",
        "y_pred2 = model.predict(X_test2)\n",
        "print(\"Data2 - Accuracy:\", accuracy_score(y_test2, y_pred2))\n",
        "print(\"Data2 - Classification Report:\\n\", classification_report(y_test2, y_pred2))"
      ]
    },
    {
      "cell_type": "code",
      "execution_count": 370,
      "metadata": {
        "colab": {
          "base_uri": "https://localhost:8080/"
        },
        "id": "6QRCU5Hyitj6",
        "outputId": "f74dc7a1-91e3-4af9-e4e8-24f12f429af1"
      },
      "outputs": [
        {
          "name": "stdout",
          "output_type": "stream",
          "text": [
            "Data3 - Accuracy: 0.9496688741721855\n",
            "Data3 - Classification Report:\n",
            "               precision    recall  f1-score   support\n",
            "\n",
            "           0       0.96      0.99      0.97      2157\n",
            "           1       0.38      0.09      0.15       108\n",
            "\n",
            "    accuracy                           0.95      2265\n",
            "   macro avg       0.67      0.54      0.56      2265\n",
            "weighted avg       0.93      0.95      0.93      2265\n",
            "\n"
          ]
        }
      ],
      "source": [
        "X3 = data3.drop('Car_Cancellation', axis=1)\n",
        "y3 = data3['Car_Cancellation']\n",
        "\n",
        "X_train3, X_test3, y_train3, y_test3 = train_test_split(X3, y3, test_size=0.3, random_state=42)\n",
        "\n",
        "model.fit(X_train3, y_train3)\n",
        "y_pred3 = model.predict(X_test3)\n",
        "print(\"Data3 - Accuracy:\", accuracy_score(y_test3, y_pred3))\n",
        "print(\"Data3 - Classification Report:\\n\", classification_report(y_test3, y_pred3))"
      ]
    }
  ],
  "metadata": {
    "colab": {
      "provenance": []
    },
    "kernelspec": {
      "display_name": "Python 3",
      "name": "python3"
    },
    "language_info": {
      "codemirror_mode": {
        "name": "ipython",
        "version": 3
      },
      "file_extension": ".py",
      "mimetype": "text/x-python",
      "name": "python",
      "nbconvert_exporter": "python",
      "pygments_lexer": "ipython3",
      "version": "3.12.4"
    }
  },
  "nbformat": 4,
  "nbformat_minor": 0
}
